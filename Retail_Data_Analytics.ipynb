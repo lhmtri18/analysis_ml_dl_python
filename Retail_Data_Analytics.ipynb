{
  "nbformat": 4,
  "nbformat_minor": 0,
  "metadata": {
    "colab": {
      "name": "Retail Data Analytics.ipynb",
      "provenance": [],
      "collapsed_sections": [],
      "authorship_tag": "ABX9TyO8a93BAAnT1P0cwg5DqJpZ",
      "include_colab_link": true
    },
    "kernelspec": {
      "name": "python3",
      "display_name": "Python 3"
    }
  },
  "cells": [
    {
      "cell_type": "markdown",
      "metadata": {
        "id": "view-in-github",
        "colab_type": "text"
      },
      "source": [
        "<a href=\"https://colab.research.google.com/github/lhmtri18/analysis_ml_dl_python/blob/master/Retail_Data_Analytics.ipynb\" target=\"_parent\"><img src=\"https://colab.research.google.com/assets/colab-badge.svg\" alt=\"Open In Colab\"/></a>"
      ]
    },
    {
      "cell_type": "markdown",
      "metadata": {
        "id": "ZOSvAiauCh0A",
        "colab_type": "text"
      },
      "source": [
        "Phân tích bộ dữ liệu **Retail Data Analytics** từ kaggle.com.\n",
        "Link dataset: https://www.kaggle.com/manjeetsingh/retaildataset"
      ]
    },
    {
      "cell_type": "markdown",
      "metadata": {
        "id": "gV_9vjM52Khp",
        "colab_type": "text"
      },
      "source": [
        "Tác giả: Lê Huỳnh Minh Trí\n",
        "\n",
        "University of Science, Ho Chi Minh"
      ]
    },
    {
      "cell_type": "markdown",
      "metadata": {
        "id": "z0seGDqRCwJc",
        "colab_type": "text"
      },
      "source": [
        "Mô tả dữ liệu( trích dẫn nguyên gốc)\n",
        "\n",
        "**Content**\n",
        "\n",
        "- You are provided with historical sales data for 45 stores located in different regions - each store contains a number of departments. The company also runs several promotional markdown events throughout the year. These markdowns precede prominent holidays, the four largest of which are the Super Bowl, Labor Day, Thanksgiving, and Christmas. The weeks including these holidays are weighted five times higher in the evaluation than non-holiday weeks.\n",
        "\n",
        "- Within the Excel Sheet, there are 3 Tabs – Stores, Features and Sales\n",
        "\n",
        " **Stores** \n",
        "\n",
        "Anonymized information about the 45 stores, indicating the type and size of store\n",
        "\n",
        "**Features**\n",
        "\n",
        "Contains additional data related to the store, department, and regional activity for the given dates.\n",
        "\n",
        "- Store - the store number\n",
        "- Date - the week\n",
        "- Temperature - average temperature in the region\n",
        "- Fuel_Price - cost of fuel in the region\n",
        "- MarkDown1-5 - anonymized data related to promotional markdowns. MarkDown data is only available after Nov 2011, and is not available for all stores all the time. Any missing value is marked with an NA\n",
        "- CPI - the consumer price index\n",
        "\n",
        "The Consumer Price Index (CPI) is a measure that examines the weighted average of prices of a basket of consumer goods and services, such as transportation, food, and medical care. It is calculated by taking price changes for each item in the predetermined basket of goods and averaging them. Changes in the CPI are used to assess price changes associated with the cost of living. The CPI is one of the most frequently used statistics for identifying periods of inflation or deflation.(https://www.investopedia.com/terms/c/consumerpriceindex.asp)\n",
        "\n",
        "\n",
        "\n",
        "- Unemployment - the unemployment rate\n",
        "- IsHoliday - whether the week is a special holiday week\n",
        "\n",
        "**Sales**\n",
        "\n",
        "Historical sales data, which covers to 2010-02-05 to 2012-11-01. Within this tab you will find the following fields:\n",
        "\n",
        "- Store - the store number\n",
        "- Dept - the department number\n",
        "- Date - the week\n",
        "- Weekly_Sales -  sales for the given department in the given store\n",
        "- IsHoliday - whether the week is a special holiday week"
      ]
    },
    {
      "cell_type": "markdown",
      "metadata": {
        "id": "-icME9enGc2U",
        "colab_type": "text"
      },
      "source": [
        "Load dataset from kaggle sử dụng kaggle API"
      ]
    },
    {
      "cell_type": "code",
      "metadata": {
        "id": "yGR-6zmDGClt",
        "colab_type": "code",
        "colab": {}
      },
      "source": [
        "! pip install -q kaggle\n",
        "from google.colab import files"
      ],
      "execution_count": 1,
      "outputs": []
    },
    {
      "cell_type": "code",
      "metadata": {
        "id": "GxLKHsQaGNpN",
        "colab_type": "code",
        "colab": {
          "resources": {
            "http://localhost:8080/nbextensions/google.colab/files.js": {
              "data": "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",
              "ok": true,
              "headers": [
                [
                  "content-type",
                  "application/javascript"
                ]
              ],
              "status": 200,
              "status_text": ""
            }
          },
          "base_uri": "https://localhost:8080/",
          "height": 91
        },
        "outputId": "7b5844d7-5ea3-4857-833e-1c3b2400ca5f"
      },
      "source": [
        "files.upload()"
      ],
      "execution_count": 2,
      "outputs": [
        {
          "output_type": "display_data",
          "data": {
            "text/html": [
              "\n",
              "     <input type=\"file\" id=\"files-91cace9f-f5b4-430d-9f85-c18a4937fd01\" name=\"files[]\" multiple disabled\n",
              "        style=\"border:none\" />\n",
              "     <output id=\"result-91cace9f-f5b4-430d-9f85-c18a4937fd01\">\n",
              "      Upload widget is only available when the cell has been executed in the\n",
              "      current browser session. Please rerun this cell to enable.\n",
              "      </output>\n",
              "      <script src=\"/nbextensions/google.colab/files.js\"></script> "
            ],
            "text/plain": [
              "<IPython.core.display.HTML object>"
            ]
          },
          "metadata": {
            "tags": []
          }
        },
        {
          "output_type": "stream",
          "text": [
            "Saving kaggle.json to kaggle.json\n"
          ],
          "name": "stdout"
        },
        {
          "output_type": "execute_result",
          "data": {
            "text/plain": [
              "{'kaggle.json': b'{\"username\":\"trlhunhminh\",\"key\":\"9193d2a2d5ae057c725abeaedf88abc8\"}'}"
            ]
          },
          "metadata": {
            "tags": []
          },
          "execution_count": 2
        }
      ]
    },
    {
      "cell_type": "code",
      "metadata": {
        "id": "ONYU8UjIGb6-",
        "colab_type": "code",
        "colab": {}
      },
      "source": [
        "! mkdir ~/.kaggle\n",
        "! cp kaggle.json ~/.kaggle/\n",
        "! chmod 600 ~/.kaggle/kaggle.json"
      ],
      "execution_count": 3,
      "outputs": []
    },
    {
      "cell_type": "code",
      "metadata": {
        "id": "MpCXg7c-Gqtt",
        "colab_type": "code",
        "colab": {
          "base_uri": "https://localhost:8080/",
          "height": 69
        },
        "outputId": "7c87fb5c-5717-4937-ddd5-801a53d7047c"
      },
      "source": [
        "!kaggle datasets download -d manjeetsingh/retaildataset"
      ],
      "execution_count": 4,
      "outputs": [
        {
          "output_type": "stream",
          "text": [
            "Downloading retaildataset.zip to /content\n",
            "\r  0% 0.00/3.11M [00:00<?, ?B/s]\n",
            "\r100% 3.11M/3.11M [00:00<00:00, 104MB/s]\n"
          ],
          "name": "stdout"
        }
      ]
    },
    {
      "cell_type": "code",
      "metadata": {
        "id": "CDs3h5DZLtFR",
        "colab_type": "code",
        "colab": {
          "base_uri": "https://localhost:8080/",
          "height": 35
        },
        "outputId": "311bbf74-ecd6-4aba-cea7-49347bb7d92a"
      },
      "source": [
        "from zipfile import ZipFile\n",
        "\n",
        "file_name='retaildataset.zip'\n",
        "with ZipFile(file_name,'r') as zip:\n",
        "  zip.extractall()\n",
        "  print('Done')"
      ],
      "execution_count": 5,
      "outputs": [
        {
          "output_type": "stream",
          "text": [
            "Done\n"
          ],
          "name": "stdout"
        }
      ]
    },
    {
      "cell_type": "code",
      "metadata": {
        "id": "ddavU2FJLy01",
        "colab_type": "code",
        "colab": {
          "base_uri": "https://localhost:8080/",
          "height": 355
        },
        "outputId": "fe6793ac-e4ce-4933-812c-f40ea0b3ea66"
      },
      "source": [
        "import pandas as pd\n",
        "features= pd.read_csv('/content/Features data set.csv')\n",
        "sales= pd.read_csv('/content/sales data-set.csv')\n",
        "stores = pd.read_csv('/content/stores data-set.csv')\n",
        "features.head(10)"
      ],
      "execution_count": 30,
      "outputs": [
        {
          "output_type": "execute_result",
          "data": {
            "text/html": [
              "<div>\n",
              "<style scoped>\n",
              "    .dataframe tbody tr th:only-of-type {\n",
              "        vertical-align: middle;\n",
              "    }\n",
              "\n",
              "    .dataframe tbody tr th {\n",
              "        vertical-align: top;\n",
              "    }\n",
              "\n",
              "    .dataframe thead th {\n",
              "        text-align: right;\n",
              "    }\n",
              "</style>\n",
              "<table border=\"1\" class=\"dataframe\">\n",
              "  <thead>\n",
              "    <tr style=\"text-align: right;\">\n",
              "      <th></th>\n",
              "      <th>Store</th>\n",
              "      <th>Date</th>\n",
              "      <th>Temperature</th>\n",
              "      <th>Fuel_Price</th>\n",
              "      <th>MarkDown1</th>\n",
              "      <th>MarkDown2</th>\n",
              "      <th>MarkDown3</th>\n",
              "      <th>MarkDown4</th>\n",
              "      <th>MarkDown5</th>\n",
              "      <th>CPI</th>\n",
              "      <th>Unemployment</th>\n",
              "      <th>IsHoliday</th>\n",
              "    </tr>\n",
              "  </thead>\n",
              "  <tbody>\n",
              "    <tr>\n",
              "      <th>0</th>\n",
              "      <td>1</td>\n",
              "      <td>05/02/2010</td>\n",
              "      <td>42.31</td>\n",
              "      <td>2.572</td>\n",
              "      <td>NaN</td>\n",
              "      <td>NaN</td>\n",
              "      <td>NaN</td>\n",
              "      <td>NaN</td>\n",
              "      <td>NaN</td>\n",
              "      <td>211.096358</td>\n",
              "      <td>8.106</td>\n",
              "      <td>False</td>\n",
              "    </tr>\n",
              "    <tr>\n",
              "      <th>1</th>\n",
              "      <td>1</td>\n",
              "      <td>12/02/2010</td>\n",
              "      <td>38.51</td>\n",
              "      <td>2.548</td>\n",
              "      <td>NaN</td>\n",
              "      <td>NaN</td>\n",
              "      <td>NaN</td>\n",
              "      <td>NaN</td>\n",
              "      <td>NaN</td>\n",
              "      <td>211.242170</td>\n",
              "      <td>8.106</td>\n",
              "      <td>True</td>\n",
              "    </tr>\n",
              "    <tr>\n",
              "      <th>2</th>\n",
              "      <td>1</td>\n",
              "      <td>19/02/2010</td>\n",
              "      <td>39.93</td>\n",
              "      <td>2.514</td>\n",
              "      <td>NaN</td>\n",
              "      <td>NaN</td>\n",
              "      <td>NaN</td>\n",
              "      <td>NaN</td>\n",
              "      <td>NaN</td>\n",
              "      <td>211.289143</td>\n",
              "      <td>8.106</td>\n",
              "      <td>False</td>\n",
              "    </tr>\n",
              "    <tr>\n",
              "      <th>3</th>\n",
              "      <td>1</td>\n",
              "      <td>26/02/2010</td>\n",
              "      <td>46.63</td>\n",
              "      <td>2.561</td>\n",
              "      <td>NaN</td>\n",
              "      <td>NaN</td>\n",
              "      <td>NaN</td>\n",
              "      <td>NaN</td>\n",
              "      <td>NaN</td>\n",
              "      <td>211.319643</td>\n",
              "      <td>8.106</td>\n",
              "      <td>False</td>\n",
              "    </tr>\n",
              "    <tr>\n",
              "      <th>4</th>\n",
              "      <td>1</td>\n",
              "      <td>05/03/2010</td>\n",
              "      <td>46.50</td>\n",
              "      <td>2.625</td>\n",
              "      <td>NaN</td>\n",
              "      <td>NaN</td>\n",
              "      <td>NaN</td>\n",
              "      <td>NaN</td>\n",
              "      <td>NaN</td>\n",
              "      <td>211.350143</td>\n",
              "      <td>8.106</td>\n",
              "      <td>False</td>\n",
              "    </tr>\n",
              "    <tr>\n",
              "      <th>5</th>\n",
              "      <td>1</td>\n",
              "      <td>12/03/2010</td>\n",
              "      <td>57.79</td>\n",
              "      <td>2.667</td>\n",
              "      <td>NaN</td>\n",
              "      <td>NaN</td>\n",
              "      <td>NaN</td>\n",
              "      <td>NaN</td>\n",
              "      <td>NaN</td>\n",
              "      <td>211.380643</td>\n",
              "      <td>8.106</td>\n",
              "      <td>False</td>\n",
              "    </tr>\n",
              "    <tr>\n",
              "      <th>6</th>\n",
              "      <td>1</td>\n",
              "      <td>19/03/2010</td>\n",
              "      <td>54.58</td>\n",
              "      <td>2.720</td>\n",
              "      <td>NaN</td>\n",
              "      <td>NaN</td>\n",
              "      <td>NaN</td>\n",
              "      <td>NaN</td>\n",
              "      <td>NaN</td>\n",
              "      <td>211.215635</td>\n",
              "      <td>8.106</td>\n",
              "      <td>False</td>\n",
              "    </tr>\n",
              "    <tr>\n",
              "      <th>7</th>\n",
              "      <td>1</td>\n",
              "      <td>26/03/2010</td>\n",
              "      <td>51.45</td>\n",
              "      <td>2.732</td>\n",
              "      <td>NaN</td>\n",
              "      <td>NaN</td>\n",
              "      <td>NaN</td>\n",
              "      <td>NaN</td>\n",
              "      <td>NaN</td>\n",
              "      <td>211.018042</td>\n",
              "      <td>8.106</td>\n",
              "      <td>False</td>\n",
              "    </tr>\n",
              "    <tr>\n",
              "      <th>8</th>\n",
              "      <td>1</td>\n",
              "      <td>02/04/2010</td>\n",
              "      <td>62.27</td>\n",
              "      <td>2.719</td>\n",
              "      <td>NaN</td>\n",
              "      <td>NaN</td>\n",
              "      <td>NaN</td>\n",
              "      <td>NaN</td>\n",
              "      <td>NaN</td>\n",
              "      <td>210.820450</td>\n",
              "      <td>7.808</td>\n",
              "      <td>False</td>\n",
              "    </tr>\n",
              "    <tr>\n",
              "      <th>9</th>\n",
              "      <td>1</td>\n",
              "      <td>09/04/2010</td>\n",
              "      <td>65.86</td>\n",
              "      <td>2.770</td>\n",
              "      <td>NaN</td>\n",
              "      <td>NaN</td>\n",
              "      <td>NaN</td>\n",
              "      <td>NaN</td>\n",
              "      <td>NaN</td>\n",
              "      <td>210.622857</td>\n",
              "      <td>7.808</td>\n",
              "      <td>False</td>\n",
              "    </tr>\n",
              "  </tbody>\n",
              "</table>\n",
              "</div>"
            ],
            "text/plain": [
              "   Store        Date  Temperature  ...         CPI  Unemployment  IsHoliday\n",
              "0      1  05/02/2010        42.31  ...  211.096358         8.106      False\n",
              "1      1  12/02/2010        38.51  ...  211.242170         8.106       True\n",
              "2      1  19/02/2010        39.93  ...  211.289143         8.106      False\n",
              "3      1  26/02/2010        46.63  ...  211.319643         8.106      False\n",
              "4      1  05/03/2010        46.50  ...  211.350143         8.106      False\n",
              "5      1  12/03/2010        57.79  ...  211.380643         8.106      False\n",
              "6      1  19/03/2010        54.58  ...  211.215635         8.106      False\n",
              "7      1  26/03/2010        51.45  ...  211.018042         8.106      False\n",
              "8      1  02/04/2010        62.27  ...  210.820450         7.808      False\n",
              "9      1  09/04/2010        65.86  ...  210.622857         7.808      False\n",
              "\n",
              "[10 rows x 12 columns]"
            ]
          },
          "metadata": {
            "tags": []
          },
          "execution_count": 30
        }
      ]
    },
    {
      "cell_type": "code",
      "metadata": {
        "id": "KSGdwulaMdVu",
        "colab_type": "code",
        "colab": {
          "base_uri": "https://localhost:8080/",
          "height": 355
        },
        "outputId": "d5a48603-a37c-4d53-fafe-6225119025fc"
      },
      "source": [
        "sales.head(10)"
      ],
      "execution_count": 31,
      "outputs": [
        {
          "output_type": "execute_result",
          "data": {
            "text/html": [
              "<div>\n",
              "<style scoped>\n",
              "    .dataframe tbody tr th:only-of-type {\n",
              "        vertical-align: middle;\n",
              "    }\n",
              "\n",
              "    .dataframe tbody tr th {\n",
              "        vertical-align: top;\n",
              "    }\n",
              "\n",
              "    .dataframe thead th {\n",
              "        text-align: right;\n",
              "    }\n",
              "</style>\n",
              "<table border=\"1\" class=\"dataframe\">\n",
              "  <thead>\n",
              "    <tr style=\"text-align: right;\">\n",
              "      <th></th>\n",
              "      <th>Store</th>\n",
              "      <th>Dept</th>\n",
              "      <th>Date</th>\n",
              "      <th>Weekly_Sales</th>\n",
              "      <th>IsHoliday</th>\n",
              "    </tr>\n",
              "  </thead>\n",
              "  <tbody>\n",
              "    <tr>\n",
              "      <th>0</th>\n",
              "      <td>1</td>\n",
              "      <td>1</td>\n",
              "      <td>05/02/2010</td>\n",
              "      <td>24924.50</td>\n",
              "      <td>False</td>\n",
              "    </tr>\n",
              "    <tr>\n",
              "      <th>1</th>\n",
              "      <td>1</td>\n",
              "      <td>1</td>\n",
              "      <td>12/02/2010</td>\n",
              "      <td>46039.49</td>\n",
              "      <td>True</td>\n",
              "    </tr>\n",
              "    <tr>\n",
              "      <th>2</th>\n",
              "      <td>1</td>\n",
              "      <td>1</td>\n",
              "      <td>19/02/2010</td>\n",
              "      <td>41595.55</td>\n",
              "      <td>False</td>\n",
              "    </tr>\n",
              "    <tr>\n",
              "      <th>3</th>\n",
              "      <td>1</td>\n",
              "      <td>1</td>\n",
              "      <td>26/02/2010</td>\n",
              "      <td>19403.54</td>\n",
              "      <td>False</td>\n",
              "    </tr>\n",
              "    <tr>\n",
              "      <th>4</th>\n",
              "      <td>1</td>\n",
              "      <td>1</td>\n",
              "      <td>05/03/2010</td>\n",
              "      <td>21827.90</td>\n",
              "      <td>False</td>\n",
              "    </tr>\n",
              "    <tr>\n",
              "      <th>5</th>\n",
              "      <td>1</td>\n",
              "      <td>1</td>\n",
              "      <td>12/03/2010</td>\n",
              "      <td>21043.39</td>\n",
              "      <td>False</td>\n",
              "    </tr>\n",
              "    <tr>\n",
              "      <th>6</th>\n",
              "      <td>1</td>\n",
              "      <td>1</td>\n",
              "      <td>19/03/2010</td>\n",
              "      <td>22136.64</td>\n",
              "      <td>False</td>\n",
              "    </tr>\n",
              "    <tr>\n",
              "      <th>7</th>\n",
              "      <td>1</td>\n",
              "      <td>1</td>\n",
              "      <td>26/03/2010</td>\n",
              "      <td>26229.21</td>\n",
              "      <td>False</td>\n",
              "    </tr>\n",
              "    <tr>\n",
              "      <th>8</th>\n",
              "      <td>1</td>\n",
              "      <td>1</td>\n",
              "      <td>02/04/2010</td>\n",
              "      <td>57258.43</td>\n",
              "      <td>False</td>\n",
              "    </tr>\n",
              "    <tr>\n",
              "      <th>9</th>\n",
              "      <td>1</td>\n",
              "      <td>1</td>\n",
              "      <td>09/04/2010</td>\n",
              "      <td>42960.91</td>\n",
              "      <td>False</td>\n",
              "    </tr>\n",
              "  </tbody>\n",
              "</table>\n",
              "</div>"
            ],
            "text/plain": [
              "   Store  Dept        Date  Weekly_Sales  IsHoliday\n",
              "0      1     1  05/02/2010      24924.50      False\n",
              "1      1     1  12/02/2010      46039.49       True\n",
              "2      1     1  19/02/2010      41595.55      False\n",
              "3      1     1  26/02/2010      19403.54      False\n",
              "4      1     1  05/03/2010      21827.90      False\n",
              "5      1     1  12/03/2010      21043.39      False\n",
              "6      1     1  19/03/2010      22136.64      False\n",
              "7      1     1  26/03/2010      26229.21      False\n",
              "8      1     1  02/04/2010      57258.43      False\n",
              "9      1     1  09/04/2010      42960.91      False"
            ]
          },
          "metadata": {
            "tags": []
          },
          "execution_count": 31
        }
      ]
    },
    {
      "cell_type": "code",
      "metadata": {
        "id": "WqMuwEypMgBk",
        "colab_type": "code",
        "colab": {
          "base_uri": "https://localhost:8080/",
          "height": 355
        },
        "outputId": "c16fc118-59f7-44b9-f10e-2576670752d3"
      },
      "source": [
        "stores.head(10)"
      ],
      "execution_count": 32,
      "outputs": [
        {
          "output_type": "execute_result",
          "data": {
            "text/html": [
              "<div>\n",
              "<style scoped>\n",
              "    .dataframe tbody tr th:only-of-type {\n",
              "        vertical-align: middle;\n",
              "    }\n",
              "\n",
              "    .dataframe tbody tr th {\n",
              "        vertical-align: top;\n",
              "    }\n",
              "\n",
              "    .dataframe thead th {\n",
              "        text-align: right;\n",
              "    }\n",
              "</style>\n",
              "<table border=\"1\" class=\"dataframe\">\n",
              "  <thead>\n",
              "    <tr style=\"text-align: right;\">\n",
              "      <th></th>\n",
              "      <th>Store</th>\n",
              "      <th>Type</th>\n",
              "      <th>Size</th>\n",
              "    </tr>\n",
              "  </thead>\n",
              "  <tbody>\n",
              "    <tr>\n",
              "      <th>0</th>\n",
              "      <td>1</td>\n",
              "      <td>A</td>\n",
              "      <td>151315</td>\n",
              "    </tr>\n",
              "    <tr>\n",
              "      <th>1</th>\n",
              "      <td>2</td>\n",
              "      <td>A</td>\n",
              "      <td>202307</td>\n",
              "    </tr>\n",
              "    <tr>\n",
              "      <th>2</th>\n",
              "      <td>3</td>\n",
              "      <td>B</td>\n",
              "      <td>37392</td>\n",
              "    </tr>\n",
              "    <tr>\n",
              "      <th>3</th>\n",
              "      <td>4</td>\n",
              "      <td>A</td>\n",
              "      <td>205863</td>\n",
              "    </tr>\n",
              "    <tr>\n",
              "      <th>4</th>\n",
              "      <td>5</td>\n",
              "      <td>B</td>\n",
              "      <td>34875</td>\n",
              "    </tr>\n",
              "    <tr>\n",
              "      <th>5</th>\n",
              "      <td>6</td>\n",
              "      <td>A</td>\n",
              "      <td>202505</td>\n",
              "    </tr>\n",
              "    <tr>\n",
              "      <th>6</th>\n",
              "      <td>7</td>\n",
              "      <td>B</td>\n",
              "      <td>70713</td>\n",
              "    </tr>\n",
              "    <tr>\n",
              "      <th>7</th>\n",
              "      <td>8</td>\n",
              "      <td>A</td>\n",
              "      <td>155078</td>\n",
              "    </tr>\n",
              "    <tr>\n",
              "      <th>8</th>\n",
              "      <td>9</td>\n",
              "      <td>B</td>\n",
              "      <td>125833</td>\n",
              "    </tr>\n",
              "    <tr>\n",
              "      <th>9</th>\n",
              "      <td>10</td>\n",
              "      <td>B</td>\n",
              "      <td>126512</td>\n",
              "    </tr>\n",
              "  </tbody>\n",
              "</table>\n",
              "</div>"
            ],
            "text/plain": [
              "   Store Type    Size\n",
              "0      1    A  151315\n",
              "1      2    A  202307\n",
              "2      3    B   37392\n",
              "3      4    A  205863\n",
              "4      5    B   34875\n",
              "5      6    A  202505\n",
              "6      7    B   70713\n",
              "7      8    A  155078\n",
              "8      9    B  125833\n",
              "9     10    B  126512"
            ]
          },
          "metadata": {
            "tags": []
          },
          "execution_count": 32
        }
      ]
    },
    {
      "cell_type": "code",
      "metadata": {
        "id": "-aaQNoALMrNU",
        "colab_type": "code",
        "colab": {
          "base_uri": "https://localhost:8080/",
          "height": 347
        },
        "outputId": "d2ea3d36-d484-4954-9064-1f03e5967b54"
      },
      "source": [
        "features.info()"
      ],
      "execution_count": 33,
      "outputs": [
        {
          "output_type": "stream",
          "text": [
            "<class 'pandas.core.frame.DataFrame'>\n",
            "RangeIndex: 8190 entries, 0 to 8189\n",
            "Data columns (total 12 columns):\n",
            " #   Column        Non-Null Count  Dtype  \n",
            "---  ------        --------------  -----  \n",
            " 0   Store         8190 non-null   int64  \n",
            " 1   Date          8190 non-null   object \n",
            " 2   Temperature   8190 non-null   float64\n",
            " 3   Fuel_Price    8190 non-null   float64\n",
            " 4   MarkDown1     4032 non-null   float64\n",
            " 5   MarkDown2     2921 non-null   float64\n",
            " 6   MarkDown3     3613 non-null   float64\n",
            " 7   MarkDown4     3464 non-null   float64\n",
            " 8   MarkDown5     4050 non-null   float64\n",
            " 9   CPI           7605 non-null   float64\n",
            " 10  Unemployment  7605 non-null   float64\n",
            " 11  IsHoliday     8190 non-null   bool   \n",
            "dtypes: bool(1), float64(9), int64(1), object(1)\n",
            "memory usage: 712.0+ KB\n"
          ],
          "name": "stdout"
        }
      ]
    },
    {
      "cell_type": "code",
      "metadata": {
        "id": "JENiREIkMrLd",
        "colab_type": "code",
        "colab": {
          "base_uri": "https://localhost:8080/",
          "height": 225
        },
        "outputId": "b4996c88-b084-4270-9aea-ee5c5ca40928"
      },
      "source": [
        "sales.info()"
      ],
      "execution_count": 34,
      "outputs": [
        {
          "output_type": "stream",
          "text": [
            "<class 'pandas.core.frame.DataFrame'>\n",
            "RangeIndex: 421570 entries, 0 to 421569\n",
            "Data columns (total 5 columns):\n",
            " #   Column        Non-Null Count   Dtype  \n",
            "---  ------        --------------   -----  \n",
            " 0   Store         421570 non-null  int64  \n",
            " 1   Dept          421570 non-null  int64  \n",
            " 2   Date          421570 non-null  object \n",
            " 3   Weekly_Sales  421570 non-null  float64\n",
            " 4   IsHoliday     421570 non-null  bool   \n",
            "dtypes: bool(1), float64(1), int64(2), object(1)\n",
            "memory usage: 13.3+ MB\n"
          ],
          "name": "stdout"
        }
      ]
    },
    {
      "cell_type": "code",
      "metadata": {
        "id": "jPW6PwIqMikS",
        "colab_type": "code",
        "colab": {
          "base_uri": "https://localhost:8080/",
          "height": 191
        },
        "outputId": "b048049b-5a83-453d-b59c-10388c35d10d"
      },
      "source": [
        "stores.info()"
      ],
      "execution_count": 35,
      "outputs": [
        {
          "output_type": "stream",
          "text": [
            "<class 'pandas.core.frame.DataFrame'>\n",
            "RangeIndex: 45 entries, 0 to 44\n",
            "Data columns (total 3 columns):\n",
            " #   Column  Non-Null Count  Dtype \n",
            "---  ------  --------------  ----- \n",
            " 0   Store   45 non-null     int64 \n",
            " 1   Type    45 non-null     object\n",
            " 2   Size    45 non-null     int64 \n",
            "dtypes: int64(2), object(1)\n",
            "memory usage: 1.2+ KB\n"
          ],
          "name": "stdout"
        }
      ]
    },
    {
      "cell_type": "markdown",
      "metadata": {
        "id": "iPDRep-pOdMr",
        "colab_type": "text"
      },
      "source": [
        "Chuyển ngày dạng chuỗi về dạng datetime trong python"
      ]
    },
    {
      "cell_type": "code",
      "metadata": {
        "id": "bqzACWutOHrZ",
        "colab_type": "code",
        "colab": {}
      },
      "source": [
        "features['Date'] = pd.to_datetime(features['Date'])\n",
        "sales['Date'] = pd.to_datetime(sales['Date'])"
      ],
      "execution_count": 36,
      "outputs": []
    },
    {
      "cell_type": "code",
      "metadata": {
        "id": "CWXWzCMAOSh3",
        "colab_type": "code",
        "colab": {
          "base_uri": "https://localhost:8080/",
          "height": 173
        },
        "outputId": "7ffabf34-abed-462d-80e9-41fb749b9bd5"
      },
      "source": [
        "print(features.shape)\n",
        "print(sales.shape)\n",
        "print(stores.shape)\n",
        "\n",
        "print(sales[0:1].Date, sales[-1:].Date)\n",
        "\n",
        "print(features[0:1].Date, features[-1:].Date)"
      ],
      "execution_count": 37,
      "outputs": [
        {
          "output_type": "stream",
          "text": [
            "(8190, 12)\n",
            "(421570, 5)\n",
            "(45, 3)\n",
            "0   2010-05-02\n",
            "Name: Date, dtype: datetime64[ns] 421569   2012-10-26\n",
            "Name: Date, dtype: datetime64[ns]\n",
            "0   2010-05-02\n",
            "Name: Date, dtype: datetime64[ns] 8189   2013-07-26\n",
            "Name: Date, dtype: datetime64[ns]\n"
          ],
          "name": "stdout"
        }
      ]
    },
    {
      "cell_type": "code",
      "metadata": {
        "id": "2eFOth4wPyWh",
        "colab_type": "code",
        "colab": {
          "base_uri": "https://localhost:8080/",
          "height": 35
        },
        "outputId": "283d91b9-16fb-403a-d9eb-7a66ebd4508c"
      },
      "source": [
        "print(features['Temperature'].max(),features['Temperature'].min())"
      ],
      "execution_count": 38,
      "outputs": [
        {
          "output_type": "stream",
          "text": [
            "101.95 -7.29\n"
          ],
          "name": "stdout"
        }
      ]
    },
    {
      "cell_type": "markdown",
      "metadata": {
        "id": "syS7T1mpe5UJ",
        "colab_type": "text"
      },
      "source": [
        "Group by Date cho bảng sales và features của tất cả các stores và depts"
      ]
    },
    {
      "cell_type": "code",
      "metadata": {
        "id": "W53tc8maWjZh",
        "colab_type": "code",
        "colab": {
          "base_uri": "https://localhost:8080/",
          "height": 233
        },
        "outputId": "5ff0e801-7aaf-45e6-c582-58e616c22972"
      },
      "source": [
        "features_by_date = features.groupby(\"Date\").agg({\"Temperature\":\"mean\"\n",
        "                                            ,\"Fuel_Price\":\"mean\"\n",
        "                                            ,\"IsHoliday\":\"sum\"\n",
        "                                            ,\"CPI\":\"mean\"\n",
        "                                           ,\"Unemployment\":\"mean\"})\n",
        "features_by_date= features_by_date.sort_index()\n",
        "features_by_date.tail(5)"
      ],
      "execution_count": 39,
      "outputs": [
        {
          "output_type": "execute_result",
          "data": {
            "text/html": [
              "<div>\n",
              "<style scoped>\n",
              "    .dataframe tbody tr th:only-of-type {\n",
              "        vertical-align: middle;\n",
              "    }\n",
              "\n",
              "    .dataframe tbody tr th {\n",
              "        vertical-align: top;\n",
              "    }\n",
              "\n",
              "    .dataframe thead th {\n",
              "        text-align: right;\n",
              "    }\n",
              "</style>\n",
              "<table border=\"1\" class=\"dataframe\">\n",
              "  <thead>\n",
              "    <tr style=\"text-align: right;\">\n",
              "      <th></th>\n",
              "      <th>Temperature</th>\n",
              "      <th>Fuel_Price</th>\n",
              "      <th>IsHoliday</th>\n",
              "      <th>CPI</th>\n",
              "      <th>Unemployment</th>\n",
              "    </tr>\n",
              "    <tr>\n",
              "      <th>Date</th>\n",
              "      <th></th>\n",
              "      <th></th>\n",
              "      <th></th>\n",
              "      <th></th>\n",
              "      <th></th>\n",
              "    </tr>\n",
              "  </thead>\n",
              "  <tbody>\n",
              "    <tr>\n",
              "      <th>2013-08-03</th>\n",
              "      <td>44.889111</td>\n",
              "      <td>3.775711</td>\n",
              "      <td>0.0</td>\n",
              "      <td>177.672434</td>\n",
              "      <td>6.876444</td>\n",
              "    </tr>\n",
              "    <tr>\n",
              "      <th>2013-10-05</th>\n",
              "      <td>62.092444</td>\n",
              "      <td>3.542822</td>\n",
              "      <td>0.0</td>\n",
              "      <td>NaN</td>\n",
              "      <td>NaN</td>\n",
              "    </tr>\n",
              "    <tr>\n",
              "      <th>2013-11-01</th>\n",
              "      <td>38.091556</td>\n",
              "      <td>3.377489</td>\n",
              "      <td>0.0</td>\n",
              "      <td>177.235667</td>\n",
              "      <td>6.876444</td>\n",
              "    </tr>\n",
              "    <tr>\n",
              "      <th>2013-12-04</th>\n",
              "      <td>55.050222</td>\n",
              "      <td>3.671044</td>\n",
              "      <td>0.0</td>\n",
              "      <td>177.990680</td>\n",
              "      <td>6.719244</td>\n",
              "    </tr>\n",
              "    <tr>\n",
              "      <th>2013-12-07</th>\n",
              "      <td>80.798667</td>\n",
              "      <td>3.568111</td>\n",
              "      <td>0.0</td>\n",
              "      <td>NaN</td>\n",
              "      <td>NaN</td>\n",
              "    </tr>\n",
              "  </tbody>\n",
              "</table>\n",
              "</div>"
            ],
            "text/plain": [
              "            Temperature  Fuel_Price  IsHoliday         CPI  Unemployment\n",
              "Date                                                                    \n",
              "2013-08-03    44.889111    3.775711        0.0  177.672434      6.876444\n",
              "2013-10-05    62.092444    3.542822        0.0         NaN           NaN\n",
              "2013-11-01    38.091556    3.377489        0.0  177.235667      6.876444\n",
              "2013-12-04    55.050222    3.671044        0.0  177.990680      6.719244\n",
              "2013-12-07    80.798667    3.568111        0.0         NaN           NaN"
            ]
          },
          "metadata": {
            "tags": []
          },
          "execution_count": 39
        }
      ]
    },
    {
      "cell_type": "code",
      "metadata": {
        "id": "JBHn6f31aHfD",
        "colab_type": "code",
        "colab": {
          "base_uri": "https://localhost:8080/",
          "height": 233
        },
        "outputId": "dc4a10c8-c670-4dae-eae1-33c98cf9ad0f"
      },
      "source": [
        "sales_by_date= sales.groupby(\"Date\").agg({\"Weekly_Sales\":\"sum\"})\n",
        "sales_by_date.sort_index(inplace=True)\n",
        "sales_by_date.head(5)"
      ],
      "execution_count": 40,
      "outputs": [
        {
          "output_type": "execute_result",
          "data": {
            "text/html": [
              "<div>\n",
              "<style scoped>\n",
              "    .dataframe tbody tr th:only-of-type {\n",
              "        vertical-align: middle;\n",
              "    }\n",
              "\n",
              "    .dataframe tbody tr th {\n",
              "        vertical-align: top;\n",
              "    }\n",
              "\n",
              "    .dataframe thead th {\n",
              "        text-align: right;\n",
              "    }\n",
              "</style>\n",
              "<table border=\"1\" class=\"dataframe\">\n",
              "  <thead>\n",
              "    <tr style=\"text-align: right;\">\n",
              "      <th></th>\n",
              "      <th>Weekly_Sales</th>\n",
              "    </tr>\n",
              "    <tr>\n",
              "      <th>Date</th>\n",
              "      <th></th>\n",
              "    </tr>\n",
              "  </thead>\n",
              "  <tbody>\n",
              "    <tr>\n",
              "      <th>2010-01-10</th>\n",
              "      <td>42239875.87</td>\n",
              "    </tr>\n",
              "    <tr>\n",
              "      <th>2010-02-04</th>\n",
              "      <td>50423831.26</td>\n",
              "    </tr>\n",
              "    <tr>\n",
              "      <th>2010-02-07</th>\n",
              "      <td>48917484.50</td>\n",
              "    </tr>\n",
              "    <tr>\n",
              "      <th>2010-02-19</th>\n",
              "      <td>48276993.78</td>\n",
              "    </tr>\n",
              "    <tr>\n",
              "      <th>2010-02-26</th>\n",
              "      <td>43968571.13</td>\n",
              "    </tr>\n",
              "  </tbody>\n",
              "</table>\n",
              "</div>"
            ],
            "text/plain": [
              "            Weekly_Sales\n",
              "Date                    \n",
              "2010-01-10   42239875.87\n",
              "2010-02-04   50423831.26\n",
              "2010-02-07   48917484.50\n",
              "2010-02-19   48276993.78\n",
              "2010-02-26   43968571.13"
            ]
          },
          "metadata": {
            "tags": []
          },
          "execution_count": 40
        }
      ]
    },
    {
      "cell_type": "code",
      "metadata": {
        "id": "7gfI_Bq-C-6X",
        "colab_type": "code",
        "colab": {
          "base_uri": "https://localhost:8080/",
          "height": 343
        },
        "outputId": "dc5aeefb-a83b-4b12-dd2d-859d10f68372"
      },
      "source": [
        "import seaborn as sns\n",
        "sns.distplot((sales.groupby(\"Date\").agg({\"Weekly_Sales\":\"sum\"}).Weekly_Sales).apply(int)).set_title('Distribution of sales by date')"
      ],
      "execution_count": 41,
      "outputs": [
        {
          "output_type": "execute_result",
          "data": {
            "text/plain": [
              "Text(0.5, 1.0, 'Distribution of sales by date')"
            ]
          },
          "metadata": {
            "tags": []
          },
          "execution_count": 41
        },
        {
          "output_type": "display_data",
          "data": {
            "image/png": "[encoded data removed]",
            "text/plain": [
              "<Figure size 432x288 with 1 Axes>"
            ]
          },
          "metadata": {
            "tags": []
          }
        }
      ]
    },
    {
      "cell_type": "markdown",
      "metadata": {
        "id": "heW18-h_EQ5y",
        "colab_type": "text"
      },
      "source": [
        "Với doanh thu của một shop thì phân phối này theo tôi khá là bình thường vì các ngày đặc biệt như ngày lễ thì doanh thu có thể gấp đôi so với ngày thường. Chưa kể đến sự khác biệt các loại cửa hàng và kích thước, vị trí của các cửa hàng khác nhau sẽ cho doanh thu khác nhau nên sự chênh lệch là có thể chấp nhận được."
      ]
    },
    {
      "cell_type": "markdown",
      "metadata": {
        "id": "9WP8vxBTfHGR",
        "colab_type": "text"
      },
      "source": [
        "Có sự các nhân tố bên ngoài và sales theo thời gian. Chúng ta có thể kiểm tra sự ảnh hưởng của các yếu tố bên ngoài lên số lượng sales của các shop"
      ]
    },
    {
      "cell_type": "code",
      "metadata": {
        "id": "4Hr8yeBrcKts",
        "colab_type": "code",
        "colab": {
          "base_uri": "https://localhost:8080/",
          "height": 233
        },
        "outputId": "677c8d7f-4dd3-4dbc-f7ad-d2c08639a841"
      },
      "source": [
        "temp_features_by_date= features_by_date[:'2012-12-10']\n",
        "sales_by_date.Weekly_Sales = sales_by_date.Weekly_Sales/1000000\n",
        "sales_by_date.Weekly_Sales = sales_by_date.Weekly_Sales.apply(int)\n",
        "data = pd.merge(sales_by_date, temp_features_by_date, left_index=True,right_index=True, how='left')\n",
        "data.head(5)"
      ],
      "execution_count": 42,
      "outputs": [
        {
          "output_type": "execute_result",
          "data": {
            "text/html": [
              "<div>\n",
              "<style scoped>\n",
              "    .dataframe tbody tr th:only-of-type {\n",
              "        vertical-align: middle;\n",
              "    }\n",
              "\n",
              "    .dataframe tbody tr th {\n",
              "        vertical-align: top;\n",
              "    }\n",
              "\n",
              "    .dataframe thead th {\n",
              "        text-align: right;\n",
              "    }\n",
              "</style>\n",
              "<table border=\"1\" class=\"dataframe\">\n",
              "  <thead>\n",
              "    <tr style=\"text-align: right;\">\n",
              "      <th></th>\n",
              "      <th>Weekly_Sales</th>\n",
              "      <th>Temperature</th>\n",
              "      <th>Fuel_Price</th>\n",
              "      <th>IsHoliday</th>\n",
              "      <th>CPI</th>\n",
              "      <th>Unemployment</th>\n",
              "    </tr>\n",
              "    <tr>\n",
              "      <th>Date</th>\n",
              "      <th></th>\n",
              "      <th></th>\n",
              "      <th></th>\n",
              "      <th></th>\n",
              "      <th></th>\n",
              "      <th></th>\n",
              "    </tr>\n",
              "  </thead>\n",
              "  <tbody>\n",
              "    <tr>\n",
              "      <th>2010-01-10</th>\n",
              "      <td>42</td>\n",
              "      <td>69.868000</td>\n",
              "      <td>2.734333</td>\n",
              "      <td>0.0</td>\n",
              "      <td>168.354706</td>\n",
              "      <td>8.475289</td>\n",
              "    </tr>\n",
              "    <tr>\n",
              "      <th>2010-02-04</th>\n",
              "      <td>50</td>\n",
              "      <td>53.120889</td>\n",
              "      <td>2.827333</td>\n",
              "      <td>0.0</td>\n",
              "      <td>167.789036</td>\n",
              "      <td>8.497711</td>\n",
              "    </tr>\n",
              "    <tr>\n",
              "      <th>2010-02-07</th>\n",
              "      <td>48</td>\n",
              "      <td>77.133333</td>\n",
              "      <td>2.793511</td>\n",
              "      <td>0.0</td>\n",
              "      <td>167.982101</td>\n",
              "      <td>8.428578</td>\n",
              "    </tr>\n",
              "    <tr>\n",
              "      <th>2010-02-19</th>\n",
              "      <td>48</td>\n",
              "      <td>37.719778</td>\n",
              "      <td>2.672067</td>\n",
              "      <td>0.0</td>\n",
              "      <td>167.871686</td>\n",
              "      <td>8.619311</td>\n",
              "    </tr>\n",
              "    <tr>\n",
              "      <th>2010-02-26</th>\n",
              "      <td>43</td>\n",
              "      <td>39.243556</td>\n",
              "      <td>2.683933</td>\n",
              "      <td>0.0</td>\n",
              "      <td>167.909657</td>\n",
              "      <td>8.619311</td>\n",
              "    </tr>\n",
              "  </tbody>\n",
              "</table>\n",
              "</div>"
            ],
            "text/plain": [
              "            Weekly_Sales  Temperature  ...         CPI  Unemployment\n",
              "Date                                   ...                          \n",
              "2010-01-10            42    69.868000  ...  168.354706      8.475289\n",
              "2010-02-04            50    53.120889  ...  167.789036      8.497711\n",
              "2010-02-07            48    77.133333  ...  167.982101      8.428578\n",
              "2010-02-19            48    37.719778  ...  167.871686      8.619311\n",
              "2010-02-26            43    39.243556  ...  167.909657      8.619311\n",
              "\n",
              "[5 rows x 6 columns]"
            ]
          },
          "metadata": {
            "tags": []
          },
          "execution_count": 42
        }
      ]
    },
    {
      "cell_type": "code",
      "metadata": {
        "id": "SigJvEGEebqk",
        "colab_type": "code",
        "colab": {}
      },
      "source": [
        "data[\"IsHoliday\"] = data[\"IsHoliday\"].apply(lambda x: True if x == 45.0 else False )"
      ],
      "execution_count": 43,
      "outputs": []
    },
    {
      "cell_type": "code",
      "metadata": {
        "id": "XsBPHhHLffoj",
        "colab_type": "code",
        "colab": {
          "base_uri": "https://localhost:8080/",
          "height": 625
        },
        "outputId": "0299bbd5-5fe9-4f53-d521-4208ffab104b"
      },
      "source": [
        "import matplotlib.pyplot as plt\n",
        "plt.style.use('fivethirtyeight')\n",
        "#plt.figure(figsize=(15,4))\n",
        "fig, ax = plt.subplots(5,1,figsize=(15,10),sharex=True) \n",
        "data[\"Weekly_Sales\"].plot(ax=ax[0],title=\"Weekly Sales/sales on Holiday\")\n",
        "data[data.IsHoliday==True][\"Weekly_Sales\"].plot(marker=\"D\",ax=ax[0],legend=\"Holiday Week sale\")\n",
        "data[\"Temperature\"].plot(ax=ax[1], title=\"Temperature\")\n",
        "data[\"Fuel_Price\"].plot(ax=ax[2],title=\"Fuel_Price\")\n",
        "data[\"CPI\"].plot(ax=ax[3],title=\"CPI\")\n",
        "data[\"Unemployment\"].plot(ax=ax[4],title=\"Unemployment\")"
      ],
      "execution_count": 44,
      "outputs": [
        {
          "output_type": "execute_result",
          "data": {
            "text/plain": [
              "<matplotlib.axes._subplots.AxesSubplot at 0x7f5e5cd18898>"
            ]
          },
          "metadata": {
            "tags": []
          },
          "execution_count": 44
        },
        {
          "output_type": "display_data",
          "data": {
            "image/png": "[encoded data removed]",
            "text/plain": [
              "<Figure size 1080x720 with 5 Axes>"
            ]
          },
          "metadata": {
            "tags": []
          }
        }
      ]
    },
    {
      "cell_type": "markdown",
      "metadata": {
        "id": "lFCgX8N4hRhu",
        "colab_type": "text"
      },
      "source": [
        "Qua biểu đồ phía trên ta có thể thấy được rằng sales (đường màu cam)tăng mạnh vào những tháng cuối năm. Tỉ lệ thất nghiệp(Unemployment) giảm qua các năm. CPI và Fuel Price tăng dần. Nhiệt độ thì theo dạng random walk, không có trend hay seasonality cụ thể."
      ]
    },
    {
      "cell_type": "code",
      "metadata": {
        "id": "p21mY0lfgu2s",
        "colab_type": "code",
        "colab": {
          "base_uri": "https://localhost:8080/",
          "height": 399
        },
        "outputId": "66073c30-cd98-4c1a-a840-494a50a6c2bf"
      },
      "source": [
        "import seaborn as sns\n",
        "sns.heatmap(data.corr(),annot=True)"
      ],
      "execution_count": 45,
      "outputs": [
        {
          "output_type": "execute_result",
          "data": {
            "text/plain": [
              "<matplotlib.axes._subplots.AxesSubplot at 0x7f5e5d1985c0>"
            ]
          },
          "metadata": {
            "tags": []
          },
          "execution_count": 45
        },
        {
          "output_type": "display_data",
          "data": {
            "image/png": "[encoded data removed]",
            "text/plain": [
              "<Figure size 432x288 with 2 Axes>"
            ]
          },
          "metadata": {
            "tags": []
          }
        }
      ]
    },
    {
      "cell_type": "markdown",
      "metadata": {
        "id": "3Y9KJCSYy6mi",
        "colab_type": "text"
      },
      "source": [
        "Có thể thấy có sự tương quan cao giữa CPI( chỉ số giá tiêu dùng) với Fuel_Price và Unemployment. Lý do có thể bởi vì chỉ số giá tiêu dùng là một chỉ tiêu tương đối phản ánh xu thế và mức độ biến động của giá bán lẻ hàng hóa tiêu dùng và dịch vụ dùng trong sinh hoạt của dân cư và các hộ gia đình. Bởi vậy nó được dùng để theo dõi sự thay đổi của chi phí sinh hoạt theo thời gian. Khi CPI tăng đồng nghĩa với việc mức giá trung bình tăng và ngược lại(https://vietnambiz.vn/chi-so-gia-tieu-dung-cpi-la-gi-y-nghia-va-cach-xay-dung-20190806091144265.htm). Do đó khi CPI tương quan thuận với Fuel Price vì khi giá xăng dầu tăng thì CPI cũng tăng và tương quan nghịch với tỉ lệ thất nghiệp vì chi phí sinh hoạt tăng thì có thể nhiều người sẽ kiếm công việc làm để trang trải chi phí cuộc sống nên có thể tỉ lệ thất nghiệp sẽ giảm. Tuy nhiên, chỉ số này thuộc về kinh tế khá nhiều nên tôi sẽ không đi sâu vào các chỉ số này ở bài phân tích này.\n",
        "Ngoài các sự tương quan mạnh trên thì có thể thấy là Sales không phụ thuộc vào các yếu tố nêu trên."
      ]
    },
    {
      "cell_type": "code",
      "metadata": {
        "id": "pLDkac36y6AT",
        "colab_type": "code",
        "colab": {
          "base_uri": "https://localhost:8080/",
          "height": 345
        },
        "outputId": "4aa3b69c-fec8-4fa7-aad8-b40b6f4218d1"
      },
      "source": [
        "sales_by_month= data.groupby(data.index.month).agg({\"Weekly_Sales\":\"sum\"})\n",
        "sales_by_month.plot(kind='bar')\n",
        "plt.title('Sales by Months')"
      ],
      "execution_count": 46,
      "outputs": [
        {
          "output_type": "execute_result",
          "data": {
            "text/plain": [
              "Text(0.5, 1.0, 'Sales by Months')"
            ]
          },
          "metadata": {
            "tags": []
          },
          "execution_count": 46
        },
        {
          "output_type": "display_data",
          "data": {
            "image/png": "[encoded data removed]",
            "text/plain": [
              "<Figure size 432x288 with 1 Axes>"
            ]
          },
          "metadata": {
            "tags": []
          }
        }
      ]
    },
    {
      "cell_type": "markdown",
      "metadata": {
        "id": "gHc56MU42N8e",
        "colab_type": "text"
      },
      "source": [
        "Có thể thấy rằng sales tăng mạnh vào tháng 4, 5, 10 và 12. Lý do vì vào những dịp cuối năm ở Mỹ, mọi người thường có những ngày hội mua sắm lớn như Chirstmas, Black Friday Sales hay là New Year. Còn vào tháng 4 có lượng sales lớn nhưng hiện tại tôi chưa đoán ra được lý do cụ thể. Có thể vào những năm data được ghi lại, tháng 6,7 có khủng hoảng hay thiên tai xảy ra nên vào tháng 4 5 mọi người mua đồ tích trữ làm sales tăng mạnh. Tôi nghĩ vậy :)"
      ]
    },
    {
      "cell_type": "code",
      "metadata": {
        "id": "z3GawZSX26nK",
        "colab_type": "code",
        "colab": {
          "base_uri": "https://localhost:8080/",
          "height": 363
        },
        "outputId": "19ae52e6-0f46-414b-c9f6-8a3e365d7540"
      },
      "source": [
        "sales_by_year = data.groupby(data.index.year).agg({\"Weekly_Sales\":\"sum\"})\n",
        "sales_by_year.plot(kind=\"bar\")\n",
        "plt.title(\"Sales by Year\")"
      ],
      "execution_count": 47,
      "outputs": [
        {
          "output_type": "execute_result",
          "data": {
            "text/plain": [
              "Text(0.5, 1.0, 'Sales by Year')"
            ]
          },
          "metadata": {
            "tags": []
          },
          "execution_count": 47
        },
        {
          "output_type": "display_data",
          "data": {
            "image/png": "[encoded data removed]",
            "text/plain": [
              "<Figure size 432x288 with 1 Axes>"
            ]
          },
          "metadata": {
            "tags": []
          }
        }
      ]
    },
    {
      "cell_type": "markdown",
      "metadata": {
        "id": "jL-9pJPGLZeY",
        "colab_type": "text"
      },
      "source": [
        "Thông qua biểu đồ bên trên, chúng ta rõ ràng có thể thấy được trong 3 năm từ 2010 đến 2012 thì sales 2011 là lớn nhất."
      ]
    },
    {
      "cell_type": "code",
      "metadata": {
        "id": "FSjpIK564XFx",
        "colab_type": "code",
        "colab": {
          "base_uri": "https://localhost:8080/",
          "height": 233
        },
        "outputId": "a2599146-f3ac-4542-eac4-5f1698d8f7ee"
      },
      "source": [
        "data.head()"
      ],
      "execution_count": 48,
      "outputs": [
        {
          "output_type": "execute_result",
          "data": {
            "text/html": [
              "<div>\n",
              "<style scoped>\n",
              "    .dataframe tbody tr th:only-of-type {\n",
              "        vertical-align: middle;\n",
              "    }\n",
              "\n",
              "    .dataframe tbody tr th {\n",
              "        vertical-align: top;\n",
              "    }\n",
              "\n",
              "    .dataframe thead th {\n",
              "        text-align: right;\n",
              "    }\n",
              "</style>\n",
              "<table border=\"1\" class=\"dataframe\">\n",
              "  <thead>\n",
              "    <tr style=\"text-align: right;\">\n",
              "      <th></th>\n",
              "      <th>Weekly_Sales</th>\n",
              "      <th>Temperature</th>\n",
              "      <th>Fuel_Price</th>\n",
              "      <th>IsHoliday</th>\n",
              "      <th>CPI</th>\n",
              "      <th>Unemployment</th>\n",
              "    </tr>\n",
              "    <tr>\n",
              "      <th>Date</th>\n",
              "      <th></th>\n",
              "      <th></th>\n",
              "      <th></th>\n",
              "      <th></th>\n",
              "      <th></th>\n",
              "      <th></th>\n",
              "    </tr>\n",
              "  </thead>\n",
              "  <tbody>\n",
              "    <tr>\n",
              "      <th>2010-01-10</th>\n",
              "      <td>42</td>\n",
              "      <td>69.868000</td>\n",
              "      <td>2.734333</td>\n",
              "      <td>False</td>\n",
              "      <td>168.354706</td>\n",
              "      <td>8.475289</td>\n",
              "    </tr>\n",
              "    <tr>\n",
              "      <th>2010-02-04</th>\n",
              "      <td>50</td>\n",
              "      <td>53.120889</td>\n",
              "      <td>2.827333</td>\n",
              "      <td>False</td>\n",
              "      <td>167.789036</td>\n",
              "      <td>8.497711</td>\n",
              "    </tr>\n",
              "    <tr>\n",
              "      <th>2010-02-07</th>\n",
              "      <td>48</td>\n",
              "      <td>77.133333</td>\n",
              "      <td>2.793511</td>\n",
              "      <td>False</td>\n",
              "      <td>167.982101</td>\n",
              "      <td>8.428578</td>\n",
              "    </tr>\n",
              "    <tr>\n",
              "      <th>2010-02-19</th>\n",
              "      <td>48</td>\n",
              "      <td>37.719778</td>\n",
              "      <td>2.672067</td>\n",
              "      <td>False</td>\n",
              "      <td>167.871686</td>\n",
              "      <td>8.619311</td>\n",
              "    </tr>\n",
              "    <tr>\n",
              "      <th>2010-02-26</th>\n",
              "      <td>43</td>\n",
              "      <td>39.243556</td>\n",
              "      <td>2.683933</td>\n",
              "      <td>False</td>\n",
              "      <td>167.909657</td>\n",
              "      <td>8.619311</td>\n",
              "    </tr>\n",
              "  </tbody>\n",
              "</table>\n",
              "</div>"
            ],
            "text/plain": [
              "            Weekly_Sales  Temperature  ...         CPI  Unemployment\n",
              "Date                                   ...                          \n",
              "2010-01-10            42    69.868000  ...  168.354706      8.475289\n",
              "2010-02-04            50    53.120889  ...  167.789036      8.497711\n",
              "2010-02-07            48    77.133333  ...  167.982101      8.428578\n",
              "2010-02-19            48    37.719778  ...  167.871686      8.619311\n",
              "2010-02-26            43    39.243556  ...  167.909657      8.619311\n",
              "\n",
              "[5 rows x 6 columns]"
            ]
          },
          "metadata": {
            "tags": []
          },
          "execution_count": 48
        }
      ]
    },
    {
      "cell_type": "code",
      "metadata": {
        "id": "-RvvWNj57a1g",
        "colab_type": "code",
        "colab": {}
      },
      "source": [
        "y = sales.groupby(\"Date\").agg({\"Weekly_Sales\":\"sum\"}).Weekly_Sales.apply(int).sort_index()\n",
        "y= y/100000"
      ],
      "execution_count": 49,
      "outputs": []
    },
    {
      "cell_type": "markdown",
      "metadata": {
        "id": "_m4zrIAsMZj2",
        "colab_type": "text"
      },
      "source": [
        "Phân tích chuỗi thời gian( **Time series analysis**) dựa trên sales\n"
      ]
    },
    {
      "cell_type": "code",
      "metadata": {
        "id": "AHSObzsUNOHi",
        "colab_type": "code",
        "colab": {
          "base_uri": "https://localhost:8080/",
          "height": 311
        },
        "outputId": "bb9d1db6-6462-4df7-829d-f04764c5bd08"
      },
      "source": [
        "y.plot()"
      ],
      "execution_count": 50,
      "outputs": [
        {
          "output_type": "execute_result",
          "data": {
            "text/plain": [
              "<matplotlib.axes._subplots.AxesSubplot at 0x7f5e5ca98b70>"
            ]
          },
          "metadata": {
            "tags": []
          },
          "execution_count": 50
        },
        {
          "output_type": "display_data",
          "data": {
            "image/png": "[encoded data removed]",
            "text/plain": [
              "<Figure size 432x288 with 1 Axes>"
            ]
          },
          "metadata": {
            "tags": []
          }
        }
      ]
    },
    {
      "cell_type": "markdown",
      "metadata": {
        "id": "72HaBLiCPPkk",
        "colab_type": "text"
      },
      "source": [
        "Có thể thấy rõ có tính Seasonality "
      ]
    },
    {
      "cell_type": "markdown",
      "metadata": {
        "id": "skBswtymPfyq",
        "colab_type": "text"
      },
      "source": [
        "Tiếp theo , chúng ta xét tính Stationary.\n",
        "(we can assume the series to be stationary if it has constant statistical properties over time and these properties can be:\n",
        "\n",
        "• constant mean\n",
        "\n",
        "• constant variance\n",
        "\n",
        "• an auto co-variance that does not depend on time.)\n",
        "trích dẫn từ \n",
        "\n",
        "https://medium.com/@stallonejacob/time-series-forecast-a-basic-introduction-using-python-414fcb963000\n",
        "**(1)**"
      ]
    },
    {
      "cell_type": "markdown",
      "metadata": {
        "id": "iNsDZSQ4Qh_f",
        "colab_type": "text"
      },
      "source": [
        "Dickey-fuller Test :This is one of the statistical tests for checking stationarity. First we consider the null hypothesis: the time series is non- stationary. The result from the rest will contain the test statistic and critical value for different confidence levels. The idea is to have Test statistics less than critical value, in this case we can reject the null hypothesis and say that this Time series is indeed stationary (the force is strong with this one !!) \n",
        "\n",
        "**trích từ (1)**\n",
        "\n",
        "Thông tin chi tiết về Dickey-fuller Test:\n",
        "\n",
        "http://www.real-statistics.com/time-series-analysis/stochastic-processes/dickey-fuller-test/"
      ]
    },
    {
      "cell_type": "code",
      "metadata": {
        "id": "XuOZxjmePUqg",
        "colab_type": "code",
        "colab": {}
      },
      "source": [
        "from statsmodels.tsa.stattools import adfuller\n",
        "import numpy as np\n",
        "def test_stationarity(timeseries):\n",
        "    pd.Series.rolling\n",
        "    #Determing rolling statistics\n",
        "    rolmean = timeseries.rolling(window=12).mean()\n",
        "    rolstd = timeseries.rolling(window=12).std()\n",
        "#Plot rolling statistics:\n",
        "    plt.plot(timeseries, color='blue',label='Original')\n",
        "    plt.plot(rolmean, color='red', label='Rolling Mean')\n",
        "    plt.plot(rolstd, color='black', label = 'Rolling Std')\n",
        "    plt.legend(loc='best')\n",
        "    plt.title('Rolling Mean & Standard Deviation')\n",
        "    plt.show()\n",
        "    #Perform Dickey-Fuller test:\n",
        "    print('Results of Dickey-Fuller Test:')\n",
        "    dftest = adfuller(timeseries, autolag='AIC')\n",
        "    dfoutput = pd.Series(dftest[0:4], index=['Test Statistic','p-value','#Lags Used','Number of Observations Used'])\n",
        "    for key,value in dftest[4].items():\n",
        "        dfoutput['Critical Value (%s)'%key] = value\n",
        "    print(dfoutput)"
      ],
      "execution_count": 54,
      "outputs": []
    },
    {
      "cell_type": "code",
      "metadata": {
        "id": "QqYuhJGpTqIJ",
        "colab_type": "code",
        "colab": {
          "base_uri": "https://localhost:8080/",
          "height": 459
        },
        "outputId": "c6a2bafd-af5f-40ab-b630-987469df2154"
      },
      "source": [
        "test_stationarity(y)"
      ],
      "execution_count": 55,
      "outputs": [
        {
          "output_type": "display_data",
          "data": {
            "image/png": "[encoded data removed]",
            "text/plain": [
              "<Figure size 432x288 with 1 Axes>"
            ]
          },
          "metadata": {
            "tags": []
          }
        },
        {
          "output_type": "stream",
          "text": [
            "Results of Dickey-Fuller Test:\n",
            "Test Statistic                -9.837722e+00\n",
            "p-value                        4.845103e-17\n",
            "#Lags Used                     0.000000e+00\n",
            "Number of Observations Used    1.420000e+02\n",
            "Critical Value (1%)           -3.477262e+00\n",
            "Critical Value (5%)           -2.882118e+00\n",
            "Critical Value (10%)          -2.577743e+00\n",
            "dtype: float64\n"
          ],
          "name": "stdout"
        }
      ]
    },
    {
      "cell_type": "markdown",
      "metadata": {
        "id": "Mf4WfQU9WJ08",
        "colab_type": "text"
      },
      "source": [
        "Vậy sales by dates là stationary bởi vì\n",
        "\n",
        "- Mean và std tương quan với nhau và có thể xem như không đổi theo thời gian\n",
        "\n",
        "- Dickey_Fuller Test : Test statistic < Critical value -> Reject Ho(ts is non-stationary) -> **Time series is stationary**\n"
      ]
    },
    {
      "cell_type": "code",
      "metadata": {
        "id": "O2RXJjZvW7nl",
        "colab_type": "code",
        "colab": {
          "base_uri": "https://localhost:8080/",
          "height": 299
        },
        "outputId": "ec6b4f10-0ae6-47f1-80c1-79c9d1681e78"
      },
      "source": [
        "plt.plot(np.log(y))"
      ],
      "execution_count": 56,
      "outputs": [
        {
          "output_type": "execute_result",
          "data": {
            "text/plain": [
              "[<matplotlib.lines.Line2D at 0x7f5e5c862c18>]"
            ]
          },
          "metadata": {
            "tags": []
          },
          "execution_count": 56
        },
        {
          "output_type": "display_data",
          "data": {
            "image/png": "[encoded data removed]",
            "text/plain": [
              "<Figure size 432x288 with 1 Axes>"
            ]
          },
          "metadata": {
            "tags": []
          }
        }
      ]
    },
    {
      "cell_type": "markdown",
      "metadata": {
        "id": "60ev5oMHaLG2",
        "colab_type": "text"
      },
      "source": [
        "Hàm log làm cho đồ thị mịn hơn, làm cho giá trị ở y-axis nhỏ hơn. Tuy nhiên, chưa làm giảm tính Seasonality"
      ]
    },
    {
      "cell_type": "code",
      "metadata": {
        "id": "GxRs77h9Y-bI",
        "colab_type": "code",
        "colab": {
          "base_uri": "https://localhost:8080/",
          "height": 459
        },
        "outputId": "81c1bb06-914b-41ff-9fe3-5fee4318743a"
      },
      "source": [
        "test_stationarity(np.log(y))"
      ],
      "execution_count": 57,
      "outputs": [
        {
          "output_type": "display_data",
          "data": {
            "image/png": "[encoded data removed]",
            "text/plain": [
              "<Figure size 432x288 with 1 Axes>"
            ]
          },
          "metadata": {
            "tags": []
          }
        },
        {
          "output_type": "stream",
          "text": [
            "Results of Dickey-Fuller Test:\n",
            "Test Statistic                -9.826764e+00\n",
            "p-value                        5.163009e-17\n",
            "#Lags Used                     0.000000e+00\n",
            "Number of Observations Used    1.420000e+02\n",
            "Critical Value (1%)           -3.477262e+00\n",
            "Critical Value (5%)           -2.882118e+00\n",
            "Critical Value (10%)          -2.577743e+00\n",
            "dtype: float64\n"
          ],
          "name": "stdout"
        }
      ]
    },
    {
      "cell_type": "markdown",
      "metadata": {
        "id": "aVetPrOsZJSr",
        "colab_type": "text"
      },
      "source": [
        "Sử dụng hàm log làm giảm đáng kể tính Trend, cũng như làm cho mean và std trở nên constant hơn qua thời gian. Qua đó , tăng tính stationary"
      ]
    },
    {
      "cell_type": "code",
      "metadata": {
        "id": "bTJIMfv2CfSb",
        "colab_type": "code",
        "colab": {
          "base_uri": "https://localhost:8080/",
          "height": 311
        },
        "outputId": "7947005f-50e4-4787-db1b-196e8f92b164"
      },
      "source": [
        "y.plot()"
      ],
      "execution_count": 58,
      "outputs": [
        {
          "output_type": "execute_result",
          "data": {
            "text/plain": [
              "<matplotlib.axes._subplots.AxesSubplot at 0x7f5e5c812978>"
            ]
          },
          "metadata": {
            "tags": []
          },
          "execution_count": 58
        },
        {
          "output_type": "display_data",
          "data": {
            "image/png": "[encoded data removed]",
            "text/plain": [
              "<Figure size 432x288 with 1 Axes>"
            ]
          },
          "metadata": {
            "tags": []
          }
        }
      ]
    },
    {
      "cell_type": "markdown",
      "metadata": {
        "id": "DZhwDlZKD9ff",
        "colab_type": "text"
      },
      "source": [
        "Dự đoán khá khớp với thực tế, nhưng có vẻ seasonality bị đến sớm ở kết quả dự đoán. Tuy nhiên, kết quả là chấp nhận được cho một mô hình tuyến tính."
      ]
    },
    {
      "cell_type": "code",
      "metadata": {
        "id": "XEQELWpLNObx",
        "colab_type": "code",
        "colab": {
          "base_uri": "https://localhost:8080/",
          "height": 233
        },
        "outputId": "1c6f69dc-2414-4f01-a5c6-f2ce2d22af7e"
      },
      "source": [
        "data_Store = features.groupby(\"Store\").agg({\"Temperature\":\"mean\",\"Fuel_Price\":\"mean\",\"IsHoliday\":\"sum\"})\n",
        "\n",
        "temp_store = sales.groupby(\"Store\").agg({\"Weekly_Sales\":\"sum\"})\n",
        "temp_store.Weekly_Sales = temp_store.Weekly_Sales/1000000\n",
        "temp_store.Weekly_Sales = temp_store.Weekly_Sales.apply(int)\n",
        "\n",
        "data_Store.head()"
      ],
      "execution_count": 59,
      "outputs": [
        {
          "output_type": "execute_result",
          "data": {
            "text/html": [
              "<div>\n",
              "<style scoped>\n",
              "    .dataframe tbody tr th:only-of-type {\n",
              "        vertical-align: middle;\n",
              "    }\n",
              "\n",
              "    .dataframe tbody tr th {\n",
              "        vertical-align: top;\n",
              "    }\n",
              "\n",
              "    .dataframe thead th {\n",
              "        text-align: right;\n",
              "    }\n",
              "</style>\n",
              "<table border=\"1\" class=\"dataframe\">\n",
              "  <thead>\n",
              "    <tr style=\"text-align: right;\">\n",
              "      <th></th>\n",
              "      <th>Temperature</th>\n",
              "      <th>Fuel_Price</th>\n",
              "      <th>IsHoliday</th>\n",
              "    </tr>\n",
              "    <tr>\n",
              "      <th>Store</th>\n",
              "      <th></th>\n",
              "      <th></th>\n",
              "      <th></th>\n",
              "    </tr>\n",
              "  </thead>\n",
              "  <tbody>\n",
              "    <tr>\n",
              "      <th>1</th>\n",
              "      <td>66.912033</td>\n",
              "      <td>3.259242</td>\n",
              "      <td>13.0</td>\n",
              "    </tr>\n",
              "    <tr>\n",
              "      <th>2</th>\n",
              "      <td>66.728407</td>\n",
              "      <td>3.259242</td>\n",
              "      <td>13.0</td>\n",
              "    </tr>\n",
              "    <tr>\n",
              "      <th>3</th>\n",
              "      <td>70.394176</td>\n",
              "      <td>3.259242</td>\n",
              "      <td>13.0</td>\n",
              "    </tr>\n",
              "    <tr>\n",
              "      <th>4</th>\n",
              "      <td>61.416648</td>\n",
              "      <td>3.254885</td>\n",
              "      <td>13.0</td>\n",
              "    </tr>\n",
              "    <tr>\n",
              "      <th>5</th>\n",
              "      <td>68.224505</td>\n",
              "      <td>3.259242</td>\n",
              "      <td>13.0</td>\n",
              "    </tr>\n",
              "  </tbody>\n",
              "</table>\n",
              "</div>"
            ],
            "text/plain": [
              "       Temperature  Fuel_Price  IsHoliday\n",
              "Store                                    \n",
              "1        66.912033    3.259242       13.0\n",
              "2        66.728407    3.259242       13.0\n",
              "3        70.394176    3.259242       13.0\n",
              "4        61.416648    3.254885       13.0\n",
              "5        68.224505    3.259242       13.0"
            ]
          },
          "metadata": {
            "tags": []
          },
          "execution_count": 59
        }
      ]
    },
    {
      "cell_type": "code",
      "metadata": {
        "id": "7qf1Z9APP4AD",
        "colab_type": "code",
        "colab": {
          "base_uri": "https://localhost:8080/",
          "height": 202
        },
        "outputId": "5f1e1042-b2e6-4e8b-b5ad-8866b57a183c"
      },
      "source": [
        "import numpy as np\n",
        "data_Store.set_index(np.arange(0,45),inplace=True)\n",
        "original_stores= stores.copy()\n",
        "stores[\"temp\"] = data_Store.Temperature\n",
        "stores[\"Fuel_Price\"] = data_Store.Fuel_Price\n",
        "stores[\"holiday\"] = data_Store.IsHoliday\n",
        "stores[\"Weekly_Sales\"] = temp_store.Weekly_Sales\n",
        "stores.head()"
      ],
      "execution_count": 60,
      "outputs": [
        {
          "output_type": "execute_result",
          "data": {
            "text/html": [
              "<div>\n",
              "<style scoped>\n",
              "    .dataframe tbody tr th:only-of-type {\n",
              "        vertical-align: middle;\n",
              "    }\n",
              "\n",
              "    .dataframe tbody tr th {\n",
              "        vertical-align: top;\n",
              "    }\n",
              "\n",
              "    .dataframe thead th {\n",
              "        text-align: right;\n",
              "    }\n",
              "</style>\n",
              "<table border=\"1\" class=\"dataframe\">\n",
              "  <thead>\n",
              "    <tr style=\"text-align: right;\">\n",
              "      <th></th>\n",
              "      <th>Store</th>\n",
              "      <th>Type</th>\n",
              "      <th>Size</th>\n",
              "      <th>temp</th>\n",
              "      <th>Fuel_Price</th>\n",
              "      <th>holiday</th>\n",
              "      <th>Weekly_Sales</th>\n",
              "    </tr>\n",
              "  </thead>\n",
              "  <tbody>\n",
              "    <tr>\n",
              "      <th>0</th>\n",
              "      <td>1</td>\n",
              "      <td>A</td>\n",
              "      <td>151315</td>\n",
              "      <td>66.912033</td>\n",
              "      <td>3.259242</td>\n",
              "      <td>13.0</td>\n",
              "      <td>NaN</td>\n",
              "    </tr>\n",
              "    <tr>\n",
              "      <th>1</th>\n",
              "      <td>2</td>\n",
              "      <td>A</td>\n",
              "      <td>202307</td>\n",
              "      <td>66.728407</td>\n",
              "      <td>3.259242</td>\n",
              "      <td>13.0</td>\n",
              "      <td>222.0</td>\n",
              "    </tr>\n",
              "    <tr>\n",
              "      <th>2</th>\n",
              "      <td>3</td>\n",
              "      <td>B</td>\n",
              "      <td>37392</td>\n",
              "      <td>70.394176</td>\n",
              "      <td>3.259242</td>\n",
              "      <td>13.0</td>\n",
              "      <td>275.0</td>\n",
              "    </tr>\n",
              "    <tr>\n",
              "      <th>3</th>\n",
              "      <td>4</td>\n",
              "      <td>A</td>\n",
              "      <td>205863</td>\n",
              "      <td>61.416648</td>\n",
              "      <td>3.254885</td>\n",
              "      <td>13.0</td>\n",
              "      <td>57.0</td>\n",
              "    </tr>\n",
              "    <tr>\n",
              "      <th>4</th>\n",
              "      <td>5</td>\n",
              "      <td>B</td>\n",
              "      <td>34875</td>\n",
              "      <td>68.224505</td>\n",
              "      <td>3.259242</td>\n",
              "      <td>13.0</td>\n",
              "      <td>299.0</td>\n",
              "    </tr>\n",
              "  </tbody>\n",
              "</table>\n",
              "</div>"
            ],
            "text/plain": [
              "   Store Type    Size       temp  Fuel_Price  holiday  Weekly_Sales\n",
              "0      1    A  151315  66.912033    3.259242     13.0           NaN\n",
              "1      2    A  202307  66.728407    3.259242     13.0         222.0\n",
              "2      3    B   37392  70.394176    3.259242     13.0         275.0\n",
              "3      4    A  205863  61.416648    3.254885     13.0          57.0\n",
              "4      5    B   34875  68.224505    3.259242     13.0         299.0"
            ]
          },
          "metadata": {
            "tags": []
          },
          "execution_count": 60
        }
      ]
    },
    {
      "cell_type": "code",
      "metadata": {
        "id": "cAxmE3yxQkrn",
        "colab_type": "code",
        "colab": {
          "base_uri": "https://localhost:8080/",
          "height": 294
        },
        "outputId": "20b93772-5381-481b-ef01-49a91431a2ad"
      },
      "source": [
        "stores.describe()"
      ],
      "execution_count": 62,
      "outputs": [
        {
          "output_type": "execute_result",
          "data": {
            "text/html": [
              "<div>\n",
              "<style scoped>\n",
              "    .dataframe tbody tr th:only-of-type {\n",
              "        vertical-align: middle;\n",
              "    }\n",
              "\n",
              "    .dataframe tbody tr th {\n",
              "        vertical-align: top;\n",
              "    }\n",
              "\n",
              "    .dataframe thead th {\n",
              "        text-align: right;\n",
              "    }\n",
              "</style>\n",
              "<table border=\"1\" class=\"dataframe\">\n",
              "  <thead>\n",
              "    <tr style=\"text-align: right;\">\n",
              "      <th></th>\n",
              "      <th>Store</th>\n",
              "      <th>Size</th>\n",
              "      <th>temp</th>\n",
              "      <th>Fuel_Price</th>\n",
              "      <th>holiday</th>\n",
              "      <th>Weekly_Sales</th>\n",
              "    </tr>\n",
              "  </thead>\n",
              "  <tbody>\n",
              "    <tr>\n",
              "      <th>count</th>\n",
              "      <td>45.000000</td>\n",
              "      <td>45.000000</td>\n",
              "      <td>45.000000</td>\n",
              "      <td>45.000000</td>\n",
              "      <td>45.0</td>\n",
              "      <td>44.000000</td>\n",
              "    </tr>\n",
              "    <tr>\n",
              "      <th>mean</th>\n",
              "      <td>23.000000</td>\n",
              "      <td>130287.600000</td>\n",
              "      <td>59.356198</td>\n",
              "      <td>3.405992</td>\n",
              "      <td>13.0</td>\n",
              "      <td>150.090909</td>\n",
              "    </tr>\n",
              "    <tr>\n",
              "      <th>std</th>\n",
              "      <td>13.133926</td>\n",
              "      <td>63825.271991</td>\n",
              "      <td>9.956122</td>\n",
              "      <td>0.153935</td>\n",
              "      <td>0.0</td>\n",
              "      <td>78.780478</td>\n",
              "    </tr>\n",
              "    <tr>\n",
              "      <th>min</th>\n",
              "      <td>1.000000</td>\n",
              "      <td>34875.000000</td>\n",
              "      <td>37.921264</td>\n",
              "      <td>3.245945</td>\n",
              "      <td>13.0</td>\n",
              "      <td>37.000000</td>\n",
              "    </tr>\n",
              "    <tr>\n",
              "      <th>25%</th>\n",
              "      <td>12.000000</td>\n",
              "      <td>70713.000000</td>\n",
              "      <td>51.866319</td>\n",
              "      <td>3.259242</td>\n",
              "      <td>13.0</td>\n",
              "      <td>78.500000</td>\n",
              "    </tr>\n",
              "    <tr>\n",
              "      <th>50%</th>\n",
              "      <td>23.000000</td>\n",
              "      <td>126512.000000</td>\n",
              "      <td>58.107912</td>\n",
              "      <td>3.328764</td>\n",
              "      <td>13.0</td>\n",
              "      <td>140.500000</td>\n",
              "    </tr>\n",
              "    <tr>\n",
              "      <th>75%</th>\n",
              "      <td>34.000000</td>\n",
              "      <td>202307.000000</td>\n",
              "      <td>68.504670</td>\n",
              "      <td>3.497874</td>\n",
              "      <td>13.0</td>\n",
              "      <td>200.750000</td>\n",
              "    </tr>\n",
              "    <tr>\n",
              "      <th>max</th>\n",
              "      <td>45.000000</td>\n",
              "      <td>219622.000000</td>\n",
              "      <td>75.438077</td>\n",
              "      <td>3.643654</td>\n",
              "      <td>13.0</td>\n",
              "      <td>301.000000</td>\n",
              "    </tr>\n",
              "  </tbody>\n",
              "</table>\n",
              "</div>"
            ],
            "text/plain": [
              "           Store           Size       temp  Fuel_Price  holiday  Weekly_Sales\n",
              "count  45.000000      45.000000  45.000000   45.000000     45.0     44.000000\n",
              "mean   23.000000  130287.600000  59.356198    3.405992     13.0    150.090909\n",
              "std    13.133926   63825.271991   9.956122    0.153935      0.0     78.780478\n",
              "min     1.000000   34875.000000  37.921264    3.245945     13.0     37.000000\n",
              "25%    12.000000   70713.000000  51.866319    3.259242     13.0     78.500000\n",
              "50%    23.000000  126512.000000  58.107912    3.328764     13.0    140.500000\n",
              "75%    34.000000  202307.000000  68.504670    3.497874     13.0    200.750000\n",
              "max    45.000000  219622.000000  75.438077    3.643654     13.0    301.000000"
            ]
          },
          "metadata": {
            "tags": []
          },
          "execution_count": 62
        }
      ]
    },
    {
      "cell_type": "code",
      "metadata": {
        "id": "5XFyh9vljve6",
        "colab_type": "code",
        "colab": {
          "base_uri": "https://localhost:8080/",
          "height": 321
        },
        "outputId": "66119775-5ef7-4e2d-c2d6-429ced1858b8"
      },
      "source": [
        "fig,ax = plt.subplots(1,3,figsize=(15, 4))\n",
        "sns.countplot(stores.Type,ax=ax[0])\n",
        "sns.swarmplot(data = stores,y=\"Size\",x=\"Type\",ax=ax[1])\n",
        "sns.boxplot(data = stores,y=\"Weekly_Sales\",x=\"Type\",ax=ax[2])"
      ],
      "execution_count": 61,
      "outputs": [
        {
          "output_type": "execute_result",
          "data": {
            "text/plain": [
              "<matplotlib.axes._subplots.AxesSubplot at 0x7f5e5c71f908>"
            ]
          },
          "metadata": {
            "tags": []
          },
          "execution_count": 61
        },
        {
          "output_type": "display_data",
          "data": {
            "image/png": "[encoded data removed]",
            "text/plain": [
              "<Figure size 1080x288 with 3 Axes>"
            ]
          },
          "metadata": {
            "tags": []
          }
        }
      ]
    },
    {
      "cell_type": "markdown",
      "metadata": {
        "id": "2wecVvpalR-z",
        "colab_type": "text"
      },
      "source": [
        "Qua biểu đồ, chúng ta có thể thấy rằng số lượng cửa hàng loại A chiếm nhiều nhất, kế đến là loại B và cuối cùng là loại C. Tuy nhiên, cửa hàng loại A chiếm nhiều nhất và kích thước cửa hàng thường lớn chiếm rất nhiều nhưng trung bình doanh số sales lại nhỏ hơn cửa hàng loại B và max sales cũng nhỏ hơn cửa hàng loại B. Bên cạnh đó chúng ta có thể thấy điều hiển nhiên là do cửa hàng loại C ít và size cũng nhỏ( biểu đồ 2) nên doanh số sales cửa hàng loại C nhỏ là điều hiển nhiên có thể nhìn thấy. "
      ]
    },
    {
      "cell_type": "markdown",
      "metadata": {
        "id": "QSasvShunuJE",
        "colab_type": "text"
      },
      "source": [
        "Phân tích dựa trên tiêu chí Department"
      ]
    },
    {
      "cell_type": "code",
      "metadata": {
        "id": "pytjjfl0nIUR",
        "colab_type": "code",
        "colab": {
          "base_uri": "https://localhost:8080/",
          "height": 446
        },
        "outputId": "b72c1840-dd73-4068-e9ff-ba30c9b82302"
      },
      "source": [
        "data_Dept = sales.groupby(\"Dept\").agg({\"Weekly_Sales\":\"sum\"})\n",
        "data_Dept.Weekly_Sales = data_Dept.Weekly_Sales/10000\n",
        "data_Dept.Weekly_Sales = data_Dept.Weekly_Sales.apply(int)\n",
        "data_Dept.sort_values(by=\"Weekly_Sales\")"
      ],
      "execution_count": 63,
      "outputs": [
        {
          "output_type": "execute_result",
          "data": {
            "text/html": [
              "<div>\n",
              "<style scoped>\n",
              "    .dataframe tbody tr th:only-of-type {\n",
              "        vertical-align: middle;\n",
              "    }\n",
              "\n",
              "    .dataframe tbody tr th {\n",
              "        vertical-align: top;\n",
              "    }\n",
              "\n",
              "    .dataframe thead th {\n",
              "        text-align: right;\n",
              "    }\n",
              "</style>\n",
              "<table border=\"1\" class=\"dataframe\">\n",
              "  <thead>\n",
              "    <tr style=\"text-align: right;\">\n",
              "      <th></th>\n",
              "      <th>Weekly_Sales</th>\n",
              "    </tr>\n",
              "    <tr>\n",
              "      <th>Dept</th>\n",
              "      <th></th>\n",
              "    </tr>\n",
              "  </thead>\n",
              "  <tbody>\n",
              "    <tr>\n",
              "      <th>39</th>\n",
              "      <td>0</td>\n",
              "    </tr>\n",
              "    <tr>\n",
              "      <th>78</th>\n",
              "      <td>0</td>\n",
              "    </tr>\n",
              "    <tr>\n",
              "      <th>43</th>\n",
              "      <td>0</td>\n",
              "    </tr>\n",
              "    <tr>\n",
              "      <th>47</th>\n",
              "      <td>0</td>\n",
              "    </tr>\n",
              "    <tr>\n",
              "      <th>51</th>\n",
              "      <td>3</td>\n",
              "    </tr>\n",
              "    <tr>\n",
              "      <th>...</th>\n",
              "      <td>...</td>\n",
              "    </tr>\n",
              "    <tr>\n",
              "      <th>90</th>\n",
              "      <td>29106</td>\n",
              "    </tr>\n",
              "    <tr>\n",
              "      <th>72</th>\n",
              "      <td>30572</td>\n",
              "    </tr>\n",
              "    <tr>\n",
              "      <th>38</th>\n",
              "      <td>39311</td>\n",
              "    </tr>\n",
              "    <tr>\n",
              "      <th>95</th>\n",
              "      <td>44932</td>\n",
              "    </tr>\n",
              "    <tr>\n",
              "      <th>92</th>\n",
              "      <td>48394</td>\n",
              "    </tr>\n",
              "  </tbody>\n",
              "</table>\n",
              "<p>81 rows × 1 columns</p>\n",
              "</div>"
            ],
            "text/plain": [
              "      Weekly_Sales\n",
              "Dept              \n",
              "39               0\n",
              "78               0\n",
              "43               0\n",
              "47               0\n",
              "51               3\n",
              "...            ...\n",
              "90           29106\n",
              "72           30572\n",
              "38           39311\n",
              "95           44932\n",
              "92           48394\n",
              "\n",
              "[81 rows x 1 columns]"
            ]
          },
          "metadata": {
            "tags": []
          },
          "execution_count": 63
        }
      ]
    },
    {
      "cell_type": "code",
      "metadata": {
        "id": "OyEEQhLDo3lk",
        "colab_type": "code",
        "colab": {
          "base_uri": "https://localhost:8080/",
          "height": 301
        },
        "outputId": "7cab6dd5-fb28-4b3b-a79b-bab6f0c608cd"
      },
      "source": [
        "fig1, ax1 = plt.subplots(figsize=(15, 4))\n",
        "#ordered_df = data_Dept.sort_values(by='Weekly_Sales')\n",
        "plt.vlines(x=data_Dept.index, ymin=0, ymax=data_Dept['Weekly_Sales'], color='skyblue')\n",
        "plt.plot(data_Dept.index,data_Dept['Weekly_Sales'], \"o\")"
      ],
      "execution_count": 64,
      "outputs": [
        {
          "output_type": "execute_result",
          "data": {
            "text/plain": [
              "[<matplotlib.lines.Line2D at 0x7f5e5c600b38>]"
            ]
          },
          "metadata": {
            "tags": []
          },
          "execution_count": 64
        },
        {
          "output_type": "display_data",
          "data": {
            "image/png": "[encoded data removed]",
            "text/plain": [
              "<Figure size 1080x288 with 1 Axes>"
            ]
          },
          "metadata": {
            "tags": []
          }
        }
      ]
    },
    {
      "cell_type": "markdown",
      "metadata": {
        "id": "fR0t0SkfpFkH",
        "colab_type": "text"
      },
      "source": [
        "Qua biểu đồ có thể nhìn thấy được Departments nào có doanh số cao nên tôi sẽ không nói thêm ở đây."
      ]
    },
    {
      "cell_type": "code",
      "metadata": {
        "id": "lD3eLCHss576",
        "colab_type": "code",
        "colab": {
          "base_uri": "https://localhost:8080/",
          "height": 233
        },
        "outputId": "01a5b290-9119-42ff-e811-23e453b65e8c"
      },
      "source": [
        "sales_date_store = sales.groupby([\"Date\",\"Store\"]).agg({\"Weekly_Sales\":\"sum\"})\n",
        "sales_date_store.sort_index(inplace=True)\n",
        "sales_date_store.Weekly_Sales = sales_date_store.Weekly_Sales/10000\n",
        "sales_date_store.Weekly_Sales = sales_date_store.Weekly_Sales.apply(int)\n",
        "sales_date_store.head()"
      ],
      "execution_count": 65,
      "outputs": [
        {
          "output_type": "execute_result",
          "data": {
            "text/html": [
              "<div>\n",
              "<style scoped>\n",
              "    .dataframe tbody tr th:only-of-type {\n",
              "        vertical-align: middle;\n",
              "    }\n",
              "\n",
              "    .dataframe tbody tr th {\n",
              "        vertical-align: top;\n",
              "    }\n",
              "\n",
              "    .dataframe thead th {\n",
              "        text-align: right;\n",
              "    }\n",
              "</style>\n",
              "<table border=\"1\" class=\"dataframe\">\n",
              "  <thead>\n",
              "    <tr style=\"text-align: right;\">\n",
              "      <th></th>\n",
              "      <th></th>\n",
              "      <th>Weekly_Sales</th>\n",
              "    </tr>\n",
              "    <tr>\n",
              "      <th>Date</th>\n",
              "      <th>Store</th>\n",
              "      <th></th>\n",
              "    </tr>\n",
              "  </thead>\n",
              "  <tbody>\n",
              "    <tr>\n",
              "      <th rowspan=\"5\" valign=\"top\">2010-01-10</th>\n",
              "      <th>1</th>\n",
              "      <td>145</td>\n",
              "    </tr>\n",
              "    <tr>\n",
              "      <th>2</th>\n",
              "      <td>182</td>\n",
              "    </tr>\n",
              "    <tr>\n",
              "      <th>3</th>\n",
              "      <td>35</td>\n",
              "    </tr>\n",
              "    <tr>\n",
              "      <th>4</th>\n",
              "      <td>184</td>\n",
              "    </tr>\n",
              "    <tr>\n",
              "      <th>5</th>\n",
              "      <td>28</td>\n",
              "    </tr>\n",
              "  </tbody>\n",
              "</table>\n",
              "</div>"
            ],
            "text/plain": [
              "                  Weekly_Sales\n",
              "Date       Store              \n",
              "2010-01-10 1               145\n",
              "           2               182\n",
              "           3                35\n",
              "           4               184\n",
              "           5                28"
            ]
          },
          "metadata": {
            "tags": []
          },
          "execution_count": 65
        }
      ]
    },
    {
      "cell_type": "code",
      "metadata": {
        "id": "n-G4xGkntU97",
        "colab_type": "code",
        "colab": {
          "base_uri": "https://localhost:8080/",
          "height": 202
        },
        "outputId": "a3c367d0-078b-46e1-9bc3-80d5c5d812ba"
      },
      "source": [
        "data_table = pd.merge(features,sales_date_store ,  how='left', on=[\"Date\",\"Store\"])\n",
        "data_table.head()"
      ],
      "execution_count": 66,
      "outputs": [
        {
          "output_type": "execute_result",
          "data": {
            "text/html": [
              "<div>\n",
              "<style scoped>\n",
              "    .dataframe tbody tr th:only-of-type {\n",
              "        vertical-align: middle;\n",
              "    }\n",
              "\n",
              "    .dataframe tbody tr th {\n",
              "        vertical-align: top;\n",
              "    }\n",
              "\n",
              "    .dataframe thead th {\n",
              "        text-align: right;\n",
              "    }\n",
              "</style>\n",
              "<table border=\"1\" class=\"dataframe\">\n",
              "  <thead>\n",
              "    <tr style=\"text-align: right;\">\n",
              "      <th></th>\n",
              "      <th>Store</th>\n",
              "      <th>Date</th>\n",
              "      <th>Temperature</th>\n",
              "      <th>Fuel_Price</th>\n",
              "      <th>MarkDown1</th>\n",
              "      <th>MarkDown2</th>\n",
              "      <th>MarkDown3</th>\n",
              "      <th>MarkDown4</th>\n",
              "      <th>MarkDown5</th>\n",
              "      <th>CPI</th>\n",
              "      <th>Unemployment</th>\n",
              "      <th>IsHoliday</th>\n",
              "      <th>Weekly_Sales</th>\n",
              "    </tr>\n",
              "  </thead>\n",
              "  <tbody>\n",
              "    <tr>\n",
              "      <th>0</th>\n",
              "      <td>1</td>\n",
              "      <td>2010-05-02</td>\n",
              "      <td>42.31</td>\n",
              "      <td>2.572</td>\n",
              "      <td>NaN</td>\n",
              "      <td>NaN</td>\n",
              "      <td>NaN</td>\n",
              "      <td>NaN</td>\n",
              "      <td>NaN</td>\n",
              "      <td>211.096358</td>\n",
              "      <td>8.106</td>\n",
              "      <td>False</td>\n",
              "      <td>164.0</td>\n",
              "    </tr>\n",
              "    <tr>\n",
              "      <th>1</th>\n",
              "      <td>1</td>\n",
              "      <td>2010-12-02</td>\n",
              "      <td>38.51</td>\n",
              "      <td>2.548</td>\n",
              "      <td>NaN</td>\n",
              "      <td>NaN</td>\n",
              "      <td>NaN</td>\n",
              "      <td>NaN</td>\n",
              "      <td>NaN</td>\n",
              "      <td>211.242170</td>\n",
              "      <td>8.106</td>\n",
              "      <td>True</td>\n",
              "      <td>164.0</td>\n",
              "    </tr>\n",
              "    <tr>\n",
              "      <th>2</th>\n",
              "      <td>1</td>\n",
              "      <td>2010-02-19</td>\n",
              "      <td>39.93</td>\n",
              "      <td>2.514</td>\n",
              "      <td>NaN</td>\n",
              "      <td>NaN</td>\n",
              "      <td>NaN</td>\n",
              "      <td>NaN</td>\n",
              "      <td>NaN</td>\n",
              "      <td>211.289143</td>\n",
              "      <td>8.106</td>\n",
              "      <td>False</td>\n",
              "      <td>161.0</td>\n",
              "    </tr>\n",
              "    <tr>\n",
              "      <th>3</th>\n",
              "      <td>1</td>\n",
              "      <td>2010-02-26</td>\n",
              "      <td>46.63</td>\n",
              "      <td>2.561</td>\n",
              "      <td>NaN</td>\n",
              "      <td>NaN</td>\n",
              "      <td>NaN</td>\n",
              "      <td>NaN</td>\n",
              "      <td>NaN</td>\n",
              "      <td>211.319643</td>\n",
              "      <td>8.106</td>\n",
              "      <td>False</td>\n",
              "      <td>140.0</td>\n",
              "    </tr>\n",
              "    <tr>\n",
              "      <th>4</th>\n",
              "      <td>1</td>\n",
              "      <td>2010-05-03</td>\n",
              "      <td>46.50</td>\n",
              "      <td>2.625</td>\n",
              "      <td>NaN</td>\n",
              "      <td>NaN</td>\n",
              "      <td>NaN</td>\n",
              "      <td>NaN</td>\n",
              "      <td>NaN</td>\n",
              "      <td>211.350143</td>\n",
              "      <td>8.106</td>\n",
              "      <td>False</td>\n",
              "      <td>155.0</td>\n",
              "    </tr>\n",
              "  </tbody>\n",
              "</table>\n",
              "</div>"
            ],
            "text/plain": [
              "   Store       Date  Temperature  ...  Unemployment  IsHoliday  Weekly_Sales\n",
              "0      1 2010-05-02        42.31  ...         8.106      False         164.0\n",
              "1      1 2010-12-02        38.51  ...         8.106       True         164.0\n",
              "2      1 2010-02-19        39.93  ...         8.106      False         161.0\n",
              "3      1 2010-02-26        46.63  ...         8.106      False         140.0\n",
              "4      1 2010-05-03        46.50  ...         8.106      False         155.0\n",
              "\n",
              "[5 rows x 13 columns]"
            ]
          },
          "metadata": {
            "tags": []
          },
          "execution_count": 66
        }
      ]
    },
    {
      "cell_type": "code",
      "metadata": {
        "id": "pfu9ni0GtsrM",
        "colab_type": "code",
        "colab": {
          "base_uri": "https://localhost:8080/",
          "height": 662
        },
        "outputId": "6a89bfae-1371-4660-b1a6-5a83cc40861a"
      },
      "source": [
        "data_table = pd.merge(data_table,stores[[\"Store\",\"Type\"]] ,  how='left', on=[\"Store\"])\n",
        "data_table.drop(['MarkDown1','MarkDown2','MarkDown3','MarkDown4','MarkDown5'],axis=1,inplace=True)\n",
        "data_table.head(20)"
      ],
      "execution_count": 67,
      "outputs": [
        {
          "output_type": "execute_result",
          "data": {
            "text/html": [
              "<div>\n",
              "<style scoped>\n",
              "    .dataframe tbody tr th:only-of-type {\n",
              "        vertical-align: middle;\n",
              "    }\n",
              "\n",
              "    .dataframe tbody tr th {\n",
              "        vertical-align: top;\n",
              "    }\n",
              "\n",
              "    .dataframe thead th {\n",
              "        text-align: right;\n",
              "    }\n",
              "</style>\n",
              "<table border=\"1\" class=\"dataframe\">\n",
              "  <thead>\n",
              "    <tr style=\"text-align: right;\">\n",
              "      <th></th>\n",
              "      <th>Store</th>\n",
              "      <th>Date</th>\n",
              "      <th>Temperature</th>\n",
              "      <th>Fuel_Price</th>\n",
              "      <th>CPI</th>\n",
              "      <th>Unemployment</th>\n",
              "      <th>IsHoliday</th>\n",
              "      <th>Weekly_Sales</th>\n",
              "      <th>Type</th>\n",
              "    </tr>\n",
              "  </thead>\n",
              "  <tbody>\n",
              "    <tr>\n",
              "      <th>0</th>\n",
              "      <td>1</td>\n",
              "      <td>2010-05-02</td>\n",
              "      <td>42.31</td>\n",
              "      <td>2.572</td>\n",
              "      <td>211.096358</td>\n",
              "      <td>8.106</td>\n",
              "      <td>False</td>\n",
              "      <td>164.0</td>\n",
              "      <td>A</td>\n",
              "    </tr>\n",
              "    <tr>\n",
              "      <th>1</th>\n",
              "      <td>1</td>\n",
              "      <td>2010-12-02</td>\n",
              "      <td>38.51</td>\n",
              "      <td>2.548</td>\n",
              "      <td>211.242170</td>\n",
              "      <td>8.106</td>\n",
              "      <td>True</td>\n",
              "      <td>164.0</td>\n",
              "      <td>A</td>\n",
              "    </tr>\n",
              "    <tr>\n",
              "      <th>2</th>\n",
              "      <td>1</td>\n",
              "      <td>2010-02-19</td>\n",
              "      <td>39.93</td>\n",
              "      <td>2.514</td>\n",
              "      <td>211.289143</td>\n",
              "      <td>8.106</td>\n",
              "      <td>False</td>\n",
              "      <td>161.0</td>\n",
              "      <td>A</td>\n",
              "    </tr>\n",
              "    <tr>\n",
              "      <th>3</th>\n",
              "      <td>1</td>\n",
              "      <td>2010-02-26</td>\n",
              "      <td>46.63</td>\n",
              "      <td>2.561</td>\n",
              "      <td>211.319643</td>\n",
              "      <td>8.106</td>\n",
              "      <td>False</td>\n",
              "      <td>140.0</td>\n",
              "      <td>A</td>\n",
              "    </tr>\n",
              "    <tr>\n",
              "      <th>4</th>\n",
              "      <td>1</td>\n",
              "      <td>2010-05-03</td>\n",
              "      <td>46.50</td>\n",
              "      <td>2.625</td>\n",
              "      <td>211.350143</td>\n",
              "      <td>8.106</td>\n",
              "      <td>False</td>\n",
              "      <td>155.0</td>\n",
              "      <td>A</td>\n",
              "    </tr>\n",
              "    <tr>\n",
              "      <th>5</th>\n",
              "      <td>1</td>\n",
              "      <td>2010-12-03</td>\n",
              "      <td>57.79</td>\n",
              "      <td>2.667</td>\n",
              "      <td>211.380643</td>\n",
              "      <td>8.106</td>\n",
              "      <td>False</td>\n",
              "      <td>143.0</td>\n",
              "      <td>A</td>\n",
              "    </tr>\n",
              "    <tr>\n",
              "      <th>6</th>\n",
              "      <td>1</td>\n",
              "      <td>2010-03-19</td>\n",
              "      <td>54.58</td>\n",
              "      <td>2.720</td>\n",
              "      <td>211.215635</td>\n",
              "      <td>8.106</td>\n",
              "      <td>False</td>\n",
              "      <td>147.0</td>\n",
              "      <td>A</td>\n",
              "    </tr>\n",
              "    <tr>\n",
              "      <th>7</th>\n",
              "      <td>1</td>\n",
              "      <td>2010-03-26</td>\n",
              "      <td>51.45</td>\n",
              "      <td>2.732</td>\n",
              "      <td>211.018042</td>\n",
              "      <td>8.106</td>\n",
              "      <td>False</td>\n",
              "      <td>140.0</td>\n",
              "      <td>A</td>\n",
              "    </tr>\n",
              "    <tr>\n",
              "      <th>8</th>\n",
              "      <td>1</td>\n",
              "      <td>2010-02-04</td>\n",
              "      <td>62.27</td>\n",
              "      <td>2.719</td>\n",
              "      <td>210.820450</td>\n",
              "      <td>7.808</td>\n",
              "      <td>False</td>\n",
              "      <td>159.0</td>\n",
              "      <td>A</td>\n",
              "    </tr>\n",
              "    <tr>\n",
              "      <th>9</th>\n",
              "      <td>1</td>\n",
              "      <td>2010-09-04</td>\n",
              "      <td>65.86</td>\n",
              "      <td>2.770</td>\n",
              "      <td>210.622857</td>\n",
              "      <td>7.808</td>\n",
              "      <td>False</td>\n",
              "      <td>154.0</td>\n",
              "      <td>A</td>\n",
              "    </tr>\n",
              "    <tr>\n",
              "      <th>10</th>\n",
              "      <td>1</td>\n",
              "      <td>2010-04-16</td>\n",
              "      <td>66.32</td>\n",
              "      <td>2.808</td>\n",
              "      <td>210.488700</td>\n",
              "      <td>7.808</td>\n",
              "      <td>False</td>\n",
              "      <td>146.0</td>\n",
              "      <td>A</td>\n",
              "    </tr>\n",
              "    <tr>\n",
              "      <th>11</th>\n",
              "      <td>1</td>\n",
              "      <td>2010-04-23</td>\n",
              "      <td>64.84</td>\n",
              "      <td>2.795</td>\n",
              "      <td>210.439123</td>\n",
              "      <td>7.808</td>\n",
              "      <td>False</td>\n",
              "      <td>139.0</td>\n",
              "      <td>A</td>\n",
              "    </tr>\n",
              "    <tr>\n",
              "      <th>12</th>\n",
              "      <td>1</td>\n",
              "      <td>2010-04-30</td>\n",
              "      <td>67.41</td>\n",
              "      <td>2.780</td>\n",
              "      <td>210.389546</td>\n",
              "      <td>7.808</td>\n",
              "      <td>False</td>\n",
              "      <td>142.0</td>\n",
              "      <td>A</td>\n",
              "    </tr>\n",
              "    <tr>\n",
              "      <th>13</th>\n",
              "      <td>1</td>\n",
              "      <td>2010-07-05</td>\n",
              "      <td>72.55</td>\n",
              "      <td>2.835</td>\n",
              "      <td>210.339968</td>\n",
              "      <td>7.808</td>\n",
              "      <td>False</td>\n",
              "      <td>160.0</td>\n",
              "      <td>A</td>\n",
              "    </tr>\n",
              "    <tr>\n",
              "      <th>14</th>\n",
              "      <td>1</td>\n",
              "      <td>2010-05-14</td>\n",
              "      <td>74.78</td>\n",
              "      <td>2.854</td>\n",
              "      <td>210.337426</td>\n",
              "      <td>7.808</td>\n",
              "      <td>False</td>\n",
              "      <td>149.0</td>\n",
              "      <td>A</td>\n",
              "    </tr>\n",
              "    <tr>\n",
              "      <th>15</th>\n",
              "      <td>1</td>\n",
              "      <td>2010-05-21</td>\n",
              "      <td>76.44</td>\n",
              "      <td>2.826</td>\n",
              "      <td>210.617093</td>\n",
              "      <td>7.808</td>\n",
              "      <td>False</td>\n",
              "      <td>139.0</td>\n",
              "      <td>A</td>\n",
              "    </tr>\n",
              "    <tr>\n",
              "      <th>16</th>\n",
              "      <td>1</td>\n",
              "      <td>2010-05-28</td>\n",
              "      <td>80.44</td>\n",
              "      <td>2.759</td>\n",
              "      <td>210.896761</td>\n",
              "      <td>7.808</td>\n",
              "      <td>False</td>\n",
              "      <td>143.0</td>\n",
              "      <td>A</td>\n",
              "    </tr>\n",
              "    <tr>\n",
              "      <th>17</th>\n",
              "      <td>1</td>\n",
              "      <td>2010-04-06</td>\n",
              "      <td>80.69</td>\n",
              "      <td>2.705</td>\n",
              "      <td>211.176428</td>\n",
              "      <td>7.808</td>\n",
              "      <td>False</td>\n",
              "      <td>161.0</td>\n",
              "      <td>A</td>\n",
              "    </tr>\n",
              "    <tr>\n",
              "      <th>18</th>\n",
              "      <td>1</td>\n",
              "      <td>2010-11-06</td>\n",
              "      <td>80.43</td>\n",
              "      <td>2.668</td>\n",
              "      <td>211.456095</td>\n",
              "      <td>7.808</td>\n",
              "      <td>False</td>\n",
              "      <td>154.0</td>\n",
              "      <td>A</td>\n",
              "    </tr>\n",
              "    <tr>\n",
              "      <th>19</th>\n",
              "      <td>1</td>\n",
              "      <td>2010-06-18</td>\n",
              "      <td>84.11</td>\n",
              "      <td>2.637</td>\n",
              "      <td>211.453772</td>\n",
              "      <td>7.808</td>\n",
              "      <td>False</td>\n",
              "      <td>150.0</td>\n",
              "      <td>A</td>\n",
              "    </tr>\n",
              "  </tbody>\n",
              "</table>\n",
              "</div>"
            ],
            "text/plain": [
              "    Store       Date  Temperature  ...  IsHoliday  Weekly_Sales  Type\n",
              "0       1 2010-05-02        42.31  ...      False         164.0     A\n",
              "1       1 2010-12-02        38.51  ...       True         164.0     A\n",
              "2       1 2010-02-19        39.93  ...      False         161.0     A\n",
              "3       1 2010-02-26        46.63  ...      False         140.0     A\n",
              "4       1 2010-05-03        46.50  ...      False         155.0     A\n",
              "5       1 2010-12-03        57.79  ...      False         143.0     A\n",
              "6       1 2010-03-19        54.58  ...      False         147.0     A\n",
              "7       1 2010-03-26        51.45  ...      False         140.0     A\n",
              "8       1 2010-02-04        62.27  ...      False         159.0     A\n",
              "9       1 2010-09-04        65.86  ...      False         154.0     A\n",
              "10      1 2010-04-16        66.32  ...      False         146.0     A\n",
              "11      1 2010-04-23        64.84  ...      False         139.0     A\n",
              "12      1 2010-04-30        67.41  ...      False         142.0     A\n",
              "13      1 2010-07-05        72.55  ...      False         160.0     A\n",
              "14      1 2010-05-14        74.78  ...      False         149.0     A\n",
              "15      1 2010-05-21        76.44  ...      False         139.0     A\n",
              "16      1 2010-05-28        80.44  ...      False         143.0     A\n",
              "17      1 2010-04-06        80.69  ...      False         161.0     A\n",
              "18      1 2010-11-06        80.43  ...      False         154.0     A\n",
              "19      1 2010-06-18        84.11  ...      False         150.0     A\n",
              "\n",
              "[20 rows x 9 columns]"
            ]
          },
          "metadata": {
            "tags": []
          },
          "execution_count": 67
        }
      ]
    },
    {
      "cell_type": "code",
      "metadata": {
        "id": "op5d88jPu_Ut",
        "colab_type": "code",
        "colab": {}
      },
      "source": [
        "data_train = data_table[data_table.Weekly_Sales.notnull()]\n",
        "data_test = data_table[data_table.Weekly_Sales.isnull()]"
      ],
      "execution_count": 68,
      "outputs": []
    },
    {
      "cell_type": "code",
      "metadata": {
        "id": "YSTytRcmvNRS",
        "colab_type": "code",
        "colab": {
          "base_uri": "https://localhost:8080/",
          "height": 379
        },
        "outputId": "25dab850-22de-4632-f938-84f59b09db60"
      },
      "source": [
        "plt.figure(figsize=(15, 5))\n",
        "sns.barplot(x=data_train.Date.dt.year, y=data_train.Weekly_Sales,hue=data_train.Type)"
      ],
      "execution_count": 69,
      "outputs": [
        {
          "output_type": "execute_result",
          "data": {
            "text/plain": [
              "<matplotlib.axes._subplots.AxesSubplot at 0x7f5e5c5d6128>"
            ]
          },
          "metadata": {
            "tags": []
          },
          "execution_count": 69
        },
        {
          "output_type": "display_data",
          "data": {
            "image/png": "[encoded data removed]",
            "text/plain": [
              "<Figure size 1080x360 with 1 Axes>"
            ]
          },
          "metadata": {
            "tags": []
          }
        }
      ]
    },
    {
      "cell_type": "markdown",
      "metadata": {
        "id": "WgTQNEwevWQl",
        "colab_type": "text"
      },
      "source": [
        "Doanh số của cửa hàng loại B có vẻ giảm một chút qua các năm nhưng không đáng kể."
      ]
    },
    {
      "cell_type": "code",
      "metadata": {
        "id": "k6zDg6fqvdg2",
        "colab_type": "code",
        "colab": {
          "base_uri": "https://localhost:8080/",
          "height": 497
        },
        "outputId": "36371047-5b0b-4494-c55f-d5c8f80ee1ad"
      },
      "source": [
        "plt.figure(figsize=(15, 7))\n",
        "sns.barplot(x=data_train.Date.dt.month, y=data_train.Weekly_Sales,hue=data_train.Type)"
      ],
      "execution_count": 70,
      "outputs": [
        {
          "output_type": "execute_result",
          "data": {
            "text/plain": [
              "<matplotlib.axes._subplots.AxesSubplot at 0x7f5e5c4f28d0>"
            ]
          },
          "metadata": {
            "tags": []
          },
          "execution_count": 70
        },
        {
          "output_type": "display_data",
          "data": {
            "image/png": "[encoded data removed]",
            "text/plain": [
              "<Figure size 1080x504 with 1 Axes>"
            ]
          },
          "metadata": {
            "tags": []
          }
        }
      ]
    },
    {
      "cell_type": "markdown",
      "metadata": {
        "id": "8nVSLh2vvp0N",
        "colab_type": "text"
      },
      "source": [
        "Cửa hàng loại A và B doanh số có sự tăng theo chu kỳ: tăng vào đầu năm và cuối năm, còn cửa hàng C doanh số gần như không đổi qua các tháng, như đã nói ở trên lý do có thể vì quy mô cửa hàng C nhỏ."
      ]
    },
    {
      "cell_type": "code",
      "metadata": {
        "id": "RgUQmpBW0C2I",
        "colab_type": "code",
        "colab": {
          "base_uri": "https://localhost:8080/",
          "height": 355
        },
        "outputId": "93e8be74-a188-4b2d-a142-909fe3c43f41"
      },
      "source": [
        "sales.head(10)"
      ],
      "execution_count": 71,
      "outputs": [
        {
          "output_type": "execute_result",
          "data": {
            "text/html": [
              "<div>\n",
              "<style scoped>\n",
              "    .dataframe tbody tr th:only-of-type {\n",
              "        vertical-align: middle;\n",
              "    }\n",
              "\n",
              "    .dataframe tbody tr th {\n",
              "        vertical-align: top;\n",
              "    }\n",
              "\n",
              "    .dataframe thead th {\n",
              "        text-align: right;\n",
              "    }\n",
              "</style>\n",
              "<table border=\"1\" class=\"dataframe\">\n",
              "  <thead>\n",
              "    <tr style=\"text-align: right;\">\n",
              "      <th></th>\n",
              "      <th>Store</th>\n",
              "      <th>Dept</th>\n",
              "      <th>Date</th>\n",
              "      <th>Weekly_Sales</th>\n",
              "      <th>IsHoliday</th>\n",
              "    </tr>\n",
              "  </thead>\n",
              "  <tbody>\n",
              "    <tr>\n",
              "      <th>0</th>\n",
              "      <td>1</td>\n",
              "      <td>1</td>\n",
              "      <td>2010-05-02</td>\n",
              "      <td>24924.50</td>\n",
              "      <td>False</td>\n",
              "    </tr>\n",
              "    <tr>\n",
              "      <th>1</th>\n",
              "      <td>1</td>\n",
              "      <td>1</td>\n",
              "      <td>2010-12-02</td>\n",
              "      <td>46039.49</td>\n",
              "      <td>True</td>\n",
              "    </tr>\n",
              "    <tr>\n",
              "      <th>2</th>\n",
              "      <td>1</td>\n",
              "      <td>1</td>\n",
              "      <td>2010-02-19</td>\n",
              "      <td>41595.55</td>\n",
              "      <td>False</td>\n",
              "    </tr>\n",
              "    <tr>\n",
              "      <th>3</th>\n",
              "      <td>1</td>\n",
              "      <td>1</td>\n",
              "      <td>2010-02-26</td>\n",
              "      <td>19403.54</td>\n",
              "      <td>False</td>\n",
              "    </tr>\n",
              "    <tr>\n",
              "      <th>4</th>\n",
              "      <td>1</td>\n",
              "      <td>1</td>\n",
              "      <td>2010-05-03</td>\n",
              "      <td>21827.90</td>\n",
              "      <td>False</td>\n",
              "    </tr>\n",
              "    <tr>\n",
              "      <th>5</th>\n",
              "      <td>1</td>\n",
              "      <td>1</td>\n",
              "      <td>2010-12-03</td>\n",
              "      <td>21043.39</td>\n",
              "      <td>False</td>\n",
              "    </tr>\n",
              "    <tr>\n",
              "      <th>6</th>\n",
              "      <td>1</td>\n",
              "      <td>1</td>\n",
              "      <td>2010-03-19</td>\n",
              "      <td>22136.64</td>\n",
              "      <td>False</td>\n",
              "    </tr>\n",
              "    <tr>\n",
              "      <th>7</th>\n",
              "      <td>1</td>\n",
              "      <td>1</td>\n",
              "      <td>2010-03-26</td>\n",
              "      <td>26229.21</td>\n",
              "      <td>False</td>\n",
              "    </tr>\n",
              "    <tr>\n",
              "      <th>8</th>\n",
              "      <td>1</td>\n",
              "      <td>1</td>\n",
              "      <td>2010-02-04</td>\n",
              "      <td>57258.43</td>\n",
              "      <td>False</td>\n",
              "    </tr>\n",
              "    <tr>\n",
              "      <th>9</th>\n",
              "      <td>1</td>\n",
              "      <td>1</td>\n",
              "      <td>2010-09-04</td>\n",
              "      <td>42960.91</td>\n",
              "      <td>False</td>\n",
              "    </tr>\n",
              "  </tbody>\n",
              "</table>\n",
              "</div>"
            ],
            "text/plain": [
              "   Store  Dept       Date  Weekly_Sales  IsHoliday\n",
              "0      1     1 2010-05-02      24924.50      False\n",
              "1      1     1 2010-12-02      46039.49       True\n",
              "2      1     1 2010-02-19      41595.55      False\n",
              "3      1     1 2010-02-26      19403.54      False\n",
              "4      1     1 2010-05-03      21827.90      False\n",
              "5      1     1 2010-12-03      21043.39      False\n",
              "6      1     1 2010-03-19      22136.64      False\n",
              "7      1     1 2010-03-26      26229.21      False\n",
              "8      1     1 2010-02-04      57258.43      False\n",
              "9      1     1 2010-09-04      42960.91      False"
            ]
          },
          "metadata": {
            "tags": []
          },
          "execution_count": 71
        }
      ]
    },
    {
      "cell_type": "code",
      "metadata": {
        "id": "UJmt54PJ0-oF",
        "colab_type": "code",
        "colab": {
          "base_uri": "https://localhost:8080/",
          "height": 233
        },
        "outputId": "388e2a20-401e-4c83-fb62-31f7229c1d22"
      },
      "source": [
        "sales_by_stores= sales.groupby(['Store','IsHoliday']).agg({'Weekly_Sales':'mean'})\n",
        "sales_by_stores.Weekly_Sales= sales_by_stores.Weekly_Sales.apply(int)\n",
        "sales_by_stores.head()"
      ],
      "execution_count": 72,
      "outputs": [
        {
          "output_type": "execute_result",
          "data": {
            "text/html": [
              "<div>\n",
              "<style scoped>\n",
              "    .dataframe tbody tr th:only-of-type {\n",
              "        vertical-align: middle;\n",
              "    }\n",
              "\n",
              "    .dataframe tbody tr th {\n",
              "        vertical-align: top;\n",
              "    }\n",
              "\n",
              "    .dataframe thead th {\n",
              "        text-align: right;\n",
              "    }\n",
              "</style>\n",
              "<table border=\"1\" class=\"dataframe\">\n",
              "  <thead>\n",
              "    <tr style=\"text-align: right;\">\n",
              "      <th></th>\n",
              "      <th></th>\n",
              "      <th>Weekly_Sales</th>\n",
              "    </tr>\n",
              "    <tr>\n",
              "      <th>Store</th>\n",
              "      <th>IsHoliday</th>\n",
              "      <th></th>\n",
              "    </tr>\n",
              "  </thead>\n",
              "  <tbody>\n",
              "    <tr>\n",
              "      <th rowspan=\"2\" valign=\"top\">1</th>\n",
              "      <th>False</th>\n",
              "      <td>21609</td>\n",
              "    </tr>\n",
              "    <tr>\n",
              "      <th>True</th>\n",
              "      <td>23039</td>\n",
              "    </tr>\n",
              "    <tr>\n",
              "      <th rowspan=\"2\" valign=\"top\">2</th>\n",
              "      <th>False</th>\n",
              "      <td>26753</td>\n",
              "    </tr>\n",
              "    <tr>\n",
              "      <th>True</th>\n",
              "      <td>28798</td>\n",
              "    </tr>\n",
              "    <tr>\n",
              "      <th>3</th>\n",
              "      <th>False</th>\n",
              "      <td>6332</td>\n",
              "    </tr>\n",
              "  </tbody>\n",
              "</table>\n",
              "</div>"
            ],
            "text/plain": [
              "                 Weekly_Sales\n",
              "Store IsHoliday              \n",
              "1     False             21609\n",
              "      True              23039\n",
              "2     False             26753\n",
              "      True              28798\n",
              "3     False              6332"
            ]
          },
          "metadata": {
            "tags": []
          },
          "execution_count": 72
        }
      ]
    },
    {
      "cell_type": "code",
      "metadata": {
        "id": "3pyUfu6A34bM",
        "colab_type": "code",
        "colab": {
          "base_uri": "https://localhost:8080/",
          "height": 415
        },
        "outputId": "3cb3c5a1-d7fa-47d8-ecc3-bfbb1e4eb7ea"
      },
      "source": [
        "index1= sales_by_stores.index.get_level_values(0)\n",
        "index2= sales_by_stores.index.get_level_values(1)\n",
        "temp={'Store':index1,'IsHoliday':index2,'Weekly_Sales':sales_by_stores.Weekly_Sales}\n",
        "sales_by_stores= pd.DataFrame(temp, columns=['Store','IsHoliday','Weekly_Sales'])\n",
        "sales_by_stores.reset_index(drop=True,inplace=True)\n",
        "sales_by_stores"
      ],
      "execution_count": 73,
      "outputs": [
        {
          "output_type": "execute_result",
          "data": {
            "text/html": [
              "<div>\n",
              "<style scoped>\n",
              "    .dataframe tbody tr th:only-of-type {\n",
              "        vertical-align: middle;\n",
              "    }\n",
              "\n",
              "    .dataframe tbody tr th {\n",
              "        vertical-align: top;\n",
              "    }\n",
              "\n",
              "    .dataframe thead th {\n",
              "        text-align: right;\n",
              "    }\n",
              "</style>\n",
              "<table border=\"1\" class=\"dataframe\">\n",
              "  <thead>\n",
              "    <tr style=\"text-align: right;\">\n",
              "      <th></th>\n",
              "      <th>Store</th>\n",
              "      <th>IsHoliday</th>\n",
              "      <th>Weekly_Sales</th>\n",
              "    </tr>\n",
              "  </thead>\n",
              "  <tbody>\n",
              "    <tr>\n",
              "      <th>0</th>\n",
              "      <td>1</td>\n",
              "      <td>False</td>\n",
              "      <td>21609</td>\n",
              "    </tr>\n",
              "    <tr>\n",
              "      <th>1</th>\n",
              "      <td>1</td>\n",
              "      <td>True</td>\n",
              "      <td>23039</td>\n",
              "    </tr>\n",
              "    <tr>\n",
              "      <th>2</th>\n",
              "      <td>2</td>\n",
              "      <td>False</td>\n",
              "      <td>26753</td>\n",
              "    </tr>\n",
              "    <tr>\n",
              "      <th>3</th>\n",
              "      <td>2</td>\n",
              "      <td>True</td>\n",
              "      <td>28798</td>\n",
              "    </tr>\n",
              "    <tr>\n",
              "      <th>4</th>\n",
              "      <td>3</td>\n",
              "      <td>False</td>\n",
              "      <td>6332</td>\n",
              "    </tr>\n",
              "    <tr>\n",
              "      <th>...</th>\n",
              "      <td>...</td>\n",
              "      <td>...</td>\n",
              "      <td>...</td>\n",
              "    </tr>\n",
              "    <tr>\n",
              "      <th>85</th>\n",
              "      <td>43</td>\n",
              "      <td>True</td>\n",
              "      <td>13473</td>\n",
              "    </tr>\n",
              "    <tr>\n",
              "      <th>86</th>\n",
              "      <td>44</td>\n",
              "      <td>False</td>\n",
              "      <td>6046</td>\n",
              "    </tr>\n",
              "    <tr>\n",
              "      <th>87</th>\n",
              "      <td>44</td>\n",
              "      <td>True</td>\n",
              "      <td>5932</td>\n",
              "    </tr>\n",
              "    <tr>\n",
              "      <th>88</th>\n",
              "      <td>45</td>\n",
              "      <td>False</td>\n",
              "      <td>11614</td>\n",
              "    </tr>\n",
              "    <tr>\n",
              "      <th>89</th>\n",
              "      <td>45</td>\n",
              "      <td>True</td>\n",
              "      <td>12298</td>\n",
              "    </tr>\n",
              "  </tbody>\n",
              "</table>\n",
              "<p>90 rows × 3 columns</p>\n",
              "</div>"
            ],
            "text/plain": [
              "    Store IsHoliday  Weekly_Sales\n",
              "0       1     False         21609\n",
              "1       1      True         23039\n",
              "2       2     False         26753\n",
              "3       2      True         28798\n",
              "4       3     False          6332\n",
              "..    ...       ...           ...\n",
              "85     43      True         13473\n",
              "86     44     False          6046\n",
              "87     44      True          5932\n",
              "88     45     False         11614\n",
              "89     45      True         12298\n",
              "\n",
              "[90 rows x 3 columns]"
            ]
          },
          "metadata": {
            "tags": []
          },
          "execution_count": 73
        }
      ]
    },
    {
      "cell_type": "code",
      "metadata": {
        "id": "pebhwVpm2sXH",
        "colab_type": "code",
        "colab": {
          "base_uri": "https://localhost:8080/",
          "height": 435
        },
        "outputId": "112b9e9b-c954-4de9-b04a-c75315fe258b"
      },
      "source": [
        "plt.figure(figsize=(20, 7))\n",
        "sns.barplot(x=sales_by_stores.Store,y= sales_by_stores.Weekly_Sales,hue= sales_by_stores.IsHoliday)"
      ],
      "execution_count": 74,
      "outputs": [
        {
          "output_type": "execute_result",
          "data": {
            "text/plain": [
              "<matplotlib.axes._subplots.AxesSubplot at 0x7f5e5c8f99e8>"
            ]
          },
          "metadata": {
            "tags": []
          },
          "execution_count": 74
        },
        {
          "output_type": "display_data",
          "data": {
            "image/png": "[encoded data removed]",
            "text/plain": [
              "<Figure size 1440x504 with 1 Axes>"
            ]
          },
          "metadata": {
            "tags": []
          }
        }
      ]
    },
    {
      "cell_type": "code",
      "metadata": {
        "id": "fTLaKGzNsMD0",
        "colab_type": "code",
        "colab": {
          "base_uri": "https://localhost:8080/",
          "height": 202
        },
        "outputId": "9f7000f3-5b64-49fa-9def-79f806924c9f"
      },
      "source": [
        "temp_sales_by_stores= pd.merge(sales_by_stores,stores[['Store','Type']],on=['Store'],how='left')\n",
        "temp_sales_by_stores.head()"
      ],
      "execution_count": 75,
      "outputs": [
        {
          "output_type": "execute_result",
          "data": {
            "text/html": [
              "<div>\n",
              "<style scoped>\n",
              "    .dataframe tbody tr th:only-of-type {\n",
              "        vertical-align: middle;\n",
              "    }\n",
              "\n",
              "    .dataframe tbody tr th {\n",
              "        vertical-align: top;\n",
              "    }\n",
              "\n",
              "    .dataframe thead th {\n",
              "        text-align: right;\n",
              "    }\n",
              "</style>\n",
              "<table border=\"1\" class=\"dataframe\">\n",
              "  <thead>\n",
              "    <tr style=\"text-align: right;\">\n",
              "      <th></th>\n",
              "      <th>Store</th>\n",
              "      <th>IsHoliday</th>\n",
              "      <th>Weekly_Sales</th>\n",
              "      <th>Type</th>\n",
              "    </tr>\n",
              "  </thead>\n",
              "  <tbody>\n",
              "    <tr>\n",
              "      <th>0</th>\n",
              "      <td>1</td>\n",
              "      <td>False</td>\n",
              "      <td>21609</td>\n",
              "      <td>A</td>\n",
              "    </tr>\n",
              "    <tr>\n",
              "      <th>1</th>\n",
              "      <td>1</td>\n",
              "      <td>True</td>\n",
              "      <td>23039</td>\n",
              "      <td>A</td>\n",
              "    </tr>\n",
              "    <tr>\n",
              "      <th>2</th>\n",
              "      <td>2</td>\n",
              "      <td>False</td>\n",
              "      <td>26753</td>\n",
              "      <td>A</td>\n",
              "    </tr>\n",
              "    <tr>\n",
              "      <th>3</th>\n",
              "      <td>2</td>\n",
              "      <td>True</td>\n",
              "      <td>28798</td>\n",
              "      <td>A</td>\n",
              "    </tr>\n",
              "    <tr>\n",
              "      <th>4</th>\n",
              "      <td>3</td>\n",
              "      <td>False</td>\n",
              "      <td>6332</td>\n",
              "      <td>B</td>\n",
              "    </tr>\n",
              "  </tbody>\n",
              "</table>\n",
              "</div>"
            ],
            "text/plain": [
              "   Store IsHoliday  Weekly_Sales Type\n",
              "0      1     False         21609    A\n",
              "1      1      True         23039    A\n",
              "2      2     False         26753    A\n",
              "3      2      True         28798    A\n",
              "4      3     False          6332    B"
            ]
          },
          "metadata": {
            "tags": []
          },
          "execution_count": 75
        }
      ]
    },
    {
      "cell_type": "code",
      "metadata": {
        "id": "2o5TcStas16K",
        "colab_type": "code",
        "colab": {
          "base_uri": "https://localhost:8080/",
          "height": 671
        },
        "outputId": "0bde5519-252b-4219-d51f-a9598ebd6eac"
      },
      "source": [
        "fig, ax = plt.subplots(3,1,figsize=(15,10),sharex=True)\n",
        "type_a= temp_sales_by_stores.loc[temp_sales_by_stores.Type=='A']\n",
        "type_b= temp_sales_by_stores.loc[temp_sales_by_stores.Type=='B']\n",
        "type_c= temp_sales_by_stores.loc[temp_sales_by_stores.Type=='C']\n",
        "sns.barplot(ax=ax[0],x=type_a.Store,y= type_a.Weekly_Sales,hue= type_a.IsHoliday).set(xlabel='Store type A')\n",
        "sns.barplot(ax=ax[1],x=type_b.Store,y= type_b.Weekly_Sales,hue= type_b.IsHoliday).set(xlabel='Store type B')\n",
        "sns.barplot(ax=ax[2],x=type_c.Store,y= type_c.Weekly_Sales,hue= type_c.IsHoliday).set(xlabel='Store type C')\n"
      ],
      "execution_count": 76,
      "outputs": [
        {
          "output_type": "execute_result",
          "data": {
            "text/plain": [
              "[Text(0.5, 0, 'Store type C')]"
            ]
          },
          "metadata": {
            "tags": []
          },
          "execution_count": 76
        },
        {
          "output_type": "display_data",
          "data": {
            "image/png": "[encoded data removed]",
            "text/plain": [
              "<Figure size 1080x720 with 3 Axes>"
            ]
          },
          "metadata": {
            "tags": []
          }
        }
      ]
    },
    {
      "cell_type": "markdown",
      "metadata": {
        "id": "5cpPDHenuIUB",
        "colab_type": "text"
      },
      "source": [
        "Qua hai biểu đồ ở trên thì chúng ta có thể thấy rằng, đa số các shop thì doanh số trung bình vào các ngày lễ(holiday) lớn hơn so với ngày thường. "
      ]
    },
    {
      "cell_type": "code",
      "metadata": {
        "id": "OwE_DhT3Givf",
        "colab_type": "code",
        "colab": {
          "base_uri": "https://localhost:8080/",
          "height": 202
        },
        "outputId": "a3aec0a9-ec27-4f62-8192-50c6d35494b3"
      },
      "source": [
        "data_table.head()"
      ],
      "execution_count": 77,
      "outputs": [
        {
          "output_type": "execute_result",
          "data": {
            "text/html": [
              "<div>\n",
              "<style scoped>\n",
              "    .dataframe tbody tr th:only-of-type {\n",
              "        vertical-align: middle;\n",
              "    }\n",
              "\n",
              "    .dataframe tbody tr th {\n",
              "        vertical-align: top;\n",
              "    }\n",
              "\n",
              "    .dataframe thead th {\n",
              "        text-align: right;\n",
              "    }\n",
              "</style>\n",
              "<table border=\"1\" class=\"dataframe\">\n",
              "  <thead>\n",
              "    <tr style=\"text-align: right;\">\n",
              "      <th></th>\n",
              "      <th>Store</th>\n",
              "      <th>Date</th>\n",
              "      <th>Temperature</th>\n",
              "      <th>Fuel_Price</th>\n",
              "      <th>CPI</th>\n",
              "      <th>Unemployment</th>\n",
              "      <th>IsHoliday</th>\n",
              "      <th>Weekly_Sales</th>\n",
              "      <th>Type</th>\n",
              "    </tr>\n",
              "  </thead>\n",
              "  <tbody>\n",
              "    <tr>\n",
              "      <th>0</th>\n",
              "      <td>1</td>\n",
              "      <td>2010-05-02</td>\n",
              "      <td>42.31</td>\n",
              "      <td>2.572</td>\n",
              "      <td>211.096358</td>\n",
              "      <td>8.106</td>\n",
              "      <td>False</td>\n",
              "      <td>164.0</td>\n",
              "      <td>A</td>\n",
              "    </tr>\n",
              "    <tr>\n",
              "      <th>1</th>\n",
              "      <td>1</td>\n",
              "      <td>2010-12-02</td>\n",
              "      <td>38.51</td>\n",
              "      <td>2.548</td>\n",
              "      <td>211.242170</td>\n",
              "      <td>8.106</td>\n",
              "      <td>True</td>\n",
              "      <td>164.0</td>\n",
              "      <td>A</td>\n",
              "    </tr>\n",
              "    <tr>\n",
              "      <th>2</th>\n",
              "      <td>1</td>\n",
              "      <td>2010-02-19</td>\n",
              "      <td>39.93</td>\n",
              "      <td>2.514</td>\n",
              "      <td>211.289143</td>\n",
              "      <td>8.106</td>\n",
              "      <td>False</td>\n",
              "      <td>161.0</td>\n",
              "      <td>A</td>\n",
              "    </tr>\n",
              "    <tr>\n",
              "      <th>3</th>\n",
              "      <td>1</td>\n",
              "      <td>2010-02-26</td>\n",
              "      <td>46.63</td>\n",
              "      <td>2.561</td>\n",
              "      <td>211.319643</td>\n",
              "      <td>8.106</td>\n",
              "      <td>False</td>\n",
              "      <td>140.0</td>\n",
              "      <td>A</td>\n",
              "    </tr>\n",
              "    <tr>\n",
              "      <th>4</th>\n",
              "      <td>1</td>\n",
              "      <td>2010-05-03</td>\n",
              "      <td>46.50</td>\n",
              "      <td>2.625</td>\n",
              "      <td>211.350143</td>\n",
              "      <td>8.106</td>\n",
              "      <td>False</td>\n",
              "      <td>155.0</td>\n",
              "      <td>A</td>\n",
              "    </tr>\n",
              "  </tbody>\n",
              "</table>\n",
              "</div>"
            ],
            "text/plain": [
              "   Store       Date  Temperature  ...  IsHoliday  Weekly_Sales  Type\n",
              "0      1 2010-05-02        42.31  ...      False         164.0     A\n",
              "1      1 2010-12-02        38.51  ...       True         164.0     A\n",
              "2      1 2010-02-19        39.93  ...      False         161.0     A\n",
              "3      1 2010-02-26        46.63  ...      False         140.0     A\n",
              "4      1 2010-05-03        46.50  ...      False         155.0     A\n",
              "\n",
              "[5 rows x 9 columns]"
            ]
          },
          "metadata": {
            "tags": []
          },
          "execution_count": 77
        }
      ]
    },
    {
      "cell_type": "code",
      "metadata": {
        "id": "pj7odx3E8Lss",
        "colab_type": "code",
        "colab": {
          "base_uri": "https://localhost:8080/",
          "height": 110
        },
        "outputId": "2f17e9ba-e4fa-4d21-d1e5-4186e5e7a8a5"
      },
      "source": [
        "original_stores.head(2)"
      ],
      "execution_count": 78,
      "outputs": [
        {
          "output_type": "execute_result",
          "data": {
            "text/html": [
              "<div>\n",
              "<style scoped>\n",
              "    .dataframe tbody tr th:only-of-type {\n",
              "        vertical-align: middle;\n",
              "    }\n",
              "\n",
              "    .dataframe tbody tr th {\n",
              "        vertical-align: top;\n",
              "    }\n",
              "\n",
              "    .dataframe thead th {\n",
              "        text-align: right;\n",
              "    }\n",
              "</style>\n",
              "<table border=\"1\" class=\"dataframe\">\n",
              "  <thead>\n",
              "    <tr style=\"text-align: right;\">\n",
              "      <th></th>\n",
              "      <th>Store</th>\n",
              "      <th>Type</th>\n",
              "      <th>Size</th>\n",
              "    </tr>\n",
              "  </thead>\n",
              "  <tbody>\n",
              "    <tr>\n",
              "      <th>0</th>\n",
              "      <td>1</td>\n",
              "      <td>A</td>\n",
              "      <td>151315</td>\n",
              "    </tr>\n",
              "    <tr>\n",
              "      <th>1</th>\n",
              "      <td>2</td>\n",
              "      <td>A</td>\n",
              "      <td>202307</td>\n",
              "    </tr>\n",
              "  </tbody>\n",
              "</table>\n",
              "</div>"
            ],
            "text/plain": [
              "   Store Type    Size\n",
              "0      1    A  151315\n",
              "1      2    A  202307"
            ]
          },
          "metadata": {
            "tags": []
          },
          "execution_count": 78
        }
      ]
    },
    {
      "cell_type": "markdown",
      "metadata": {
        "id": "jpNzpTQ_kcI2",
        "colab_type": "text"
      },
      "source": [
        "**Linear Model** giữa biến y là sales của cửa hàng và x là size của cửa hàng"
      ]
    },
    {
      "cell_type": "code",
      "metadata": {
        "id": "WN6co720Gokz",
        "colab_type": "code",
        "colab": {
          "base_uri": "https://localhost:8080/",
          "height": 811
        },
        "outputId": "d1cee4b8-bccb-41fc-c1fd-48df5df8fa45"
      },
      "source": [
        "import statsmodels.api as sm\n",
        "sales_by_store = sales.groupby([\"Store\"]).agg({\"Weekly_Sales\":\"sum\"})\n",
        "sales_by_store.sort_index(inplace=True)\n",
        "sales_by_store.Weekly_Sales = sales_by_store.Weekly_Sales/10000\n",
        "sales_by_store.Weekly_Sales = sales_by_store.Weekly_Sales.apply(int)\n",
        "sales_by_store_and_size = pd.merge(sales_by_store , original_stores[['Store','Size']],how='left', on=[\"Store\"])\n",
        "#sales_by_store_and_size.drop(['Type'],axis=1,inplace=True)\n",
        "\n",
        "results = sm.OLS(sales_by_store_and_size['Weekly_Sales'],sm.add_constant(sales_by_store_and_size['Size'])).fit()\n",
        "print(results.summary())\n",
        "sns.regplot(x='Weekly_Sales',y='Size',data=sales_by_store_and_size,truncate=True,scatter_kws = {'color': 'blue'}, line_kws = {'color': 'red'}).set_title('Relative between Size of Store and Sales of Store')\n"
      ],
      "execution_count": 104,
      "outputs": [
        {
          "output_type": "stream",
          "text": [
            "                            OLS Regression Results                            \n",
            "==============================================================================\n",
            "Dep. Variable:           Weekly_Sales   R-squared:                       0.716\n",
            "Model:                            OLS   Adj. R-squared:                  0.709\n",
            "Method:                 Least Squares   F-statistic:                     108.4\n",
            "Date:                Wed, 09 Sep 2020   Prob (F-statistic):           2.50e-13\n",
            "Time:                        15:51:59   Log-Likelihood:                -438.41\n",
            "No. Observations:                  45   AIC:                             880.8\n",
            "Df Residuals:                      43   BIC:                             884.4\n",
            "Df Model:                           1                                         \n",
            "Covariance Type:            nonrobust                                         \n",
            "==============================================================================\n",
            "                 coef    std err          t      P>|t|      [0.025      0.975]\n",
            "------------------------------------------------------------------------------\n",
            "const       1469.4302   1440.918      1.020      0.314   -1436.459    4375.319\n",
            "Size           0.1036      0.010     10.412      0.000       0.084       0.124\n",
            "==============================================================================\n",
            "Omnibus:                        5.600   Durbin-Watson:                   2.186\n",
            "Prob(Omnibus):                  0.061   Jarque-Bera (JB):                4.573\n",
            "Skew:                           0.758   Prob(JB):                        0.102\n",
            "Kurtosis:                       3.379   Cond. No.                     3.32e+05\n",
            "==============================================================================\n",
            "\n",
            "Warnings:\n",
            "[1] Standard Errors assume that the covariance matrix of the errors is correctly specified.\n",
            "[2] The condition number is large, 3.32e+05. This might indicate that there are\n",
            "strong multicollinearity or other numerical problems.\n"
          ],
          "name": "stdout"
        },
        {
          "output_type": "execute_result",
          "data": {
            "text/plain": [
              "Text(0.5, 1.0, 'Relative between Size of Store and Sales of Store')"
            ]
          },
          "metadata": {
            "tags": []
          },
          "execution_count": 104
        },
        {
          "output_type": "display_data",
          "data": {
            "image/png": "[encoded data removed]",
            "text/plain": [
              "<Figure size 432x288 with 1 Axes>"
            ]
          },
          "metadata": {
            "tags": []
          }
        }
      ]
    },
    {
      "cell_type": "markdown",
      "metadata": {
        "id": "7S58gHN-_8KL",
        "colab_type": "text"
      },
      "source": [
        "Có thể thấy sự tương quan giữa kích thước cửa hàng và doanh thu. Cửa hàng càng lớn thì doanh thu càng lớn và ngược lại"
      ]
    },
    {
      "cell_type": "markdown",
      "metadata": {
        "id": "-kZrPHx3SMNr",
        "colab_type": "text"
      },
      "source": [
        "**Hypothesis Testing**"
      ]
    },
    {
      "cell_type": "code",
      "metadata": {
        "id": "V_SbD5c4_9Yp",
        "colab_type": "code",
        "colab": {
          "base_uri": "https://localhost:8080/",
          "height": 202
        },
        "outputId": "152ae875-f7e1-46e9-8354-5a9e9160f956"
      },
      "source": [
        "sales_by_store_and_size.head()"
      ],
      "execution_count": 81,
      "outputs": [
        {
          "output_type": "execute_result",
          "data": {
            "text/html": [
              "<div>\n",
              "<style scoped>\n",
              "    .dataframe tbody tr th:only-of-type {\n",
              "        vertical-align: middle;\n",
              "    }\n",
              "\n",
              "    .dataframe tbody tr th {\n",
              "        vertical-align: top;\n",
              "    }\n",
              "\n",
              "    .dataframe thead th {\n",
              "        text-align: right;\n",
              "    }\n",
              "</style>\n",
              "<table border=\"1\" class=\"dataframe\">\n",
              "  <thead>\n",
              "    <tr style=\"text-align: right;\">\n",
              "      <th></th>\n",
              "      <th>Store</th>\n",
              "      <th>Weekly_Sales</th>\n",
              "      <th>Size</th>\n",
              "    </tr>\n",
              "  </thead>\n",
              "  <tbody>\n",
              "    <tr>\n",
              "      <th>0</th>\n",
              "      <td>1</td>\n",
              "      <td>22240</td>\n",
              "      <td>151315</td>\n",
              "    </tr>\n",
              "    <tr>\n",
              "      <th>1</th>\n",
              "      <td>2</td>\n",
              "      <td>27538</td>\n",
              "      <td>202307</td>\n",
              "    </tr>\n",
              "    <tr>\n",
              "      <th>2</th>\n",
              "      <td>3</td>\n",
              "      <td>5758</td>\n",
              "      <td>37392</td>\n",
              "    </tr>\n",
              "    <tr>\n",
              "      <th>3</th>\n",
              "      <td>4</td>\n",
              "      <td>29954</td>\n",
              "      <td>205863</td>\n",
              "    </tr>\n",
              "    <tr>\n",
              "      <th>4</th>\n",
              "      <td>5</td>\n",
              "      <td>4547</td>\n",
              "      <td>34875</td>\n",
              "    </tr>\n",
              "  </tbody>\n",
              "</table>\n",
              "</div>"
            ],
            "text/plain": [
              "   Store  Weekly_Sales    Size\n",
              "0      1         22240  151315\n",
              "1      2         27538  202307\n",
              "2      3          5758   37392\n",
              "3      4         29954  205863\n",
              "4      5          4547   34875"
            ]
          },
          "metadata": {
            "tags": []
          },
          "execution_count": 81
        }
      ]
    },
    {
      "cell_type": "markdown",
      "metadata": {
        "id": "ZQ4p9-CzUmeO",
        "colab_type": "text"
      },
      "source": [
        "Chúng ta sử dụng one sample t-test để xác định xem trung bình sales bằng 15000 hay không\n"
      ]
    },
    {
      "cell_type": "code",
      "metadata": {
        "id": "balbbQkITwNQ",
        "colab_type": "code",
        "colab": {
          "base_uri": "https://localhost:8080/",
          "height": 69
        },
        "outputId": "851c1b9c-0122-4f81-cb08-ac03467043dc"
      },
      "source": [
        "from scipy.stats import ttest_1samp\n",
        "sales_mean = np.mean(sales_by_store_and_size['Weekly_Sales'])\n",
        "print(sales_mean)\n",
        "tset, pval = ttest_1samp(sales_by_store_and_size['Weekly_Sales'], 15000)\n",
        "#null hypothesis is avg sales is 15000 or not\n",
        "print('p-values',pval)\n",
        "if pval < 0.05:    # alpha value is 0.05 or 5%\n",
        "   print(\" we are rejecting null hypothesis\")\n",
        "else:\n",
        "  print(\"we are accepting null hypothesis\")"
      ],
      "execution_count": 84,
      "outputs": [
        {
          "output_type": "stream",
          "text": [
            "14971.111111111111\n",
            "p-values 0.9803329077229772\n",
            "we are accepting null hypothesis\n"
          ],
          "name": "stdout"
        }
      ]
    },
    {
      "cell_type": "markdown",
      "metadata": {
        "id": "6vM4hVn5VB3K",
        "colab_type": "text"
      },
      "source": [
        "Qua test, chúng ta có thể thấy rằng trung bình 1 cửa hàng sẽ có doanh thu là 15000 từ đó, khi mở một cửa hàng mới, chúng ta có thể dự đoán doanh thu, chi phí, khả năng thu hồi vốn thông qua con số 15000 này"
      ]
    },
    {
      "cell_type": "code",
      "metadata": {
        "id": "e2IKL1BbVOuw",
        "colab_type": "code",
        "colab": {
          "base_uri": "https://localhost:8080/",
          "height": 250
        },
        "outputId": "94291085-2c75-4745-d620-465c33cf43e3"
      },
      "source": [
        "print(data.shape)\n",
        "data.head()"
      ],
      "execution_count": 86,
      "outputs": [
        {
          "output_type": "stream",
          "text": [
            "(143, 6)\n"
          ],
          "name": "stdout"
        },
        {
          "output_type": "execute_result",
          "data": {
            "text/html": [
              "<div>\n",
              "<style scoped>\n",
              "    .dataframe tbody tr th:only-of-type {\n",
              "        vertical-align: middle;\n",
              "    }\n",
              "\n",
              "    .dataframe tbody tr th {\n",
              "        vertical-align: top;\n",
              "    }\n",
              "\n",
              "    .dataframe thead th {\n",
              "        text-align: right;\n",
              "    }\n",
              "</style>\n",
              "<table border=\"1\" class=\"dataframe\">\n",
              "  <thead>\n",
              "    <tr style=\"text-align: right;\">\n",
              "      <th></th>\n",
              "      <th>Weekly_Sales</th>\n",
              "      <th>Temperature</th>\n",
              "      <th>Fuel_Price</th>\n",
              "      <th>IsHoliday</th>\n",
              "      <th>CPI</th>\n",
              "      <th>Unemployment</th>\n",
              "    </tr>\n",
              "    <tr>\n",
              "      <th>Date</th>\n",
              "      <th></th>\n",
              "      <th></th>\n",
              "      <th></th>\n",
              "      <th></th>\n",
              "      <th></th>\n",
              "      <th></th>\n",
              "    </tr>\n",
              "  </thead>\n",
              "  <tbody>\n",
              "    <tr>\n",
              "      <th>2010-01-10</th>\n",
              "      <td>42</td>\n",
              "      <td>69.868000</td>\n",
              "      <td>2.734333</td>\n",
              "      <td>False</td>\n",
              "      <td>168.354706</td>\n",
              "      <td>8.475289</td>\n",
              "    </tr>\n",
              "    <tr>\n",
              "      <th>2010-02-04</th>\n",
              "      <td>50</td>\n",
              "      <td>53.120889</td>\n",
              "      <td>2.827333</td>\n",
              "      <td>False</td>\n",
              "      <td>167.789036</td>\n",
              "      <td>8.497711</td>\n",
              "    </tr>\n",
              "    <tr>\n",
              "      <th>2010-02-07</th>\n",
              "      <td>48</td>\n",
              "      <td>77.133333</td>\n",
              "      <td>2.793511</td>\n",
              "      <td>False</td>\n",
              "      <td>167.982101</td>\n",
              "      <td>8.428578</td>\n",
              "    </tr>\n",
              "    <tr>\n",
              "      <th>2010-02-19</th>\n",
              "      <td>48</td>\n",
              "      <td>37.719778</td>\n",
              "      <td>2.672067</td>\n",
              "      <td>False</td>\n",
              "      <td>167.871686</td>\n",
              "      <td>8.619311</td>\n",
              "    </tr>\n",
              "    <tr>\n",
              "      <th>2010-02-26</th>\n",
              "      <td>43</td>\n",
              "      <td>39.243556</td>\n",
              "      <td>2.683933</td>\n",
              "      <td>False</td>\n",
              "      <td>167.909657</td>\n",
              "      <td>8.619311</td>\n",
              "    </tr>\n",
              "  </tbody>\n",
              "</table>\n",
              "</div>"
            ],
            "text/plain": [
              "            Weekly_Sales  Temperature  ...         CPI  Unemployment\n",
              "Date                                   ...                          \n",
              "2010-01-10            42    69.868000  ...  168.354706      8.475289\n",
              "2010-02-04            50    53.120889  ...  167.789036      8.497711\n",
              "2010-02-07            48    77.133333  ...  167.982101      8.428578\n",
              "2010-02-19            48    37.719778  ...  167.871686      8.619311\n",
              "2010-02-26            43    39.243556  ...  167.909657      8.619311\n",
              "\n",
              "[5 rows x 6 columns]"
            ]
          },
          "metadata": {
            "tags": []
          },
          "execution_count": 86
        }
      ]
    },
    {
      "cell_type": "markdown",
      "metadata": {
        "id": "7ANuyrRPZln6",
        "colab_type": "text"
      },
      "source": [
        "Test xem mean của 2 population có khác nhau hay không. Ở đây chúng ta kiểm tra xem lượng sales của các cửa hàng trong các năm có khác nhau hay không. Mục đích có thể khi có thêm cửa hàng mới, chúng ta có thể dự tính được việc đó có ảnh hưởng đến doanh thu của các cửa hàng khác trong năm không.\n",
        "Null hypothesis ở đây là mean của các năm giống nhau"
      ]
    },
    {
      "cell_type": "code",
      "metadata": {
        "id": "Nnjv4_PDXWQC",
        "colab_type": "code",
        "colab": {
          "base_uri": "https://localhost:8080/",
          "height": 347
        },
        "outputId": "81fee70f-fba1-4dba-865f-2567cc7f473c"
      },
      "source": [
        "temp = sales.groupby(\"Date\").agg({\"Weekly_Sales\":\"sum\"}).Weekly_Sales.apply(int).sort_index()\n",
        "print(temp.index.year.unique())\n",
        "sales_in2010= temp.loc[temp.index.year==2010,]\n",
        "sales_in2011= temp.loc[temp.index.year==2011,]\n",
        "sales_in2012= temp.loc[temp.index.year==2012,]\n",
        "from scipy.stats import ttest_ind\n",
        "\n",
        "print('Compare 2010 and 2011')\n",
        "mean_2010 = np.mean(sales_in2010)\n",
        "mean_2011 = np.mean(sales_in2011)\n",
        "print(\"sales mean 2010:\", mean_2010)\n",
        "print(\"sales mean 2011:\", mean_2011)\n",
        "sales2010_std = np.std(sales_in2010)\n",
        "sales2011_std = np.std(sales_in2011)\n",
        "print(\"sales std value in 2010:\",sales2010_std)\n",
        "print(\"sales std value in 2011:\",sales2011_std)\n",
        "ttest,pval = ttest_ind(sales_in2010,sales_in2011)\n",
        "print(\"p-value\",pval)\n",
        "if pval <0.05:\n",
        "  print(\"we reject null hypothesis\")\n",
        "else:\n",
        "  print(\"we accept null hypothesis\")\n",
        "print('------------------------------------------------------------------------')\n",
        "\n",
        "print('Compare 2011 and 2012')\n",
        "mean_2012 = np.mean(sales_in2012)\n",
        "print(\"sales mean 2012:\", mean_2012)\n",
        "sales2012_std = np.std(sales_in2012)\n",
        "print(\"sales std value in 2012:\",sales2012_std)\n",
        "ttest,pval = ttest_ind(sales_in2011,sales_in2012)\n",
        "print(\"p-value\",pval)\n",
        "if pval <0.05:\n",
        "  print(\"we reject null hypothesis\")\n",
        "else:\n",
        "  print(\"we accept null hypothesis\")\n",
        "print('------------------------------------------------------------------------')\n",
        "\n",
        "print('Compare 2010 and 2012')\n",
        "ttest,pval = ttest_ind(sales_in2010,sales_in2012)\n",
        "print(\"p-value\",pval)\n",
        "if pval <0.05:\n",
        "  print(\"we reject null hypothesis\")\n",
        "else:\n",
        "  print(\"we accept null hypothesis\")\n",
        "print('------------------------------------------------------------------------')\n"
      ],
      "execution_count": 100,
      "outputs": [
        {
          "output_type": "stream",
          "text": [
            "Int64Index([2010, 2011, 2012], dtype='int64', name='Date')\n",
            "Compare 2010 and 2011\n",
            "sales mean 2010: 47685127.041666664\n",
            "sales mean 2011: 47080768.90384615\n",
            "sales std value in 2010: 6544249.907186995\n",
            "sales std value in 2011: 5991720.328323947\n",
            "p-value 0.6342468027968597\n",
            "we accept null hypothesis\n",
            "------------------------------------------------------------------------\n",
            "Compare 2011 and 2012\n",
            "sales mean 2012: 46514717.11627907\n",
            "sales std value in 2012: 2435645.1615755875\n",
            "p-value 0.5667346396060543\n",
            "we accept null hypothesis\n",
            "------------------------------------------------------------------------\n",
            "Compare 2010 and 2012\n",
            "p-value 0.2769412727310672\n",
            "we accept null hypothesis\n",
            "------------------------------------------------------------------------\n"
          ],
          "name": "stdout"
        }
      ]
    },
    {
      "cell_type": "markdown",
      "metadata": {
        "id": "Mh-eKkCqbz3u",
        "colab_type": "text"
      },
      "source": [
        "Thông qua ba hypothesis testing, chúng ta có thể thấy rằng sales của ba năm hầu như không khác nhau."
      ]
    },
    {
      "cell_type": "code",
      "metadata": {
        "id": "qeBUH9dmc1Pj",
        "colab_type": "code",
        "colab": {
          "base_uri": "https://localhost:8080/",
          "height": 35
        },
        "outputId": "7ec02ba5-0c95-426f-9b7a-694d34f8094d"
      },
      "source": [
        "features.shape"
      ],
      "execution_count": 101,
      "outputs": [
        {
          "output_type": "execute_result",
          "data": {
            "text/plain": [
              "(8190, 12)"
            ]
          },
          "metadata": {
            "tags": []
          },
          "execution_count": 101
        }
      ]
    }
  ]
}