{
  "nbformat": 4,
  "nbformat_minor": 0,
  "metadata": {
    "colab": {
      "name": "January_flight_delay_prediction.ipynb",
      "provenance": [],
      "collapsed_sections": [],
      "authorship_tag": "ABX9TyO4TvYPJBV6G1csLfzMk8eK",
      "include_colab_link": true
    },
    "kernelspec": {
      "name": "python3",
      "display_name": "Python 3"
    }
  },
  "cells": [
    {
      "cell_type": "markdown",
      "metadata": {
        "id": "view-in-github",
        "colab_type": "text"
      },
      "source": [
        "<a href=\"https://colab.research.google.com/github/lhmtri18/analysis_ml_dl_python/blob/master/January_flight_delay_prediction.ipynb\" target=\"_parent\"><img src=\"https://colab.research.google.com/assets/colab-badge.svg\" alt=\"Open In Colab\"/></a>"
      ]
    },
    {
      "cell_type": "markdown",
      "metadata": {
        "id": "Xy33yd7e12kN",
        "colab_type": "text"
      },
      "source": [
        "This analyze the dataset January flight delay prediction from Kaggle.com \n"
      ]
    },
    {
      "cell_type": "markdown",
      "metadata": {
        "id": "y-5Byae912h0",
        "colab_type": "text"
      },
      "source": [
        "https://www.kaggle.com/divyansh22/flight-delay-prediction?select=Jan_2019_ontime.csv"
      ]
    },
    {
      "cell_type": "code",
      "metadata": {
        "id": "JfoMnuQD2H-0",
        "colab_type": "code",
        "colab": {}
      },
      "source": [
        " ! pip install -q kaggle\n",
        "from google.colab import files"
      ],
      "execution_count": 0,
      "outputs": []
    },
    {
      "cell_type": "markdown",
      "metadata": {
        "id": "AARVMHTU5XJN",
        "colab_type": "text"
      },
      "source": [
        "Get API from Kaggle to download **dataset**"
      ]
    },
    {
      "cell_type": "code",
      "metadata": {
        "id": "xVtcdwRu3xjv",
        "colab_type": "code",
        "outputId": "054c6227-7885-4120-82c4-93646afb5601",
        "colab": {
          "resources": {
            "http://localhost:8080/nbextensions/google.colab/files.js": {
              "data": "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",
              "ok": true,
              "headers": [
                [
                  "content-type",
                  "application/javascript"
                ]
              ],
              "status": 200,
              "status_text": ""
            }
          },
          "base_uri": "https://localhost:8080/",
          "height": 93
        }
      },
      "source": [
        "files.upload()"
      ],
      "execution_count": 0,
      "outputs": [
        {
          "output_type": "display_data",
          "data": {
            "text/html": [
              "\n",
              "     <input type=\"file\" id=\"files-a5f4c818-d5e1-4882-b83a-0b3fd63cd0fd\" name=\"files[]\" multiple disabled />\n",
              "     <output id=\"result-a5f4c818-d5e1-4882-b83a-0b3fd63cd0fd\">\n",
              "      Upload widget is only available when the cell has been executed in the\n",
              "      current browser session. Please rerun this cell to enable.\n",
              "      </output>\n",
              "      <script src=\"/nbextensions/google.colab/files.js\"></script> "
            ],
            "text/plain": [
              "<IPython.core.display.HTML object>"
            ]
          },
          "metadata": {
            "tags": []
          }
        },
        {
          "output_type": "stream",
          "text": [
            "Saving kaggle.json to kaggle.json\n"
          ],
          "name": "stdout"
        },
        {
          "output_type": "execute_result",
          "data": {
            "text/plain": [
              "{'kaggle.json': b'{\"username\":\"trlhunhminh\",\"key\":\"9193d2a2d5ae057c725abeaedf88abc8\"}'}"
            ]
          },
          "metadata": {
            "tags": []
          },
          "execution_count": 8
        }
      ]
    },
    {
      "cell_type": "code",
      "metadata": {
        "id": "r-vt_OZa3nZ5",
        "colab_type": "code",
        "outputId": "c927cd2f-4996-4677-cd8c-c95852f2d67a",
        "colab": {
          "base_uri": "https://localhost:8080/",
          "height": 35
        }
      },
      "source": [
        " ! mkdir ~/.kaggle"
      ],
      "execution_count": 0,
      "outputs": [
        {
          "output_type": "stream",
          "text": [
            "mkdir: cannot create directory ‘/root/.kaggle’: File exists\n"
          ],
          "name": "stdout"
        }
      ]
    },
    {
      "cell_type": "code",
      "metadata": {
        "id": "DZ5EdQmg44NH",
        "colab_type": "code",
        "colab": {}
      },
      "source": [
        " ! cp kaggle.json ~/.kaggle/\n",
        " ! chmod 600 ~/.kaggle/kaggle.json"
      ],
      "execution_count": 0,
      "outputs": []
    },
    {
      "cell_type": "code",
      "metadata": {
        "id": "bZGS7ACE3bNk",
        "colab_type": "code",
        "outputId": "70129630-171e-4e22-e271-4db0adb99e71",
        "colab": {
          "base_uri": "https://localhost:8080/",
          "height": 35
        }
      },
      "source": [
        "!kaggle datasets download -d divyansh22/flight-delay-prediction"
      ],
      "execution_count": 0,
      "outputs": [
        {
          "output_type": "stream",
          "text": [
            "flight-delay-prediction.zip: Skipping, found more recently modified local copy (use --force to force download)\n"
          ],
          "name": "stdout"
        }
      ]
    },
    {
      "cell_type": "code",
      "metadata": {
        "id": "cjKS_bkZ5AFB",
        "colab_type": "code",
        "outputId": "0dfd1f9b-f5f9-4065-8a52-bacc1e06ce11",
        "colab": {
          "base_uri": "https://localhost:8080/",
          "height": 35
        }
      },
      "source": [
        "from zipfile import ZipFile\n",
        "\n",
        "file_name='flight-delay-prediction.zip'\n",
        "with ZipFile(file_name,'r') as zip:\n",
        "  zip.extractall()\n",
        "  print('Done')"
      ],
      "execution_count": 0,
      "outputs": [
        {
          "output_type": "stream",
          "text": [
            "Done\n"
          ],
          "name": "stdout"
        }
      ]
    },
    {
      "cell_type": "code",
      "metadata": {
        "id": "pkK7MPJP5AEc",
        "colab_type": "code",
        "outputId": "51f90b9f-121e-47e3-92e5-6fde63756fc2",
        "colab": {
          "base_uri": "https://localhost:8080/",
          "height": 295
        }
      },
      "source": [
        "import pandas as pd\n",
        "Jan_2019_ontime= pd.read_csv('/content/Jan_2019_ontime.csv')\n",
        "Jan_2020_ontime= pd.read_csv('/content/Jan_2020_ontime.csv')\n",
        "print(Jan_2019_ontime.head())\n",
        "print(Jan_2020_ontime.head())"
      ],
      "execution_count": 0,
      "outputs": [
        {
          "output_type": "stream",
          "text": [
            "   DAY_OF_MONTH  DAY_OF_WEEK OP_UNIQUE_CARRIER  ...  DIVERTED DISTANCE Unnamed: 21\n",
            "0             1            2                9E  ...       0.0    300.0         NaN\n",
            "1             1            2                9E  ...       0.0    596.0         NaN\n",
            "2             1            2                9E  ...       0.0    229.0         NaN\n",
            "3             1            2                9E  ...       0.0    223.0         NaN\n",
            "4             1            2                9E  ...       0.0    579.0         NaN\n",
            "\n",
            "[5 rows x 22 columns]\n",
            "   DAY_OF_MONTH  DAY_OF_WEEK OP_UNIQUE_CARRIER  ...  DIVERTED DISTANCE Unnamed: 21\n",
            "0             1            3                EV  ...       0.0    174.0         NaN\n",
            "1             1            3                EV  ...       0.0    585.0         NaN\n",
            "2             1            3                EV  ...       0.0    631.0         NaN\n",
            "3             1            3                EV  ...       0.0    253.0         NaN\n",
            "4             1            3                EV  ...       0.0   1157.0         NaN\n",
            "\n",
            "[5 rows x 22 columns]\n"
          ],
          "name": "stdout"
        }
      ]
    },
    {
      "cell_type": "code",
      "metadata": {
        "id": "GPXhRfnR5ADq",
        "colab_type": "code",
        "colab": {}
      },
      "source": [
        "print(Jan_2019_ontime.columns)\n",
        "print(Jan_2020_ontime.columns)"
      ],
      "execution_count": 0,
      "outputs": []
    },
    {
      "cell_type": "markdown",
      "metadata": {
        "id": "MExDFhnCd63y",
        "colab_type": "text"
      },
      "source": [
        "Same columns\n"
      ]
    },
    {
      "cell_type": "code",
      "metadata": {
        "id": "xQfZzUOId_Cz",
        "colab_type": "code",
        "colab": {}
      },
      "source": [
        "print(Jan_2019_ontime.shape)\n",
        "print(Jan_2020_ontime.shape)"
      ],
      "execution_count": 0,
      "outputs": []
    },
    {
      "cell_type": "code",
      "metadata": {
        "id": "eYOEttaRd_B4",
        "colab_type": "code",
        "outputId": "5f19ca83-a7c9-4f31-ae5c-e4abeac2984f",
        "colab": {
          "base_uri": "https://localhost:8080/",
          "height": 52
        }
      },
      "source": [
        "#convert float to int\n",
        "#type(Jan_2019_ontime)\n",
        "#Jan_2019_ontime['CANCELLED']= int(round(Jan_2019_ontime['CANCELLED']))\n",
        "#Jan_2020_ontime['CANCELLED']= int(round(Jan_2020_ontime['CANCELLED']))\n",
        "#Jan_2019_ontime['CANCELLED'].head(20)\n",
        "Jan_2019_cancelled= Jan_2019_ontime[Jan_2019_ontime['CANCELLED']==1.]\n",
        "Jan_2020_cancelled= Jan_2020_ontime[Jan_2020_ontime['CANCELLED']==1.]\n",
        "print('Rate cancelled flight in 2019 is: %.20f' %(len(Jan_2019_cancelled)/len(Jan_2019_ontime)*100),'%')\n",
        "print('Rate cancelled flight in 2020 is: %.20f ' %(len(Jan_2020_cancelled)/len(Jan_2020_ontime)*100),'%')"
      ],
      "execution_count": 0,
      "outputs": [
        {
          "output_type": "stream",
          "text": [
            "Rate cancelled flight in 2019 is: 2.86411466047929286205 %\n",
            "Rate cancelled flight in 2020 is: 1.14070068791100953653  %\n"
          ],
          "name": "stdout"
        }
      ]
    },
    {
      "cell_type": "markdown",
      "metadata": {
        "id": "BZPAEy0ulnBh",
        "colab_type": "text"
      },
      "source": [
        "**Rate cancelled flight in 2020 decrease compared with it in 2019**"
      ]
    },
    {
      "cell_type": "code",
      "metadata": {
        "id": "D0bFa7QkkpWa",
        "colab_type": "code",
        "colab": {}
      },
      "source": [
        "nb_flight_by_daymonth_2019= Jan_2019_ontime.groupby('DAY_OF_MONTH')['DAY_OF_MONTH'].count()\n",
        "#nb_flight_by_daymonth_2019= pd.DataFrame(nb_flight_by_daymonth_2019.values,index=nb_flight_by_daymonth_2019.index, columns=['number_of_flight'])\n",
        "nb_flight_by_daymonth_2020= Jan_2020_ontime.groupby('DAY_OF_MONTH')['DAY_OF_MONTH'].count()\n",
        "#nb_flight_by_daymonth_2020= pd.DataFrame(nb_flight_by_daymonth_2020.values,index=nb_flight_by_daymonth_2020.index, columns=['number_of_flight'])\n",
        "\n",
        "nb_flight_by_daymonth_2019_cancel= Jan_2019_cancelled.groupby('DAY_OF_MONTH')['DAY_OF_MONTH'].count()\n",
        "#nb_flight_by_daymonth_2019_cancel= pd.DataFrame(nb_flight_by_daymonth_2019.values,index=nb_flight_by_daymonth_2019_cancel.index, columns=['number_of_flight'])\n",
        "nb_flight_by_daymonth_2020_cancel= Jan_2020_cancelled.groupby('DAY_OF_MONTH')['DAY_OF_MONTH'].count()\n",
        "#nb_flight_by_daymonth_2020_cancel= pd.DataFrame(nb_flight_by_daymonth_2020_cancel.values,index=nb_flight_by_daymonth_2020_cancel.index, columns=['number_of_flight'])\n"
      ],
      "execution_count": 0,
      "outputs": []
    },
    {
      "cell_type": "code",
      "metadata": {
        "id": "W_lA5-TNrWDl",
        "colab_type": "code",
        "colab": {}
      },
      "source": [
        "import matplotlib.pyplot as plt\n",
        "import numpy as np\n",
        "import seaborn as sns"
      ],
      "execution_count": 0,
      "outputs": []
    },
    {
      "cell_type": "code",
      "metadata": {
        "id": "fpinfPg_wt1g",
        "colab_type": "code",
        "outputId": "c1d861d4-eb4f-4574-87b5-bd93cc70cd0f",
        "colab": {
          "base_uri": "https://localhost:8080/",
          "height": 280
        }
      },
      "source": [
        "ax1= sns.barplot(x= nb_flight_by_daymonth_2019.index,y= nb_flight_by_daymonth_2019.values)"
      ],
      "execution_count": 0,
      "outputs": [
        {
          "output_type": "display_data",
          "data": {
            "image/png": "[encoded data removed]",
            "text/plain": [
              "<Figure size 432x288 with 1 Axes>"
            ]
          },
          "metadata": {
            "tags": [],
            "needs_background": "light"
          }
        }
      ]
    },
    {
      "cell_type": "code",
      "metadata": {
        "id": "K1PRsOl2xg0f",
        "colab_type": "code",
        "outputId": "46f047af-71ac-430d-9202-945cc7036a9d",
        "colab": {
          "base_uri": "https://localhost:8080/",
          "height": 280
        }
      },
      "source": [
        "ax2= sns.barplot(x= nb_flight_by_daymonth_2020.index,y= nb_flight_by_daymonth_2020.values)"
      ],
      "execution_count": 0,
      "outputs": [
        {
          "output_type": "display_data",
          "data": {
            "image/png": "[encoded data removed]",
            "text/plain": [
              "<Figure size 432x288 with 1 Axes>"
            ]
          },
          "metadata": {
            "tags": [],
            "needs_background": "light"
          }
        }
      ]
    },
    {
      "cell_type": "markdown",
      "metadata": {
        "id": "5AqvVdmCxpsQ",
        "colab_type": "text"
      },
      "source": [
        "The trend of flight in two years quite the same. Let's look at cancelled flight"
      ]
    },
    {
      "cell_type": "code",
      "metadata": {
        "id": "wWbv9nX0xgzf",
        "colab_type": "code",
        "outputId": "406a967f-eff0-43a2-ad7d-4e51a016e2b1",
        "colab": {
          "base_uri": "https://localhost:8080/",
          "height": 280
        }
      },
      "source": [
        "ax3= sns.barplot(x= nb_flight_by_daymonth_2019_cancel.index,y= nb_flight_by_daymonth_2019_cancel.values)"
      ],
      "execution_count": 0,
      "outputs": [
        {
          "output_type": "display_data",
          "data": {
            "image/png": "[encoded data removed]",
            "text/plain": [
              "<Figure size 432x288 with 1 Axes>"
            ]
          },
          "metadata": {
            "tags": [],
            "needs_background": "light"
          }
        }
      ]
    },
    {
      "cell_type": "markdown",
      "metadata": {
        "id": "MOLFhVLlyCsu",
        "colab_type": "text"
      },
      "source": [
        "In 2019,in last few day of months usually have delay flight."
      ]
    },
    {
      "cell_type": "code",
      "metadata": {
        "id": "CFzD1_Cnx7ol",
        "colab_type": "code",
        "outputId": "14df028f-399a-486c-9719-a420fbfbce17",
        "colab": {
          "base_uri": "https://localhost:8080/",
          "height": 280
        }
      },
      "source": [
        "ax4= sns.barplot(x= nb_flight_by_daymonth_2020_cancel.index,y= nb_flight_by_daymonth_2020_cancel.values)"
      ],
      "execution_count": 0,
      "outputs": [
        {
          "output_type": "display_data",
          "data": {
            "image/png": "[encoded data removed]",
            "text/plain": [
              "<Figure size 432x288 with 1 Axes>"
            ]
          },
          "metadata": {
            "tags": [],
            "needs_background": "light"
          }
        }
      ]
    },
    {
      "cell_type": "markdown",
      "metadata": {
        "id": "84gpx3VoyQ2b",
        "colab_type": "text"
      },
      "source": [
        "Besides that, in 2020, cancelled flight is in middle of months"
      ]
    },
    {
      "cell_type": "code",
      "metadata": {
        "id": "3Q8bXFjr7VAY",
        "colab_type": "code",
        "outputId": "3b39d3da-59a7-445d-c833-cd02a271cc9a",
        "colab": {
          "base_uri": "https://localhost:8080/",
          "height": 447
        }
      },
      "source": [
        "Jan_2019_cancelled['TIME']= '2019'\n",
        "Jan_2020_cancelled['TIME']='2020'\n",
        "cancelled_flight= pd.concat([Jan_2019_cancelled,Jan_2020_cancelled])\n",
        "cancelled_flight.head()"
      ],
      "execution_count": 0,
      "outputs": [
        {
          "output_type": "stream",
          "text": [
            "/usr/local/lib/python3.6/dist-packages/ipykernel_launcher.py:1: SettingWithCopyWarning: \n",
            "A value is trying to be set on a copy of a slice from a DataFrame.\n",
            "Try using .loc[row_indexer,col_indexer] = value instead\n",
            "\n",
            "See the caveats in the documentation: https://pandas.pydata.org/pandas-docs/stable/user_guide/indexing.html#returning-a-view-versus-a-copy\n",
            "  \"\"\"Entry point for launching an IPython kernel.\n",
            "/usr/local/lib/python3.6/dist-packages/ipykernel_launcher.py:2: SettingWithCopyWarning: \n",
            "A value is trying to be set on a copy of a slice from a DataFrame.\n",
            "Try using .loc[row_indexer,col_indexer] = value instead\n",
            "\n",
            "See the caveats in the documentation: https://pandas.pydata.org/pandas-docs/stable/user_guide/indexing.html#returning-a-view-versus-a-copy\n",
            "  \n"
          ],
          "name": "stderr"
        },
        {
          "output_type": "execute_result",
          "data": {
            "text/html": [
              "<div>\n",
              "<style scoped>\n",
              "    .dataframe tbody tr th:only-of-type {\n",
              "        vertical-align: middle;\n",
              "    }\n",
              "\n",
              "    .dataframe tbody tr th {\n",
              "        vertical-align: top;\n",
              "    }\n",
              "\n",
              "    .dataframe thead th {\n",
              "        text-align: right;\n",
              "    }\n",
              "</style>\n",
              "<table border=\"1\" class=\"dataframe\">\n",
              "  <thead>\n",
              "    <tr style=\"text-align: right;\">\n",
              "      <th></th>\n",
              "      <th>DAY_OF_MONTH</th>\n",
              "      <th>DAY_OF_WEEK</th>\n",
              "      <th>OP_UNIQUE_CARRIER</th>\n",
              "      <th>OP_CARRIER_AIRLINE_ID</th>\n",
              "      <th>OP_CARRIER</th>\n",
              "      <th>TAIL_NUM</th>\n",
              "      <th>OP_CARRIER_FL_NUM</th>\n",
              "      <th>ORIGIN_AIRPORT_ID</th>\n",
              "      <th>ORIGIN_AIRPORT_SEQ_ID</th>\n",
              "      <th>ORIGIN</th>\n",
              "      <th>DEST_AIRPORT_ID</th>\n",
              "      <th>DEST_AIRPORT_SEQ_ID</th>\n",
              "      <th>DEST</th>\n",
              "      <th>DEP_TIME</th>\n",
              "      <th>DEP_DEL15</th>\n",
              "      <th>DEP_TIME_BLK</th>\n",
              "      <th>ARR_TIME</th>\n",
              "      <th>ARR_DEL15</th>\n",
              "      <th>CANCELLED</th>\n",
              "      <th>DIVERTED</th>\n",
              "      <th>DISTANCE</th>\n",
              "      <th>Unnamed: 21</th>\n",
              "      <th>TIME</th>\n",
              "    </tr>\n",
              "  </thead>\n",
              "  <tbody>\n",
              "    <tr>\n",
              "      <th>397</th>\n",
              "      <td>1</td>\n",
              "      <td>2</td>\n",
              "      <td>AA</td>\n",
              "      <td>19805</td>\n",
              "      <td>AA</td>\n",
              "      <td>N965NN</td>\n",
              "      <td>178</td>\n",
              "      <td>14027</td>\n",
              "      <td>1402702</td>\n",
              "      <td>PBI</td>\n",
              "      <td>13930</td>\n",
              "      <td>1393007</td>\n",
              "      <td>ORD</td>\n",
              "      <td>NaN</td>\n",
              "      <td>NaN</td>\n",
              "      <td>0600-0659</td>\n",
              "      <td>NaN</td>\n",
              "      <td>NaN</td>\n",
              "      <td>1.0</td>\n",
              "      <td>0.0</td>\n",
              "      <td>1143.0</td>\n",
              "      <td>NaN</td>\n",
              "      <td>2019</td>\n",
              "    </tr>\n",
              "    <tr>\n",
              "      <th>403</th>\n",
              "      <td>1</td>\n",
              "      <td>2</td>\n",
              "      <td>AA</td>\n",
              "      <td>19805</td>\n",
              "      <td>AA</td>\n",
              "      <td>N9015D</td>\n",
              "      <td>189</td>\n",
              "      <td>11503</td>\n",
              "      <td>1150305</td>\n",
              "      <td>EGE</td>\n",
              "      <td>11298</td>\n",
              "      <td>1129806</td>\n",
              "      <td>DFW</td>\n",
              "      <td>NaN</td>\n",
              "      <td>NaN</td>\n",
              "      <td>0700-0759</td>\n",
              "      <td>NaN</td>\n",
              "      <td>NaN</td>\n",
              "      <td>1.0</td>\n",
              "      <td>0.0</td>\n",
              "      <td>721.0</td>\n",
              "      <td>NaN</td>\n",
              "      <td>2019</td>\n",
              "    </tr>\n",
              "    <tr>\n",
              "      <th>971</th>\n",
              "      <td>1</td>\n",
              "      <td>2</td>\n",
              "      <td>OH</td>\n",
              "      <td>20397</td>\n",
              "      <td>OH</td>\n",
              "      <td>N572NN</td>\n",
              "      <td>5103</td>\n",
              "      <td>11057</td>\n",
              "      <td>1105703</td>\n",
              "      <td>CLT</td>\n",
              "      <td>14193</td>\n",
              "      <td>1419306</td>\n",
              "      <td>PNS</td>\n",
              "      <td>1953.0</td>\n",
              "      <td>0.0</td>\n",
              "      <td>1900-1959</td>\n",
              "      <td>NaN</td>\n",
              "      <td>NaN</td>\n",
              "      <td>1.0</td>\n",
              "      <td>0.0</td>\n",
              "      <td>488.0</td>\n",
              "      <td>NaN</td>\n",
              "      <td>2019</td>\n",
              "    </tr>\n",
              "    <tr>\n",
              "      <th>1973</th>\n",
              "      <td>1</td>\n",
              "      <td>2</td>\n",
              "      <td>EV</td>\n",
              "      <td>20366</td>\n",
              "      <td>EV</td>\n",
              "      <td>N17984</td>\n",
              "      <td>4187</td>\n",
              "      <td>12448</td>\n",
              "      <td>1244807</td>\n",
              "      <td>JAN</td>\n",
              "      <td>12266</td>\n",
              "      <td>1226603</td>\n",
              "      <td>IAH</td>\n",
              "      <td>NaN</td>\n",
              "      <td>NaN</td>\n",
              "      <td>0900-0959</td>\n",
              "      <td>NaN</td>\n",
              "      <td>NaN</td>\n",
              "      <td>1.0</td>\n",
              "      <td>0.0</td>\n",
              "      <td>351.0</td>\n",
              "      <td>NaN</td>\n",
              "      <td>2019</td>\n",
              "    </tr>\n",
              "    <tr>\n",
              "      <th>1975</th>\n",
              "      <td>1</td>\n",
              "      <td>2</td>\n",
              "      <td>EV</td>\n",
              "      <td>20366</td>\n",
              "      <td>EV</td>\n",
              "      <td>N17984</td>\n",
              "      <td>4189</td>\n",
              "      <td>12266</td>\n",
              "      <td>1226603</td>\n",
              "      <td>IAH</td>\n",
              "      <td>12448</td>\n",
              "      <td>1244807</td>\n",
              "      <td>JAN</td>\n",
              "      <td>NaN</td>\n",
              "      <td>NaN</td>\n",
              "      <td>0700-0759</td>\n",
              "      <td>NaN</td>\n",
              "      <td>NaN</td>\n",
              "      <td>1.0</td>\n",
              "      <td>0.0</td>\n",
              "      <td>351.0</td>\n",
              "      <td>NaN</td>\n",
              "      <td>2019</td>\n",
              "    </tr>\n",
              "  </tbody>\n",
              "</table>\n",
              "</div>"
            ],
            "text/plain": [
              "      DAY_OF_MONTH  DAY_OF_WEEK OP_UNIQUE_CARRIER  ...  DISTANCE Unnamed: 21  TIME\n",
              "397              1            2                AA  ...    1143.0         NaN  2019\n",
              "403              1            2                AA  ...     721.0         NaN  2019\n",
              "971              1            2                OH  ...     488.0         NaN  2019\n",
              "1973             1            2                EV  ...     351.0         NaN  2019\n",
              "1975             1            2                EV  ...     351.0         NaN  2019\n",
              "\n",
              "[5 rows x 23 columns]"
            ]
          },
          "metadata": {
            "tags": []
          },
          "execution_count": 22
        }
      ]
    },
    {
      "cell_type": "code",
      "metadata": {
        "id": "qnkH2LvW6hSV",
        "colab_type": "code",
        "outputId": "92e7bf21-f2fa-4017-a34e-0af946b27520",
        "colab": {
          "base_uri": "https://localhost:8080/",
          "height": 296
        }
      },
      "source": [
        "sns.countplot(x = 'DAY_OF_WEEK', hue='TIME', data=cancelled_flight, palette = 'magma')\n",
        "plt.title('Cancelled flight by day of week')\n",
        "plt.show()"
      ],
      "execution_count": 0,
      "outputs": [
        {
          "output_type": "display_data",
          "data": {
            "image/png": "[encoded data removed]",
            "text/plain": [
              "<Figure size 432x288 with 1 Axes>"
            ]
          },
          "metadata": {
            "tags": [],
            "needs_background": "light"
          }
        }
      ]
    },
    {
      "cell_type": "markdown",
      "metadata": {
        "id": "TxnFfnMP8Mc9",
        "colab_type": "text"
      },
      "source": [
        "In 2019, almost flights are cancelled some 3 days of week, but in 2020, friday and saturday is the time that flights are usually cancelled "
      ]
    },
    {
      "cell_type": "code",
      "metadata": {
        "id": "NLUQ9fRD8obQ",
        "colab_type": "code",
        "outputId": "c103604a-1797-4596-e429-1fbd38800efd",
        "colab": {
          "base_uri": "https://localhost:8080/",
          "height": 295
        }
      },
      "source": [
        "#the origin of flight that is delayed\n",
        "most_delay_origin_2019= Jan_2019_cancelled.groupby('ORIGIN')['ORIGIN'].count()\n",
        "most_delay_origin_2019.sort_values(ascending=False,inplace=True)\n",
        "most_delay_origin_2019_top10 = most_delay_origin_2019[:10]\n",
        "sns.barplot(x=most_delay_origin_2019_top10.index,y= most_delay_origin_2019_top10.values)\n",
        "plt.title('Top 10 origin that flights are delayed most in 2019')\n",
        "plt.show()"
      ],
      "execution_count": 0,
      "outputs": [
        {
          "output_type": "display_data",
          "data": {
            "image/png": "[encoded data removed]",
            "text/plain": [
              "<Figure size 432x288 with 1 Axes>"
            ]
          },
          "metadata": {
            "tags": [],
            "needs_background": "light"
          }
        }
      ]
    },
    {
      "cell_type": "code",
      "metadata": {
        "id": "nPHZV-q9AT2v",
        "colab_type": "code",
        "outputId": "352dded0-acc1-46e2-bb17-f76a31967e36",
        "colab": {
          "base_uri": "https://localhost:8080/",
          "height": 295
        }
      },
      "source": [
        "#the origin of flight that is delayed\n",
        "most_delay_origin_2020= Jan_2020_cancelled.groupby('ORIGIN')['ORIGIN'].count()\n",
        "most_delay_origin_2020.sort_values(ascending=False,inplace=True)\n",
        "most_delay_origin_2020_top10 = most_delay_origin_2020[:10]\n",
        "sns.barplot(x=most_delay_origin_2020_top10.index,y= most_delay_origin_2020_top10.values)\n",
        "plt.title('Top 10 origin that flights are delayed most in 2020')\n",
        "plt.show()"
      ],
      "execution_count": 0,
      "outputs": [
        {
          "output_type": "display_data",
          "data": {
            "image/png": "[encoded data removed]",
            "text/plain": [
              "<Figure size 432x288 with 1 Axes>"
            ]
          },
          "metadata": {
            "tags": [],
            "needs_background": "light"
          }
        }
      ]
    },
    {
      "cell_type": "markdown",
      "metadata": {
        "id": "QOOy41KhAjbF",
        "colab_type": "text"
      },
      "source": [
        "ORD in two years is leading place that the flights are delayed most"
      ]
    },
    {
      "cell_type": "code",
      "metadata": {
        "id": "JJ7t1bxqAT1b",
        "colab_type": "code",
        "outputId": "4420d1d6-21bb-4ef0-a72a-8aceac795193",
        "colab": {
          "base_uri": "https://localhost:8080/",
          "height": 295
        }
      },
      "source": [
        "#the dest of flight that is delayed\n",
        "most_delay_dest_2019= Jan_2019_cancelled.groupby('DEST')['DEST'].count()\n",
        "most_delay_dest_2019.sort_values(ascending=False,inplace=True)\n",
        "most_delay_dest_2019_top10 = most_delay_dest_2019[:10]\n",
        "sns.barplot(x=most_delay_dest_2019_top10.index,y= most_delay_dest_2019_top10.values)\n",
        "plt.title('Top 10 dest that flights are delayed most in 2019')\n",
        "plt.show()"
      ],
      "execution_count": 0,
      "outputs": [
        {
          "output_type": "display_data",
          "data": {
            "image/png": "[encoded data removed]",
            "text/plain": [
              "<Figure size 432x288 with 1 Axes>"
            ]
          },
          "metadata": {
            "tags": [],
            "needs_background": "light"
          }
        }
      ]
    },
    {
      "cell_type": "code",
      "metadata": {
        "id": "8h5OWvObBBJE",
        "colab_type": "code",
        "outputId": "c5015c31-48d1-44a9-eb8d-7449ba6b73a4",
        "colab": {
          "base_uri": "https://localhost:8080/",
          "height": 295
        }
      },
      "source": [
        "#the dest of flight that is delayed\n",
        "most_delay_dest_2020= Jan_2020_cancelled.groupby('DEST')['DEST'].count()\n",
        "most_delay_dest_2020.sort_values(ascending=False,inplace=True)\n",
        "most_delay_dest_2020_top10 = most_delay_dest_2020[:10]\n",
        "sns.barplot(x=most_delay_dest_2020_top10.index,y= most_delay_dest_2020_top10.values)\n",
        "plt.title('Top 10 dest that flights are delayed most in 2020')\n",
        "plt.show()"
      ],
      "execution_count": 0,
      "outputs": [
        {
          "output_type": "display_data",
          "data": {
            "image/png": "[encoded data removed]",
            "text/plain": [
              "<Figure size 432x288 with 1 Axes>"
            ]
          },
          "metadata": {
            "tags": [],
            "needs_background": "light"
          }
        }
      ]
    },
    {
      "cell_type": "markdown",
      "metadata": {
        "id": "qPDiw04qBU8U",
        "colab_type": "text"
      },
      "source": [
        "ORD is stil leading in term of destination. May be this destination airport is too crowded or some significant reason that make it busy."
      ]
    },
    {
      "cell_type": "code",
      "metadata": {
        "id": "bidKxX_4BjHR",
        "colab_type": "code",
        "outputId": "914e854f-81ba-4558-f681-abe2f2ef8c6b",
        "colab": {
          "base_uri": "https://localhost:8080/",
          "height": 35
        }
      },
      "source": [
        "cancelled_flight_diverted= cancelled_flight[cancelled_flight['DIVERTED']==1.]\n",
        "#cancelled_flight['DIVERTED'].unique()\n",
        "print('Rate of diverted perharps make the flights delayed: ',len(cancelled_flight_diverted)/len(cancelled_flight)*100, ' %')"
      ],
      "execution_count": 0,
      "outputs": [
        {
          "output_type": "stream",
          "text": [
            "Rate of diverted perharps make the flights delayed:  0.0  %\n"
          ],
          "name": "stdout"
        }
      ]
    },
    {
      "cell_type": "markdown",
      "metadata": {
        "id": "joDZSzbSDHGi",
        "colab_type": "text"
      },
      "source": [
        "Rate shows that divertion doesn't make delay."
      ]
    },
    {
      "cell_type": "code",
      "metadata": {
        "id": "NnKbeZgxDor_",
        "colab_type": "code",
        "outputId": "f01bebe3-10bf-49de-8d85-ddc02e7c9603",
        "colab": {
          "base_uri": "https://localhost:8080/",
          "height": 239
        }
      },
      "source": [
        "Jan_2019_ontime.head()"
      ],
      "execution_count": 0,
      "outputs": [
        {
          "output_type": "execute_result",
          "data": {
            "text/html": [
              "<div>\n",
              "<style scoped>\n",
              "    .dataframe tbody tr th:only-of-type {\n",
              "        vertical-align: middle;\n",
              "    }\n",
              "\n",
              "    .dataframe tbody tr th {\n",
              "        vertical-align: top;\n",
              "    }\n",
              "\n",
              "    .dataframe thead th {\n",
              "        text-align: right;\n",
              "    }\n",
              "</style>\n",
              "<table border=\"1\" class=\"dataframe\">\n",
              "  <thead>\n",
              "    <tr style=\"text-align: right;\">\n",
              "      <th></th>\n",
              "      <th>DAY_OF_MONTH</th>\n",
              "      <th>DAY_OF_WEEK</th>\n",
              "      <th>OP_UNIQUE_CARRIER</th>\n",
              "      <th>OP_CARRIER_AIRLINE_ID</th>\n",
              "      <th>OP_CARRIER</th>\n",
              "      <th>TAIL_NUM</th>\n",
              "      <th>OP_CARRIER_FL_NUM</th>\n",
              "      <th>ORIGIN_AIRPORT_ID</th>\n",
              "      <th>ORIGIN_AIRPORT_SEQ_ID</th>\n",
              "      <th>ORIGIN</th>\n",
              "      <th>DEST_AIRPORT_ID</th>\n",
              "      <th>DEST_AIRPORT_SEQ_ID</th>\n",
              "      <th>DEST</th>\n",
              "      <th>DEP_TIME</th>\n",
              "      <th>DEP_DEL15</th>\n",
              "      <th>DEP_TIME_BLK</th>\n",
              "      <th>ARR_TIME</th>\n",
              "      <th>ARR_DEL15</th>\n",
              "      <th>CANCELLED</th>\n",
              "      <th>DIVERTED</th>\n",
              "      <th>DISTANCE</th>\n",
              "      <th>Unnamed: 21</th>\n",
              "    </tr>\n",
              "  </thead>\n",
              "  <tbody>\n",
              "    <tr>\n",
              "      <th>0</th>\n",
              "      <td>1</td>\n",
              "      <td>2</td>\n",
              "      <td>9E</td>\n",
              "      <td>20363</td>\n",
              "      <td>9E</td>\n",
              "      <td>N8688C</td>\n",
              "      <td>3280</td>\n",
              "      <td>11953</td>\n",
              "      <td>1195302</td>\n",
              "      <td>GNV</td>\n",
              "      <td>10397</td>\n",
              "      <td>1039707</td>\n",
              "      <td>ATL</td>\n",
              "      <td>601.0</td>\n",
              "      <td>0.0</td>\n",
              "      <td>0600-0659</td>\n",
              "      <td>722.0</td>\n",
              "      <td>0.0</td>\n",
              "      <td>0.0</td>\n",
              "      <td>0.0</td>\n",
              "      <td>300.0</td>\n",
              "      <td>NaN</td>\n",
              "    </tr>\n",
              "    <tr>\n",
              "      <th>1</th>\n",
              "      <td>1</td>\n",
              "      <td>2</td>\n",
              "      <td>9E</td>\n",
              "      <td>20363</td>\n",
              "      <td>9E</td>\n",
              "      <td>N348PQ</td>\n",
              "      <td>3281</td>\n",
              "      <td>13487</td>\n",
              "      <td>1348702</td>\n",
              "      <td>MSP</td>\n",
              "      <td>11193</td>\n",
              "      <td>1119302</td>\n",
              "      <td>CVG</td>\n",
              "      <td>1359.0</td>\n",
              "      <td>0.0</td>\n",
              "      <td>1400-1459</td>\n",
              "      <td>1633.0</td>\n",
              "      <td>0.0</td>\n",
              "      <td>0.0</td>\n",
              "      <td>0.0</td>\n",
              "      <td>596.0</td>\n",
              "      <td>NaN</td>\n",
              "    </tr>\n",
              "    <tr>\n",
              "      <th>2</th>\n",
              "      <td>1</td>\n",
              "      <td>2</td>\n",
              "      <td>9E</td>\n",
              "      <td>20363</td>\n",
              "      <td>9E</td>\n",
              "      <td>N8896A</td>\n",
              "      <td>3282</td>\n",
              "      <td>11433</td>\n",
              "      <td>1143302</td>\n",
              "      <td>DTW</td>\n",
              "      <td>11193</td>\n",
              "      <td>1119302</td>\n",
              "      <td>CVG</td>\n",
              "      <td>1215.0</td>\n",
              "      <td>0.0</td>\n",
              "      <td>1200-1259</td>\n",
              "      <td>1329.0</td>\n",
              "      <td>0.0</td>\n",
              "      <td>0.0</td>\n",
              "      <td>0.0</td>\n",
              "      <td>229.0</td>\n",
              "      <td>NaN</td>\n",
              "    </tr>\n",
              "    <tr>\n",
              "      <th>3</th>\n",
              "      <td>1</td>\n",
              "      <td>2</td>\n",
              "      <td>9E</td>\n",
              "      <td>20363</td>\n",
              "      <td>9E</td>\n",
              "      <td>N8886A</td>\n",
              "      <td>3283</td>\n",
              "      <td>15249</td>\n",
              "      <td>1524906</td>\n",
              "      <td>TLH</td>\n",
              "      <td>10397</td>\n",
              "      <td>1039707</td>\n",
              "      <td>ATL</td>\n",
              "      <td>1521.0</td>\n",
              "      <td>0.0</td>\n",
              "      <td>1500-1559</td>\n",
              "      <td>1625.0</td>\n",
              "      <td>0.0</td>\n",
              "      <td>0.0</td>\n",
              "      <td>0.0</td>\n",
              "      <td>223.0</td>\n",
              "      <td>NaN</td>\n",
              "    </tr>\n",
              "    <tr>\n",
              "      <th>4</th>\n",
              "      <td>1</td>\n",
              "      <td>2</td>\n",
              "      <td>9E</td>\n",
              "      <td>20363</td>\n",
              "      <td>9E</td>\n",
              "      <td>N8974C</td>\n",
              "      <td>3284</td>\n",
              "      <td>10397</td>\n",
              "      <td>1039707</td>\n",
              "      <td>ATL</td>\n",
              "      <td>11778</td>\n",
              "      <td>1177801</td>\n",
              "      <td>FSM</td>\n",
              "      <td>1847.0</td>\n",
              "      <td>0.0</td>\n",
              "      <td>1900-1959</td>\n",
              "      <td>1940.0</td>\n",
              "      <td>0.0</td>\n",
              "      <td>0.0</td>\n",
              "      <td>0.0</td>\n",
              "      <td>579.0</td>\n",
              "      <td>NaN</td>\n",
              "    </tr>\n",
              "  </tbody>\n",
              "</table>\n",
              "</div>"
            ],
            "text/plain": [
              "   DAY_OF_MONTH  DAY_OF_WEEK OP_UNIQUE_CARRIER  ...  DIVERTED DISTANCE Unnamed: 21\n",
              "0             1            2                9E  ...       0.0    300.0         NaN\n",
              "1             1            2                9E  ...       0.0    596.0         NaN\n",
              "2             1            2                9E  ...       0.0    229.0         NaN\n",
              "3             1            2                9E  ...       0.0    223.0         NaN\n",
              "4             1            2                9E  ...       0.0    579.0         NaN\n",
              "\n",
              "[5 rows x 22 columns]"
            ]
          },
          "metadata": {
            "tags": []
          },
          "execution_count": 36
        }
      ]
    },
    {
      "cell_type": "code",
      "metadata": {
        "id": "rm5Krhvjaldp",
        "colab_type": "code",
        "outputId": "851354af-9283-46d3-cc61-f5642aa51d9a",
        "colab": {
          "base_uri": "https://localhost:8080/",
          "height": 416
        }
      },
      "source": [
        "# detect which column has missing values\n",
        "def check_null(x):\n",
        "  return any(x.isnull())\n",
        "Jan_2019_ontime.apply(check_null)"
      ],
      "execution_count": 0,
      "outputs": [
        {
          "output_type": "execute_result",
          "data": {
            "text/plain": [
              "DAY_OF_MONTH             False\n",
              "DAY_OF_WEEK              False\n",
              "OP_UNIQUE_CARRIER        False\n",
              "OP_CARRIER_AIRLINE_ID    False\n",
              "OP_CARRIER               False\n",
              "TAIL_NUM                  True\n",
              "OP_CARRIER_FL_NUM        False\n",
              "ORIGIN_AIRPORT_ID        False\n",
              "ORIGIN_AIRPORT_SEQ_ID    False\n",
              "ORIGIN                   False\n",
              "DEST_AIRPORT_ID          False\n",
              "DEST_AIRPORT_SEQ_ID      False\n",
              "DEST                     False\n",
              "DEP_TIME                  True\n",
              "DEP_DEL15                 True\n",
              "DEP_TIME_BLK             False\n",
              "ARR_TIME                  True\n",
              "ARR_DEL15                 True\n",
              "CANCELLED                False\n",
              "DIVERTED                 False\n",
              "DISTANCE                 False\n",
              "Unnamed: 21               True\n",
              "dtype: bool"
            ]
          },
          "metadata": {
            "tags": []
          },
          "execution_count": 45
        }
      ]
    },
    {
      "cell_type": "code",
      "metadata": {
        "id": "PpnvS_yzalco",
        "colab_type": "code",
        "outputId": "37422bbe-ff69-4f23-b2ba-8bf3f1fb6fe3",
        "colab": {
          "base_uri": "https://localhost:8080/",
          "height": 416
        }
      },
      "source": [
        "Jan_2020_ontime.apply(check_null)"
      ],
      "execution_count": 0,
      "outputs": [
        {
          "output_type": "execute_result",
          "data": {
            "text/plain": [
              "DAY_OF_MONTH             False\n",
              "DAY_OF_WEEK              False\n",
              "OP_UNIQUE_CARRIER        False\n",
              "OP_CARRIER_AIRLINE_ID    False\n",
              "OP_CARRIER               False\n",
              "TAIL_NUM                  True\n",
              "OP_CARRIER_FL_NUM        False\n",
              "ORIGIN_AIRPORT_ID        False\n",
              "ORIGIN_AIRPORT_SEQ_ID    False\n",
              "ORIGIN                   False\n",
              "DEST_AIRPORT_ID          False\n",
              "DEST_AIRPORT_SEQ_ID      False\n",
              "DEST                     False\n",
              "DEP_TIME                  True\n",
              "DEP_DEL15                 True\n",
              "DEP_TIME_BLK             False\n",
              "ARR_TIME                  True\n",
              "ARR_DEL15                 True\n",
              "CANCELLED                False\n",
              "DIVERTED                 False\n",
              "DISTANCE                 False\n",
              "Unnamed: 21               True\n",
              "dtype: bool"
            ]
          },
          "metadata": {
            "tags": []
          },
          "execution_count": 46
        }
      ]
    },
    {
      "cell_type": "code",
      "metadata": {
        "id": "1ixkV_ZVfXqP",
        "colab_type": "code",
        "outputId": "d61288c1-ad88-4da2-be49-486629554a69",
        "colab": {
          "base_uri": "https://localhost:8080/",
          "height": 260
        }
      },
      "source": [
        "#count missing values in each column\n",
        "missing_value_columns=['TAIL_NUM','DEP_TIME','DEP_DEL15','ARR_TIME','ARR_DEL15','Unnamed: 21']\n",
        "print('In 2019')\n",
        "for columns in missing_value_columns:\n",
        "  miss_val= len(Jan_2019_ontime[Jan_2019_ontime[columns].isnull()])\n",
        "  l= len(Jan_2019_ontime)\n",
        "  print(columns,' has ',miss_val,' missing values over ', l, ', which accounts ',miss_val/l*100,'%')\n",
        "print('In 2020')\n",
        "for columns in missing_value_columns:\n",
        "  miss_val= len(Jan_2020_ontime[Jan_2020_ontime[columns].isnull()])\n",
        "  l= len(Jan_2020_ontime)\n",
        "  print(columns,' has ',miss_val,' missing values over ', l, ', which accounts ',miss_val/l*100,'%')"
      ],
      "execution_count": 0,
      "outputs": [
        {
          "output_type": "stream",
          "text": [
            "In 2019\n",
            "TAIL_NUM  has  2543  missing values over  583985 , which accounts  0.4354563901470072 %\n",
            "DEP_TIME  has  16352  missing values over  583985 , which accounts  2.800071919655471 %\n",
            "DEP_DEL15  has  16355  missing values over  583985 , which accounts  2.800585631480261 %\n",
            "ARR_TIME  has  17061  missing values over  583985 , which accounts  2.9214791475808455 %\n",
            "ARR_DEL15  has  18022  missing values over  583985 , which accounts  3.086038168788582 %\n",
            "Unnamed: 21  has  583985  missing values over  583985 , which accounts  100.0 %\n",
            "In 2020\n",
            "TAIL_NUM  has  698  missing values over  607346 , which accounts  0.11492625291020274 %\n",
            "DEP_TIME  has  6664  missing values over  607346 , which accounts  1.09723287878738 %\n",
            "DEP_DEL15  has  6699  missing values over  607346 , which accounts  1.1029956565121035 %\n",
            "ARR_TIME  has  7075  missing values over  607346 , which accounts  1.164904354354849 %\n",
            "ARR_DEL15  has  8078  missing values over  607346 , which accounts  1.3300490988662146 %\n",
            "Unnamed: 21  has  607346  missing values over  607346 , which accounts  100.0 %\n"
          ],
          "name": "stdout"
        }
      ]
    },
    {
      "cell_type": "markdown",
      "metadata": {
        "id": "Af5F9Yxxj8Jf",
        "colab_type": "text"
      },
      "source": [
        "**Unnamed: 21** column has 100% of missing values so it is useless, we drop it. And other columns have also missing values but accounting quite small so we can replace missing value which average or most frequent values of each column"
      ]
    },
    {
      "cell_type": "code",
      "metadata": {
        "id": "dTMMYI39hSqS",
        "colab_type": "code",
        "colab": {}
      },
      "source": [
        "Jan_2019_ontime.drop(['Unnamed: 21'],axis=1, inplace= True)\n",
        "Jan_2020_ontime.drop(['Unnamed: 21'],axis=1, inplace= True)"
      ],
      "execution_count": 0,
      "outputs": []
    },
    {
      "cell_type": "code",
      "metadata": {
        "id": "Iypk4sCQkVyc",
        "colab_type": "code",
        "outputId": "abac01dc-6785-4d06-c979-3e25de273a8f",
        "colab": {
          "base_uri": "https://localhost:8080/",
          "height": 222
        }
      },
      "source": [
        "Jan_2019_ontime.head()"
      ],
      "execution_count": 0,
      "outputs": [
        {
          "output_type": "execute_result",
          "data": {
            "text/html": [
              "<div>\n",
              "<style scoped>\n",
              "    .dataframe tbody tr th:only-of-type {\n",
              "        vertical-align: middle;\n",
              "    }\n",
              "\n",
              "    .dataframe tbody tr th {\n",
              "        vertical-align: top;\n",
              "    }\n",
              "\n",
              "    .dataframe thead th {\n",
              "        text-align: right;\n",
              "    }\n",
              "</style>\n",
              "<table border=\"1\" class=\"dataframe\">\n",
              "  <thead>\n",
              "    <tr style=\"text-align: right;\">\n",
              "      <th></th>\n",
              "      <th>DAY_OF_MONTH</th>\n",
              "      <th>DAY_OF_WEEK</th>\n",
              "      <th>OP_UNIQUE_CARRIER</th>\n",
              "      <th>OP_CARRIER_AIRLINE_ID</th>\n",
              "      <th>OP_CARRIER</th>\n",
              "      <th>TAIL_NUM</th>\n",
              "      <th>OP_CARRIER_FL_NUM</th>\n",
              "      <th>ORIGIN_AIRPORT_ID</th>\n",
              "      <th>ORIGIN_AIRPORT_SEQ_ID</th>\n",
              "      <th>ORIGIN</th>\n",
              "      <th>DEST_AIRPORT_ID</th>\n",
              "      <th>DEST_AIRPORT_SEQ_ID</th>\n",
              "      <th>DEST</th>\n",
              "      <th>DEP_TIME</th>\n",
              "      <th>DEP_DEL15</th>\n",
              "      <th>DEP_TIME_BLK</th>\n",
              "      <th>ARR_TIME</th>\n",
              "      <th>ARR_DEL15</th>\n",
              "      <th>CANCELLED</th>\n",
              "      <th>DIVERTED</th>\n",
              "      <th>DISTANCE</th>\n",
              "    </tr>\n",
              "  </thead>\n",
              "  <tbody>\n",
              "    <tr>\n",
              "      <th>0</th>\n",
              "      <td>1</td>\n",
              "      <td>2</td>\n",
              "      <td>9E</td>\n",
              "      <td>20363</td>\n",
              "      <td>9E</td>\n",
              "      <td>N8688C</td>\n",
              "      <td>3280</td>\n",
              "      <td>11953</td>\n",
              "      <td>1195302</td>\n",
              "      <td>GNV</td>\n",
              "      <td>10397</td>\n",
              "      <td>1039707</td>\n",
              "      <td>ATL</td>\n",
              "      <td>601.0</td>\n",
              "      <td>0.0</td>\n",
              "      <td>0600-0659</td>\n",
              "      <td>722.0</td>\n",
              "      <td>0.0</td>\n",
              "      <td>0.0</td>\n",
              "      <td>0.0</td>\n",
              "      <td>300.0</td>\n",
              "    </tr>\n",
              "    <tr>\n",
              "      <th>1</th>\n",
              "      <td>1</td>\n",
              "      <td>2</td>\n",
              "      <td>9E</td>\n",
              "      <td>20363</td>\n",
              "      <td>9E</td>\n",
              "      <td>N348PQ</td>\n",
              "      <td>3281</td>\n",
              "      <td>13487</td>\n",
              "      <td>1348702</td>\n",
              "      <td>MSP</td>\n",
              "      <td>11193</td>\n",
              "      <td>1119302</td>\n",
              "      <td>CVG</td>\n",
              "      <td>1359.0</td>\n",
              "      <td>0.0</td>\n",
              "      <td>1400-1459</td>\n",
              "      <td>1633.0</td>\n",
              "      <td>0.0</td>\n",
              "      <td>0.0</td>\n",
              "      <td>0.0</td>\n",
              "      <td>596.0</td>\n",
              "    </tr>\n",
              "    <tr>\n",
              "      <th>2</th>\n",
              "      <td>1</td>\n",
              "      <td>2</td>\n",
              "      <td>9E</td>\n",
              "      <td>20363</td>\n",
              "      <td>9E</td>\n",
              "      <td>N8896A</td>\n",
              "      <td>3282</td>\n",
              "      <td>11433</td>\n",
              "      <td>1143302</td>\n",
              "      <td>DTW</td>\n",
              "      <td>11193</td>\n",
              "      <td>1119302</td>\n",
              "      <td>CVG</td>\n",
              "      <td>1215.0</td>\n",
              "      <td>0.0</td>\n",
              "      <td>1200-1259</td>\n",
              "      <td>1329.0</td>\n",
              "      <td>0.0</td>\n",
              "      <td>0.0</td>\n",
              "      <td>0.0</td>\n",
              "      <td>229.0</td>\n",
              "    </tr>\n",
              "    <tr>\n",
              "      <th>3</th>\n",
              "      <td>1</td>\n",
              "      <td>2</td>\n",
              "      <td>9E</td>\n",
              "      <td>20363</td>\n",
              "      <td>9E</td>\n",
              "      <td>N8886A</td>\n",
              "      <td>3283</td>\n",
              "      <td>15249</td>\n",
              "      <td>1524906</td>\n",
              "      <td>TLH</td>\n",
              "      <td>10397</td>\n",
              "      <td>1039707</td>\n",
              "      <td>ATL</td>\n",
              "      <td>1521.0</td>\n",
              "      <td>0.0</td>\n",
              "      <td>1500-1559</td>\n",
              "      <td>1625.0</td>\n",
              "      <td>0.0</td>\n",
              "      <td>0.0</td>\n",
              "      <td>0.0</td>\n",
              "      <td>223.0</td>\n",
              "    </tr>\n",
              "    <tr>\n",
              "      <th>4</th>\n",
              "      <td>1</td>\n",
              "      <td>2</td>\n",
              "      <td>9E</td>\n",
              "      <td>20363</td>\n",
              "      <td>9E</td>\n",
              "      <td>N8974C</td>\n",
              "      <td>3284</td>\n",
              "      <td>10397</td>\n",
              "      <td>1039707</td>\n",
              "      <td>ATL</td>\n",
              "      <td>11778</td>\n",
              "      <td>1177801</td>\n",
              "      <td>FSM</td>\n",
              "      <td>1847.0</td>\n",
              "      <td>0.0</td>\n",
              "      <td>1900-1959</td>\n",
              "      <td>1940.0</td>\n",
              "      <td>0.0</td>\n",
              "      <td>0.0</td>\n",
              "      <td>0.0</td>\n",
              "      <td>579.0</td>\n",
              "    </tr>\n",
              "  </tbody>\n",
              "</table>\n",
              "</div>"
            ],
            "text/plain": [
              "   DAY_OF_MONTH  DAY_OF_WEEK OP_UNIQUE_CARRIER  ...  CANCELLED DIVERTED DISTANCE\n",
              "0             1            2                9E  ...        0.0      0.0    300.0\n",
              "1             1            2                9E  ...        0.0      0.0    596.0\n",
              "2             1            2                9E  ...        0.0      0.0    229.0\n",
              "3             1            2                9E  ...        0.0      0.0    223.0\n",
              "4             1            2                9E  ...        0.0      0.0    579.0\n",
              "\n",
              "[5 rows x 21 columns]"
            ]
          },
          "metadata": {
            "tags": []
          },
          "execution_count": 62
        }
      ]
    },
    {
      "cell_type": "code",
      "metadata": {
        "id": "qlC4FVf-mCt3",
        "colab_type": "code",
        "colab": {}
      },
      "source": [
        "#['TAIL_NUM','DEP_TIME','DEP_DEL15','ARR_TIME','ARR_DEL15'], tail_num, dep_del15, arr_del15, replace with most freqent values, others is average\n",
        "most_frequent_columns=['TAIL_NUM','DEP_DEL15','ARR_DEL15']\n",
        "avg_values_columns=['DEP_TIME','ARR_TIME']\n",
        "for columns in most_frequent_columns:\n",
        "  Jan_2019_ontime[columns] = Jan_2019_ontime[columns].fillna(method='ffill')\n",
        "  Jan_2020_ontime[columns] = Jan_2020_ontime[columns].fillna(method='ffill')\n",
        "for columns in avg_values_columns:\n",
        "  Jan_2019_ontime[columns] = Jan_2019_ontime[columns].fillna(Jan_2019_ontime[columns].mean())\n",
        "  Jan_2020_ontime[columns] = Jan_2020_ontime[columns].fillna(Jan_2020_ontime[columns].mean())"
      ],
      "execution_count": 0,
      "outputs": []
    },
    {
      "cell_type": "code",
      "metadata": {
        "id": "avuGaXM2n3Kl",
        "colab_type": "code",
        "outputId": "929666c1-3811-4f14-fb27-9560da7f0776",
        "colab": {
          "base_uri": "https://localhost:8080/",
          "height": 399
        }
      },
      "source": [
        "# check after filling missing values\n",
        "def check_null(x):\n",
        "  return any(x.isnull())\n",
        "Jan_2020_ontime.apply(check_null)"
      ],
      "execution_count": 0,
      "outputs": [
        {
          "output_type": "execute_result",
          "data": {
            "text/plain": [
              "DAY_OF_MONTH             False\n",
              "DAY_OF_WEEK              False\n",
              "OP_UNIQUE_CARRIER        False\n",
              "OP_CARRIER_AIRLINE_ID    False\n",
              "OP_CARRIER               False\n",
              "TAIL_NUM                 False\n",
              "OP_CARRIER_FL_NUM        False\n",
              "ORIGIN_AIRPORT_ID        False\n",
              "ORIGIN_AIRPORT_SEQ_ID    False\n",
              "ORIGIN                   False\n",
              "DEST_AIRPORT_ID          False\n",
              "DEST_AIRPORT_SEQ_ID      False\n",
              "DEST                     False\n",
              "DEP_TIME                 False\n",
              "DEP_DEL15                False\n",
              "DEP_TIME_BLK             False\n",
              "ARR_TIME                 False\n",
              "ARR_DEL15                False\n",
              "CANCELLED                False\n",
              "DIVERTED                 False\n",
              "DISTANCE                 False\n",
              "dtype: bool"
            ]
          },
          "metadata": {
            "tags": []
          },
          "execution_count": 68
        }
      ]
    },
    {
      "cell_type": "markdown",
      "metadata": {
        "id": "FAROasc0of9j",
        "colab_type": "text"
      },
      "source": [
        "ok, no missing values any more"
      ]
    },
    {
      "cell_type": "code",
      "metadata": {
        "id": "5Lkyt3MSn3JF",
        "colab_type": "code",
        "outputId": "e960db97-fff8-4cc6-9454-2993b11235b3",
        "colab": {
          "base_uri": "https://localhost:8080/",
          "height": 222
        }
      },
      "source": [
        "Jan_2019_ontime.head()"
      ],
      "execution_count": 0,
      "outputs": [
        {
          "output_type": "execute_result",
          "data": {
            "text/html": [
              "<div>\n",
              "<style scoped>\n",
              "    .dataframe tbody tr th:only-of-type {\n",
              "        vertical-align: middle;\n",
              "    }\n",
              "\n",
              "    .dataframe tbody tr th {\n",
              "        vertical-align: top;\n",
              "    }\n",
              "\n",
              "    .dataframe thead th {\n",
              "        text-align: right;\n",
              "    }\n",
              "</style>\n",
              "<table border=\"1\" class=\"dataframe\">\n",
              "  <thead>\n",
              "    <tr style=\"text-align: right;\">\n",
              "      <th></th>\n",
              "      <th>DAY_OF_MONTH</th>\n",
              "      <th>DAY_OF_WEEK</th>\n",
              "      <th>OP_UNIQUE_CARRIER</th>\n",
              "      <th>OP_CARRIER_AIRLINE_ID</th>\n",
              "      <th>OP_CARRIER</th>\n",
              "      <th>TAIL_NUM</th>\n",
              "      <th>OP_CARRIER_FL_NUM</th>\n",
              "      <th>ORIGIN_AIRPORT_ID</th>\n",
              "      <th>ORIGIN_AIRPORT_SEQ_ID</th>\n",
              "      <th>ORIGIN</th>\n",
              "      <th>DEST_AIRPORT_ID</th>\n",
              "      <th>DEST_AIRPORT_SEQ_ID</th>\n",
              "      <th>DEST</th>\n",
              "      <th>DEP_TIME</th>\n",
              "      <th>DEP_DEL15</th>\n",
              "      <th>DEP_TIME_BLK</th>\n",
              "      <th>ARR_TIME</th>\n",
              "      <th>ARR_DEL15</th>\n",
              "      <th>CANCELLED</th>\n",
              "      <th>DIVERTED</th>\n",
              "      <th>DISTANCE</th>\n",
              "    </tr>\n",
              "  </thead>\n",
              "  <tbody>\n",
              "    <tr>\n",
              "      <th>0</th>\n",
              "      <td>1</td>\n",
              "      <td>2</td>\n",
              "      <td>9E</td>\n",
              "      <td>20363</td>\n",
              "      <td>9E</td>\n",
              "      <td>N8688C</td>\n",
              "      <td>3280</td>\n",
              "      <td>11953</td>\n",
              "      <td>1195302</td>\n",
              "      <td>GNV</td>\n",
              "      <td>10397</td>\n",
              "      <td>1039707</td>\n",
              "      <td>ATL</td>\n",
              "      <td>601.0</td>\n",
              "      <td>0.0</td>\n",
              "      <td>0600-0659</td>\n",
              "      <td>722.0</td>\n",
              "      <td>0.0</td>\n",
              "      <td>0.0</td>\n",
              "      <td>0.0</td>\n",
              "      <td>300.0</td>\n",
              "    </tr>\n",
              "    <tr>\n",
              "      <th>1</th>\n",
              "      <td>1</td>\n",
              "      <td>2</td>\n",
              "      <td>9E</td>\n",
              "      <td>20363</td>\n",
              "      <td>9E</td>\n",
              "      <td>N348PQ</td>\n",
              "      <td>3281</td>\n",
              "      <td>13487</td>\n",
              "      <td>1348702</td>\n",
              "      <td>MSP</td>\n",
              "      <td>11193</td>\n",
              "      <td>1119302</td>\n",
              "      <td>CVG</td>\n",
              "      <td>1359.0</td>\n",
              "      <td>0.0</td>\n",
              "      <td>1400-1459</td>\n",
              "      <td>1633.0</td>\n",
              "      <td>0.0</td>\n",
              "      <td>0.0</td>\n",
              "      <td>0.0</td>\n",
              "      <td>596.0</td>\n",
              "    </tr>\n",
              "    <tr>\n",
              "      <th>2</th>\n",
              "      <td>1</td>\n",
              "      <td>2</td>\n",
              "      <td>9E</td>\n",
              "      <td>20363</td>\n",
              "      <td>9E</td>\n",
              "      <td>N8896A</td>\n",
              "      <td>3282</td>\n",
              "      <td>11433</td>\n",
              "      <td>1143302</td>\n",
              "      <td>DTW</td>\n",
              "      <td>11193</td>\n",
              "      <td>1119302</td>\n",
              "      <td>CVG</td>\n",
              "      <td>1215.0</td>\n",
              "      <td>0.0</td>\n",
              "      <td>1200-1259</td>\n",
              "      <td>1329.0</td>\n",
              "      <td>0.0</td>\n",
              "      <td>0.0</td>\n",
              "      <td>0.0</td>\n",
              "      <td>229.0</td>\n",
              "    </tr>\n",
              "    <tr>\n",
              "      <th>3</th>\n",
              "      <td>1</td>\n",
              "      <td>2</td>\n",
              "      <td>9E</td>\n",
              "      <td>20363</td>\n",
              "      <td>9E</td>\n",
              "      <td>N8886A</td>\n",
              "      <td>3283</td>\n",
              "      <td>15249</td>\n",
              "      <td>1524906</td>\n",
              "      <td>TLH</td>\n",
              "      <td>10397</td>\n",
              "      <td>1039707</td>\n",
              "      <td>ATL</td>\n",
              "      <td>1521.0</td>\n",
              "      <td>0.0</td>\n",
              "      <td>1500-1559</td>\n",
              "      <td>1625.0</td>\n",
              "      <td>0.0</td>\n",
              "      <td>0.0</td>\n",
              "      <td>0.0</td>\n",
              "      <td>223.0</td>\n",
              "    </tr>\n",
              "    <tr>\n",
              "      <th>4</th>\n",
              "      <td>1</td>\n",
              "      <td>2</td>\n",
              "      <td>9E</td>\n",
              "      <td>20363</td>\n",
              "      <td>9E</td>\n",
              "      <td>N8974C</td>\n",
              "      <td>3284</td>\n",
              "      <td>10397</td>\n",
              "      <td>1039707</td>\n",
              "      <td>ATL</td>\n",
              "      <td>11778</td>\n",
              "      <td>1177801</td>\n",
              "      <td>FSM</td>\n",
              "      <td>1847.0</td>\n",
              "      <td>0.0</td>\n",
              "      <td>1900-1959</td>\n",
              "      <td>1940.0</td>\n",
              "      <td>0.0</td>\n",
              "      <td>0.0</td>\n",
              "      <td>0.0</td>\n",
              "      <td>579.0</td>\n",
              "    </tr>\n",
              "  </tbody>\n",
              "</table>\n",
              "</div>"
            ],
            "text/plain": [
              "   DAY_OF_MONTH  DAY_OF_WEEK OP_UNIQUE_CARRIER  ...  CANCELLED DIVERTED DISTANCE\n",
              "0             1            2                9E  ...        0.0      0.0    300.0\n",
              "1             1            2                9E  ...        0.0      0.0    596.0\n",
              "2             1            2                9E  ...        0.0      0.0    229.0\n",
              "3             1            2                9E  ...        0.0      0.0    223.0\n",
              "4             1            2                9E  ...        0.0      0.0    579.0\n",
              "\n",
              "[5 rows x 21 columns]"
            ]
          },
          "metadata": {
            "tags": []
          },
          "execution_count": 69
        }
      ]
    },
    {
      "cell_type": "code",
      "metadata": {
        "id": "dNa-SvrXqZ4_",
        "colab_type": "code",
        "outputId": "82c0afa9-55e4-471a-ce8f-435a68d50531",
        "colab": {
          "base_uri": "https://localhost:8080/",
          "height": 297
        }
      },
      "source": [
        "sns.scatterplot(x=Jan_2019_ontime['ARR_TIME'],y= Jan_2019_ontime['DISTANCE'])"
      ],
      "execution_count": 0,
      "outputs": [
        {
          "output_type": "execute_result",
          "data": {
            "text/plain": [
              "<matplotlib.axes._subplots.AxesSubplot at 0x7f3d606d3748>"
            ]
          },
          "metadata": {
            "tags": []
          },
          "execution_count": 70
        },
        {
          "output_type": "display_data",
          "data": {
            "image/png": "[encoded data removed]",
            "text/plain": [
              "<Figure size 432x288 with 1 Axes>"
            ]
          },
          "metadata": {
            "tags": [],
            "needs_background": "light"
          }
        }
      ]
    },
    {
      "cell_type": "markdown",
      "metadata": {
        "id": "ueCSTVtrqm-K",
        "colab_type": "text"
      },
      "source": [
        "It's normal. The time of flight depends on distance"
      ]
    },
    {
      "cell_type": "markdown",
      "metadata": {
        "id": "lk8N_0bjq8yI",
        "colab_type": "text"
      },
      "source": [
        "Now we drop some useless columns to build a model to predict the delay of some flights"
      ]
    },
    {
      "cell_type": "code",
      "metadata": {
        "id": "oYmeIvk-qZ4F",
        "colab_type": "code",
        "colab": {}
      },
      "source": [
        "useless_columns= ['TAIL_NUM','ORIGIN_AIRPORT_ID','DEST_AIRPORT_ID','DEP_TIME_BLK','CANCELLED']\n",
        "X = pd.concat([Jan_2019_ontime,Jan_2020_ontime])\n",
        "y = X['CANCELLED'].copy()\n",
        "X.drop(useless_columns,axis=1, inplace=True)"
      ],
      "execution_count": 0,
      "outputs": []
    },
    {
      "cell_type": "markdown",
      "metadata": {
        "id": "xAtMl5ndtUQo",
        "colab_type": "text"
      },
      "source": [
        "Ok, let use some model to predict the delay"
      ]
    },
    {
      "cell_type": "code",
      "metadata": {
        "id": "qfB0pMRUtDdT",
        "colab_type": "code",
        "outputId": "a89bf554-ee0f-4e4c-efe7-315336808458",
        "colab": {
          "base_uri": "https://localhost:8080/",
          "height": 52
        }
      },
      "source": [
        "from sklearn.model_selection import train_test_split\n",
        "from sklearn.preprocessing import StandardScaler\n",
        "import tensorflow as tf\n",
        "from tensorflow import keras\n",
        "np.random.seed(42)\n",
        "X_train, X_test, y_train, y_test= train_test_split(X, y , test_size=0.2,random_state=42)\n",
        "print(X_train.shape)\n",
        "print(X_test.shape)"
      ],
      "execution_count": 0,
      "outputs": [
        {
          "output_type": "stream",
          "text": [
            "(953064, 16)\n",
            "(238267, 16)\n"
          ],
          "name": "stdout"
        }
      ]
    },
    {
      "cell_type": "code",
      "metadata": {
        "id": "wKttayC2uW80",
        "colab_type": "code",
        "colab": {}
      },
      "source": [
        "from sklearn.preprocessing import OneHotEncoder\n",
        "from sklearn.pipeline import Pipeline\n",
        "from sklearn.compose import ColumnTransformer\n",
        "from sklearn.base import BaseEstimator,TransformerMixin\n",
        "\n",
        "# Create a class to select numerical or categorical columns \n",
        "class OldDataFrameSelector(BaseEstimator, TransformerMixin):\n",
        "    def __init__(self, attribute_names):\n",
        "        self.attribute_names = attribute_names\n",
        "    def fit(self, X, y=None):\n",
        "        return self\n",
        "    def transform(self, X):\n",
        "        return X[self.attribute_names].values"
      ],
      "execution_count": 0,
      "outputs": []
    },
    {
      "cell_type": "code",
      "metadata": {
        "id": "M0Mj-p6lvDSs",
        "colab_type": "code",
        "outputId": "fc536d1f-11ef-44d1-c41a-afcbcb5441c8",
        "colab": {
          "base_uri": "https://localhost:8080/",
          "height": 312
        }
      },
      "source": [
        "#check data type of each columns\n",
        "X.dtypes"
      ],
      "execution_count": 0,
      "outputs": [
        {
          "output_type": "execute_result",
          "data": {
            "text/plain": [
              "DAY_OF_MONTH               int64\n",
              "DAY_OF_WEEK                int64\n",
              "OP_UNIQUE_CARRIER         object\n",
              "OP_CARRIER_AIRLINE_ID      int64\n",
              "OP_CARRIER                object\n",
              "OP_CARRIER_FL_NUM          int64\n",
              "ORIGIN_AIRPORT_SEQ_ID      int64\n",
              "ORIGIN                    object\n",
              "DEST_AIRPORT_SEQ_ID        int64\n",
              "DEST                      object\n",
              "DEP_TIME                 float64\n",
              "DEP_DEL15                float64\n",
              "ARR_TIME                 float64\n",
              "ARR_DEL15                float64\n",
              "DIVERTED                 float64\n",
              "DISTANCE                 float64\n",
              "dtype: object"
            ]
          },
          "metadata": {
            "tags": []
          },
          "execution_count": 77
        }
      ]
    },
    {
      "cell_type": "code",
      "metadata": {
        "id": "Btif6wXauW7U",
        "colab_type": "code",
        "colab": {}
      },
      "source": [
        "#X_num contain numerical columns and no labels\n",
        "cat_attribs = ['OP_UNIQUE_CARRIER','OP_CARRIER','ORIGIN','DEST']\n",
        "X_num= X.drop(cat_attribs, axis = 1)\n",
        "num_attribs = list(X_num)\n",
        "\n",
        "numerical_pipeline = Pipeline([\n",
        "        ('selector', OldDataFrameSelector(num_attribs)),\n",
        "        ('std_scaler', StandardScaler()),\n",
        "    ])\n",
        "\n",
        "categorical_pipeline = Pipeline([\n",
        "        ('selector', OldDataFrameSelector(cat_attribs)),\n",
        "        ('cat_encoder', OneHotEncoder(sparse=False)),\n",
        "    ])\n",
        "\n",
        "from sklearn.pipeline import FeatureUnion\n",
        "\n",
        "full_pipeline = FeatureUnion(transformer_list=[\n",
        "        (\"num_pipeline\", numerical_pipeline),\n",
        "        (\"cat_pipeline\", categorical_pipeline),\n",
        "    ])\n",
        "X_prepared= full_pipeline.fit_transform(X_train)\n",
        "X_test_prepared= full_pipeline.transform(X_test)"
      ],
      "execution_count": 0,
      "outputs": []
    },
    {
      "cell_type": "code",
      "metadata": {
        "id": "R8KseZEWxTtD",
        "colab_type": "code",
        "colab": {}
      },
      "source": [
        "from sklearn.metrics import confusion_matrix,precision_score, recall_score\n",
        "def evaluate_model_classifier(y_train, y_predict):\n",
        "  print('Confusion matrix: ', confusion_matrix(y_train, y_predict))\n",
        "  print('Precision score: ', precision_score(y_train, y_predict))\n",
        "  print('Recall score: ', recall_score(y_train, y_predict))\n",
        "  sns.heatmap(pd.DataFrame(confusion_matrix(y_train, y_predict)))\n",
        "  plt.show()"
      ],
      "execution_count": 0,
      "outputs": []
    },
    {
      "cell_type": "code",
      "metadata": {
        "id": "0kYGzY2F0F8D",
        "colab_type": "code",
        "outputId": "4b056cc4-9425-4288-c0b8-abb14d022199",
        "colab": {
          "base_uri": "https://localhost:8080/",
          "height": 473
        }
      },
      "source": [
        "from sklearn.linear_model import LogisticRegression\n",
        "\n",
        "lr= LogisticRegression(max_iter=100)\n",
        "lr.fit(X_prepared,y_train)\n",
        "y_predict= lr.predict(X_test_prepared)\n",
        "evaluate_model_classifier(y_test, y_predict)"
      ],
      "execution_count": 0,
      "outputs": [
        {
          "output_type": "stream",
          "text": [
            "/usr/local/lib/python3.6/dist-packages/sklearn/linear_model/_logistic.py:940: ConvergenceWarning: lbfgs failed to converge (status=1):\n",
            "STOP: TOTAL NO. of ITERATIONS REACHED LIMIT.\n",
            "\n",
            "Increase the number of iterations (max_iter) or scale the data as shown in:\n",
            "    https://scikit-learn.org/stable/modules/preprocessing.html\n",
            "Please also refer to the documentation for alternative solver options:\n",
            "    https://scikit-learn.org/stable/modules/linear_model.html#logistic-regression\n",
            "  extra_warning_msg=_LOGISTIC_SOLVER_CONVERGENCE_MSG)\n"
          ],
          "name": "stderr"
        },
        {
          "output_type": "stream",
          "text": [
            "Confusion matrix:  [[233443     10]\n",
            " [  4812      2]]\n",
            "Precision score:  0.16666666666666666\n",
            "Recall score:  0.0004154549231408392\n"
          ],
          "name": "stdout"
        },
        {
          "output_type": "display_data",
          "data": {
            "image/png": "[encoded data removed]",
            "text/plain": [
              "<Figure size 432x288 with 2 Axes>"
            ]
          },
          "metadata": {
            "tags": [],
            "needs_background": "light"
          }
        }
      ]
    },
    {
      "cell_type": "code",
      "metadata": {
        "id": "TkSl2fnN28JQ",
        "colab_type": "code",
        "outputId": "fdd6d327-156b-4b9b-e081-510958c9d90c",
        "colab": {
          "base_uri": "https://localhost:8080/",
          "height": 389
        }
      },
      "source": [
        "from sklearn.linear_model import SGDClassifier\n",
        "\n",
        "sgdc= SGDClassifier()\n",
        "sgdc.fit(X_prepared,y_train)\n",
        "y_pred = sgdc.predict(X_test_prepared)\n",
        "evaluate_model_classifier(y_test,y_pred)"
      ],
      "execution_count": 0,
      "outputs": [
        {
          "output_type": "stream",
          "text": [
            "Confusion matrix:  [[233453      0]\n",
            " [  4814      0]]\n",
            "Precision score:  0.0\n"
          ],
          "name": "stdout"
        },
        {
          "output_type": "stream",
          "text": [
            "/usr/local/lib/python3.6/dist-packages/sklearn/metrics/_classification.py:1272: UndefinedMetricWarning: Precision is ill-defined and being set to 0.0 due to no predicted samples. Use `zero_division` parameter to control this behavior.\n",
            "  _warn_prf(average, modifier, msg_start, len(result))\n"
          ],
          "name": "stderr"
        },
        {
          "output_type": "stream",
          "text": [
            "Recall score:  0.0\n"
          ],
          "name": "stdout"
        },
        {
          "output_type": "display_data",
          "data": {
            "image/png": "[encoded data removed]",
            "text/plain": [
              "<Figure size 432x288 with 2 Axes>"
            ]
          },
          "metadata": {
            "tags": [],
            "needs_background": "light"
          }
        }
      ]
    }
  ]
}